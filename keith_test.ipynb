{
 "cells": [
  {
   "cell_type": "code",
   "execution_count": null,
   "metadata": {},
   "outputs": [],
   "source": [
    "import pandas as pd\n",
    "import warnings\n",
    "from unidecode import unidecode\n",
    "from sportsreference.ncaab.roster import Player\n",
    "from re import search\n",
    "from tqdm import tqdm, tqdm_notebook\n",
    "import numpy as np\n",
    "warnings.filterwarnings('ignore')"
   ]
  },
  {
   "cell_type": "code",
   "execution_count": null,
   "metadata": {},
   "outputs": [],
   "source": [
    "from sportsreference.ncaab.roster import Player"
   ]
  },
  {
   "cell_type": "code",
   "execution_count": null,
   "metadata": {},
   "outputs": [],
   "source": [
    "pd.set_option('display.max_columns', 999)\n",
    "pd.set_option('display.max_rows', 500)"
   ]
  },
  {
   "cell_type": "code",
   "execution_count": null,
   "metadata": {},
   "outputs": [],
   "source": [
    "df = pd.read_csv(\"NBA_data.csv\")"
   ]
  },
  {
   "cell_type": "code",
   "execution_count": null,
   "metadata": {},
   "outputs": [],
   "source": [
    "#remove accents \n",
    "clean_player = [unidecode(player) for player in df[\"Player\"]]\n",
    "clean_player[:10]"
   ]
  },
  {
   "cell_type": "code",
   "execution_count": null,
   "metadata": {},
   "outputs": [],
   "source": [
    "#make player ids\n",
    "suffix = \"-1\"\n",
    "makes_ids = [player.replace(\".\", \"\").replace(\"'\", \"\").replace(\" \", \"-\").lower()+suffix for player in clean_player]\n",
    "makes_ids[:10]"
   ]
  },
  {
   "cell_type": "code",
   "execution_count": null,
   "metadata": {},
   "outputs": [],
   "source": [
    "#see which players are generating errors when trying to call college data \n",
    "for player in makes_ids:\n",
    "    try:\n",
    "        college = Player(player)\n",
    "    except:\n",
    "        print(f'Error for {player} in index # {makes_ids.index(player)}')\n",
    "        \n"
   ]
  },
  {
   "cell_type": "markdown",
   "metadata": {},
   "source": [
    "#exceptions\n",
    "deeandre hullett, cc 23\n",
    "kedrick brown, cc, 78\n",
    "ronald murray, cc, 93\n",
    "qyntel woods, cc, 128\n",
    "jerome beasely, cc, 139\n",
    "donta smith, cc, 172\n",
    "luc-richard-mbah-a-moute-1, 337\n",
    "bill-walker-1, 343\n",
    "patrick-mills-1, 398\n",
    "jeff-pendergraph-1, 403\n",
    "bj-mullens-1, 424\n",
    "bernard james, cc, 533\n",
    "thomas-robinson-2, 555\n",
    "ricky ledo, cc, 579\n",
    "roy-devyn-marble-1, 644\n",
    "kyle-anderson-3, 650\n",
    "stephen-zimmermanjr-1, 720\n",
    "kahlil-felder-1, 732\n",
    "jakob-poeltl-1, 748\n",
    "taurean-prince-1, 750\n",
    "edrice-adebayo-1, 799\n",
    "malik-milton-1, 830\n",
    "raymond-spalding-1, 831\n",
    "marvin-bagleyiii-1, 839\n",
    "lonnie-walker-2, 853"
   ]
  },
  {
   "cell_type": "code",
   "execution_count": null,
   "metadata": {},
   "outputs": [],
   "source": [
    "#make list to fix incorrect player id's \n",
    "replace = [('luc-richard-mbah-a-moute-1', 337), ('bill-walker-1', 343), ('patrick-mills-1', 398), ('jeff-pendergraph-1', 403), \n",
    "          ('bj-mullens-1', 424),('thomas-robinson-2', 555), ('roy-devyn-marble-1', 644), ('kyle-anderson-3', 650), \n",
    "           ('stephen-zimmermanjr-1', 720), ('kahlil-felder-1', 732),('jakob-poeltl-1', 748), ('taurean-prince-1', 750),\n",
    "           ('edrice-adebayo-1', 799), ('malik-milton-1', 830),('raymond-spalding-1', 831), ('marvin-bagleyiii-1', 839),\n",
    "           ('lonnie-walker-2', 853)]"
   ]
  },
  {
   "cell_type": "code",
   "execution_count": null,
   "metadata": {},
   "outputs": [],
   "source": [
    "#replace incorrect id's\n",
    "for player in replace:\n",
    "    makes_ids[player[1]] = player[0]"
   ]
  },
  {
   "cell_type": "code",
   "execution_count": null,
   "metadata": {},
   "outputs": [],
   "source": [
    "#test corrected list \n",
    "makes_ids[337]"
   ]
  },
  {
   "cell_type": "code",
   "execution_count": null,
   "metadata": {},
   "outputs": [],
   "source": [
    "#list players to remove\n",
    "remove = ['deeandre-hulett-1', 'kedrick-brown-1', 'ronald-murray-1', 'qyntel-woods-1',\n",
    "'jerome-beasley-1', 'donta-smith-1','bernard-james-1', 'ricky-ledo-1']\n",
    "no_cc = [player for player in makes_ids if player not in remove] \n",
    "len(no_cc)"
   ]
  },
  {
   "cell_type": "code",
   "execution_count": null,
   "metadata": {},
   "outputs": [],
   "source": [
    "#list index of players to remove\n",
    "remove_nums = [23, 78, 93, 128, 139, 172, 533, 579]"
   ]
  },
  {
   "cell_type": "code",
   "execution_count": null,
   "metadata": {},
   "outputs": [],
   "source": [
    "#remove same index rows from df\n",
    "clean_df = df.drop(remove_nums)"
   ]
  },
  {
   "cell_type": "code",
   "execution_count": null,
   "metadata": {},
   "outputs": [],
   "source": [
    "#add Player_id column to lean NBA stats df\n",
    "clean_df['Player_id'] = no_cc"
   ]
  },
  {
   "cell_type": "code",
   "execution_count": null,
   "metadata": {},
   "outputs": [],
   "source": [
    "#get colleges of players to make sure we have the correct players\n",
    "college_list = []\n",
    "for player in tqdm_notebook(clean_df[\"Player_id\"]):\n",
    "    try:\n",
    "        college = Player(player).team_abbreviation\n",
    "        college_list.append(college)\n",
    "    except:\n",
    "        print(f'Error for {player}')\n",
    "        "
   ]
  },
  {
   "cell_type": "code",
   "execution_count": null,
   "metadata": {},
   "outputs": [],
   "source": [
    "#replace hyphenated shcool names\n",
    "college_list = [school.replace(\"-\", \" \") for school in college_list]"
   ]
  },
  {
   "cell_type": "code",
   "execution_count": null,
   "metadata": {},
   "outputs": [],
   "source": [
    "#add to clean_df\n",
    "clean_df['College_id'] = college_list"
   ]
  },
  {
   "cell_type": "code",
   "execution_count": null,
   "metadata": {},
   "outputs": [],
   "source": [
    "#fix college abbreviations\n",
    "clean_df[\"College_id\"]= (clean_df[\"College_id\"]\n",
    ".replace(\"connecticut\", \"uconn\").replace(\"louisiana state\", \"lsu\").replace(\"southern california\", \"usc\")\n",
    ".replace('north carolina', 'unc').replace('southern methodist', 'smu').replace('brigham young', 'byu')\n",
    ".replace('nevada las vegas', 'unlv').replace('mississippi', 'ole miss').replace('north carolina state', 'nc state')\n",
    ".replace('massachusetts', 'umass').replace('pittsburgh', 'pitt').replace('louisiana lafayette', 'la-lafayette'))\n"
   ]
  },
  {
   "cell_type": "code",
   "execution_count": null,
   "metadata": {},
   "outputs": [],
   "source": [
    "#convert College column to lower case \n",
    "clean_df['College'] = clean_df['College'].str.lower() "
   ]
  },
  {
   "cell_type": "code",
   "execution_count": null,
   "metadata": {},
   "outputs": [],
   "source": [
    "#create word column used for college matching\n",
    "word = [words.split()[0] for words in clean_df['College_id']]\n",
    "clean_df['word'] = word"
   ]
  },
  {
   "cell_type": "code",
   "execution_count": null,
   "metadata": {},
   "outputs": [],
   "source": [
    "def college_wrong(df):\n",
    "    global wrong_players\n",
    "    wrong_palyers = []\n",
    "    for index, row in df.iterrows():\n",
    "    if search(row[\"word\"], row[\"College\"]):\n",
    "        print(row[\"Player\"], \"at \", index, \" matches\")\n",
    "    else:\n",
    "        print(row[\"Player\"], \"at \", index, \" does NOT match\")\n",
    "        wrong_players.append((row[\"Player\"]))\n",
    "    "
   ]
  },
  {
   "cell_type": "code",
   "execution_count": null,
   "metadata": {},
   "outputs": [],
   "source": [
    "wrong_players = []\n",
    "for index, row in clean_df.iterrows():\n",
    "    if search(row[\"word\"], row[\"College\"]):\n",
    "        print(row[\"Player\"], \"at \", index, \" matches\")\n",
    "    else:\n",
    "        print(row[\"Player\"], \"at \", index, \" does NOT match\")\n",
    "        wrong_players.append((row[\"Player\"]))\n"
   ]
  },
  {
   "cell_type": "code",
   "execution_count": null,
   "metadata": {},
   "outputs": [],
   "source": [
    "len(wrong_players)"
   ]
  },
  {
   "cell_type": "code",
   "execution_count": null,
   "metadata": {},
   "outputs": [],
   "source": [
    "select = clean_df[\"Player\"].isin(wrong_players)\n",
    "wrong_df = clean_df[select]"
   ]
  },
  {
   "cell_type": "code",
   "execution_count": null,
   "metadata": {},
   "outputs": [],
   "source": [
    "#create list of players to remove\n",
    "remove2 = ['ernest-brown-1', 'cory-hightower-1', ]"
   ]
  },
  {
   "cell_type": "code",
   "execution_count": null,
   "metadata": {},
   "outputs": [],
   "source": [
    "#create list of player ids to update\n",
    "replace = [('ken-johnson-1', 'ken-johnson-2'), ('mike-dunleavy-1', 'mike-dunleavy-2'), ('david-young-1','dave-young-1'),\n",
    "          ('bobby-jones-1', 'bobby-jones-2'), ('dee-brown-1', 'dee-brown-2'), ('gerald-henderson-1', 'gerald-henderson-2'),\n",
    "          ('james-johnson-1', 'james-johnson-2'), ('wesley-johnson-1', 'wes-johnson-1'),\n",
    "          ('james-anderson-1', 'james-anderson-3'), ('derrick-williams-1', 'derrick-williams-2'),\n",
    "          ('tristan-thompson-1','tristan-thompson-2'), ('jordan-hamilton-1', 'jordan-hamilton-2'),\n",
    "          ('mike-scott-1', 'mike-scott-4'), ('justin-hamilton-1', 'justin-hamilton-2'), ('anthony-davis-1', 'anthony-davis-5'),\n",
    "          ('jared-cunningham-1', 'jared-cunningham-2'), ('ray-mccallum-1', 'ray-mccallum-2'), ('glen-rice-1', 'glen-rice-jr-1'),\n",
    "          ('ryan-kelly-1', 'ryan-kelly-3'), ('reggie-bullock-1', 'reggie-bullock-2'), ('tim-hardaway-1', 'tim-hardaway-jr-1'),\n",
    "          ('glenn-robinson-1', 'glenn-robinson-2'),('joe-harris-1', 'joe-harris--1'),\n",
    "          ('marcus-thornton-1', 'marcus-thornton-3'), ('joe-young-1', 'joseph-young-1'),\n",
    "          ('josh-richardson-1', 'josh-richardson-2'), ('anthony-brown-1', 'anthony-brown-5'), ('aaron-white-1','aaron-white-3'),\n",
    "          ('devin-booker-1', 'devin-booker-2'), ('larry-nance-1', 'larry-nance-2'),\n",
    "          ('demetrius-jackson-1', 'demetrius-jackson-2'), ('sterling-brown-1', 'sterling-brown-2'),\n",
    "          ('frank-jackson-1', 'frank-jackson-2'), ('josh-jackson-1', 'josh-jackson-2'), ('dennis-smith-1', 'dennis-smithjr-1'),\n",
    "          ('justin-jackson-1', 'justin-jackson-4'), ('justin-jackson-1', 'justin-jackson-5'),\n",
    "          ('bruce-brown-1', 'bruce-brown-2'), ('gary-trent-1', 'gary-trentjr-1'), ('vince-edwards-1', 'vince-edwards-2'),\n",
    "          ('troy-brown-1', 'troy-brown-5'), ('jaren-jackson-1', 'jaren-jacksonjr-1'), \n",
    "          ('wendell-carter-1', 'wendell-carterjr-1'),('jerome-robinson-1', 'jerome-robinson-2'),\n",
    "          ('marcus-williams-1', 'marcus-williams-2'), ('michael-porter-1', 'michael-porterjr-1'),\n",
    "          ('robert-williams-1', 'robert-williams-3')\n",
    "          ]"
   ]
  },
  {
   "cell_type": "code",
   "execution_count": null,
   "metadata": {},
   "outputs": [],
   "source": [
    "#update player ids in clean_df\n",
    "for player in replace:\n",
    "    clean_df.replace(to_replace = player[0],\n",
    "                    value = player[1], inplace = True)"
   ]
  },
  {
   "cell_type": "code",
   "execution_count": null,
   "metadata": {},
   "outputs": [],
   "source": [
    "#input justin jackson 5\n",
    "clean_df.loc[812, 'Player_id'] = 'justin-jackson-5'"
   ]
  },
  {
   "cell_type": "code",
   "execution_count": null,
   "metadata": {},
   "outputs": [],
   "source": [
    "#remove players not in NCAA\n",
    "clean_df = clean_df[~clean_df['Player_id'].isin(remove2)]"
   ]
  },
  {
   "cell_type": "code",
   "execution_count": null,
   "metadata": {},
   "outputs": [],
   "source": [
    "#test player ids one more time\n",
    "college_list = []\n",
    "for player in tqdm_notebook(clean_df[\"Player_id\"]):\n",
    "    try:\n",
    "        college = Player(player).team_abbreviation\n",
    "        college_list.append(college)\n",
    "    except:\n",
    "        print(f'Error for {player}')\n",
    "        "
   ]
  },
  {
   "cell_type": "code",
   "execution_count": null,
   "metadata": {},
   "outputs": [],
   "source": [
    "#replace hyphenated shcool names\n",
    "college_list = [school.replace(\"-\", \" \") for school in college_list]"
   ]
  },
  {
   "cell_type": "code",
   "execution_count": null,
   "metadata": {},
   "outputs": [],
   "source": [
    "#add to clean_df\n",
    "clean_df['College_id'] = college_list"
   ]
  },
  {
   "cell_type": "code",
   "execution_count": 333,
   "metadata": {},
   "outputs": [],
   "source": [
    "def college_abv(df):\n",
    "    df[\"College_id\"]= (df[\"College_id\"]\n",
    "                             .replace(\"connecticut\", \"uconn\").replace(\"louisiana state\", \"lsu\")\n",
    "                             .replace(\"southern california\", \"usc\")\n",
    "                             .replace('north carolina', 'unc').replace('southern methodist', 'smu')\n",
    "                             .replace('brigham young', 'byu').replace('nevada las vegas', 'unlv')\n",
    "                             .replace('mississippi', 'ole miss').replace('north carolina state', 'nc state')\n",
    "                             .replace('massachusetts', 'umass').replace('pittsburgh', 'pitt')\n",
    "                             .replace('louisiana lafayette', 'la-lafayette'))"
   ]
  },
  {
   "cell_type": "code",
   "execution_count": null,
   "metadata": {},
   "outputs": [],
   "source": [
    "#fix college abbreviations\n",
    "college_abv(clean_df)"
   ]
  },
  {
   "cell_type": "code",
   "execution_count": 339,
   "metadata": {},
   "outputs": [],
   "source": [
    "#create function to prepare college test\n",
    "def college_prep(df):\n",
    "    word = [words.split()[0] for words in df['College_id']]\n",
    "    df['word'] = word\n",
    "    return df.head()\n",
    "    "
   ]
  },
  {
   "cell_type": "code",
   "execution_count": null,
   "metadata": {},
   "outputs": [],
   "source": [
    "#create word column used for college matching\n",
    "word = [words.split()[0] for words in clean_df['College_id']]\n",
    "clean_df['word'] = word"
   ]
  },
  {
   "cell_type": "code",
   "execution_count": null,
   "metadata": {},
   "outputs": [],
   "source": [
    "#test player ids one more time\n",
    "wrong_players = []\n",
    "for index, row in clean_df.iterrows():\n",
    "    if search(row[\"word\"], row[\"College\"]):\n",
    "        print(row[\"Player\"], \"at \", index, \" matches\")\n",
    "    else:\n",
    "        print(row[\"Player\"], \"at \", index, \" does NOT match\")\n",
    "        wrong_players.append((row[\"Player\"], index))"
   ]
  },
  {
   "cell_type": "code",
   "execution_count": null,
   "metadata": {},
   "outputs": [],
   "source": [
    "len(wrong_players)"
   ]
  },
  {
   "cell_type": "code",
   "execution_count": null,
   "metadata": {},
   "outputs": [],
   "source": [
    "#all 'wrong players' are fine in this case.\n",
    "wrong_players"
   ]
  },
  {
   "cell_type": "code",
   "execution_count": null,
   "metadata": {},
   "outputs": [],
   "source": [
    "#re-index clean_df\n",
    "clean_df.reset_index(drop=True, inplace=True)"
   ]
  },
  {
   "cell_type": "code",
   "execution_count": null,
   "metadata": {},
   "outputs": [],
   "source": [
    "#create  list to hold dictionary data and list for desired ncaa stats\n",
    "ncaa_data = []\n",
    "\n",
    "stats = ['player_id','name','assist_percentage', 'assists', 'block_percentage','blocks','effective_field_goal_percentage',\n",
    "        'field_goal_percentage', 'free_throw_attempt_rate', 'free_throw_percentage', 'minutes_played',\n",
    "        'points', 'steal_percentage', 'steals', 'three_point_percentage', 'three_pointers', 'total_rebound_percentage',\n",
    "         'total_rebounds', 'true_shooting_percentage', 'turnover_percentage','turnovers', 'usage_percentage', 'box_plus_minus', 'games_played', 'height', 'win_shares_per_40_minutes']\n",
    "\n"
   ]
  },
  {
   "cell_type": "code",
   "execution_count": null,
   "metadata": {},
   "outputs": [],
   "source": [
    "#insert player stats into ncaa_data\n",
    "ncaa_data = []\n",
    "for player in tqdm_notebook(clean_df[\"Player_id\"]):\n",
    "    ncaa = Player(player)\n",
    "    player_list = []\n",
    "    player_dict = {}\n",
    "    for stat in stats:\n",
    "        try:\n",
    "            var = eval(f'ncaa.{stat}')\n",
    "            player_list.append((stat, var))\n",
    "        except:\n",
    "            var = np.nan\n",
    "            print(player,stat, var)\n",
    "            player_list.append((stat, var))\n",
    "    player_dict.update(player_list)\n",
    "    ncaa_data.append(player_dict)\n",
    "    "
   ]
  },
  {
   "cell_type": "code",
   "execution_count": null,
   "metadata": {},
   "outputs": [],
   "source": [
    "#convert ncaa_data to df\n",
    "ncaa_df = pd.DataFrame(ncaa_data)\n"
   ]
  },
  {
   "cell_type": "code",
   "execution_count": null,
   "metadata": {},
   "outputs": [],
   "source": [
    "#add college to ncaa_df\n",
    "ncaa_df[\"college\"] = clean_df[\"College_id\"]\n",
    "ncaa_df[\"class\"] = clean_df[\"Class\"]"
   ]
  },
  {
   "cell_type": "code",
   "execution_count": null,
   "metadata": {},
   "outputs": [],
   "source": [
    "#create new dataframe which re-orders columns and drops those with a lot of NaN's\n",
    "ncaa2_df = ncaa_df[[\"player_id\", \"name\",  \"class\", \"college\", \"assists\", \"blocks\", \"effective_field_goal_percentage\",\n",
    "                    \"field_goal_percentage\", \"free_throw_attempt_rate\",\"free_throw_percentage\", \"games_played\", \"height\",\n",
    "                    \"minutes_played\", \"points\",\"steals\", \"three_point_percentage\", \"three_pointers\", \"total_rebounds\",\n",
    "                    \"true_shooting_percentage\", \"turnover_percentage\", \"turnovers\", \"win_shares_per_40_minutes\" ]]"
   ]
  },
  {
   "cell_type": "code",
   "execution_count": null,
   "metadata": {},
   "outputs": [],
   "source": [
    "ncaa2_df.fillna(ncaa2_df.mean(), inplace=True)"
   ]
  },
  {
   "cell_type": "code",
   "execution_count": null,
   "metadata": {},
   "outputs": [],
   "source": [
    "#stats per 40  list\n",
    "per_40 = [ \"assists\", \"blocks\", \"points\", \"steals\", \"three_pointers\", \"total_rebounds\", \"turnovers\"]"
   ]
  },
  {
   "cell_type": "code",
   "execution_count": null,
   "metadata": {},
   "outputs": [],
   "source": [
    "#add suffix for column titles\n",
    "suff = \"_per_40\"\n",
    "for_40 = [stat+suff for stat in per_40]"
   ]
  },
  {
   "cell_type": "code",
   "execution_count": null,
   "metadata": {},
   "outputs": [],
   "source": [
    "#zip two lists together\n",
    "combined_40 = list(zip(per_40,for_40))"
   ]
  },
  {
   "cell_type": "code",
   "execution_count": null,
   "metadata": {},
   "outputs": [],
   "source": [
    "#check combined list\n",
    "combined_40"
   ]
  },
  {
   "cell_type": "code",
   "execution_count": null,
   "metadata": {},
   "outputs": [],
   "source": [
    "#run for loop to create per_40 columns\n",
    "for stat in combined_40:\n",
    "    ncaa2_df[stat[1]] = (ncaa2_df[stat[0]] /ncaa2_df[\"minutes_played\"])*40"
   ]
  },
  {
   "cell_type": "code",
   "execution_count": null,
   "metadata": {},
   "outputs": [],
   "source": [
    "#fill nan's with column mean\n",
    "ncaa2_df.fillna(ncaa2_df.mean())"
   ]
  },
  {
   "cell_type": "code",
   "execution_count": null,
   "metadata": {},
   "outputs": [],
   "source": [
    "#convert height to inches\n",
    "\n",
    "height = [ guy.split('-') for guy in ncaa2_df[\"height\"]]\n",
    "inches = [(int(dim[0])*12) + int(dim[1]) for dim in height]"
   ]
  },
  {
   "cell_type": "code",
   "execution_count": null,
   "metadata": {},
   "outputs": [],
   "source": [
    "ncaa2_df['height'] = inches"
   ]
  },
  {
   "cell_type": "code",
   "execution_count": null,
   "metadata": {},
   "outputs": [],
   "source": [
    "#export to csv\n",
    "ncaa2_df.to_csv(\"NCAA_data.csv\",index = False, header = True)"
   ]
  },
  {
   "cell_type": "code",
   "execution_count": null,
   "metadata": {},
   "outputs": [],
   "source": [
    "ncaa2_df.head()"
   ]
  },
  {
   "cell_type": "code",
   "execution_count": null,
   "metadata": {},
   "outputs": [],
   "source": [
    "id_df = ncaa2_df[[\"player_id\", \"name\"]]\n",
    "id_df.rename(columns = {'name':'Player'}, inplace = True) "
   ]
  },
  {
   "cell_type": "code",
   "execution_count": null,
   "metadata": {},
   "outputs": [],
   "source": [
    "id_df.head()"
   ]
  },
  {
   "cell_type": "code",
   "execution_count": null,
   "metadata": {},
   "outputs": [],
   "source": [
    "nba_df = pd.merge(df, id_df, on='Player')"
   ]
  },
  {
   "cell_type": "code",
   "execution_count": null,
   "metadata": {},
   "outputs": [],
   "source": [
    "nba_df.to_csv(\"NBA_data.csv\",index = False, header = True)"
   ]
  },
  {
   "cell_type": "code",
   "execution_count": 379,
   "metadata": {},
   "outputs": [],
   "source": [
    "#pull in 2020 NBA Draft prospects\n",
    "df_2020 = pd.read_csv(\"2020_draft_data/2020_prospects.csv\")\n"
   ]
  },
  {
   "cell_type": "code",
   "execution_count": 380,
   "metadata": {},
   "outputs": [],
   "source": [
    "# Get rows where year == intl.\n",
    "intl = df_2020[ df_2020['Year'] == \"Intl.\" ].index\n",
    "\n",
    "# Delete these row indexes from dataFrame\n",
    "df_2020.drop(intl, inplace=True)"
   ]
  },
  {
   "cell_type": "code",
   "execution_count": 381,
   "metadata": {},
   "outputs": [
    {
     "data": {
      "text/html": [
       "<div>\n",
       "<style scoped>\n",
       "    .dataframe tbody tr th:only-of-type {\n",
       "        vertical-align: middle;\n",
       "    }\n",
       "\n",
       "    .dataframe tbody tr th {\n",
       "        vertical-align: top;\n",
       "    }\n",
       "\n",
       "    .dataframe thead th {\n",
       "        text-align: right;\n",
       "    }\n",
       "</style>\n",
       "<table border=\"1\" class=\"dataframe\">\n",
       "  <thead>\n",
       "    <tr style=\"text-align: right;\">\n",
       "      <th></th>\n",
       "      <th>Rank</th>\n",
       "      <th>Name</th>\n",
       "      <th>School</th>\n",
       "      <th>Year</th>\n",
       "    </tr>\n",
       "  </thead>\n",
       "  <tbody>\n",
       "    <tr>\n",
       "      <th>0</th>\n",
       "      <td>1</td>\n",
       "      <td>Anthony Edwards</td>\n",
       "      <td>Georgia</td>\n",
       "      <td>Fr.</td>\n",
       "    </tr>\n",
       "    <tr>\n",
       "      <th>1</th>\n",
       "      <td>2</td>\n",
       "      <td>James Wiseman</td>\n",
       "      <td>Memphis</td>\n",
       "      <td>Fr.</td>\n",
       "    </tr>\n",
       "    <tr>\n",
       "      <th>2</th>\n",
       "      <td>4</td>\n",
       "      <td>Obi Toppin</td>\n",
       "      <td>Dayton</td>\n",
       "      <td>So.</td>\n",
       "    </tr>\n",
       "    <tr>\n",
       "      <th>3</th>\n",
       "      <td>5</td>\n",
       "      <td>Jaden McDaniels</td>\n",
       "      <td>Washington</td>\n",
       "      <td>Fr.</td>\n",
       "    </tr>\n",
       "    <tr>\n",
       "      <th>4</th>\n",
       "      <td>6</td>\n",
       "      <td>Nico Mannion</td>\n",
       "      <td>Arizona</td>\n",
       "      <td>Fr.</td>\n",
       "    </tr>\n",
       "  </tbody>\n",
       "</table>\n",
       "</div>"
      ],
      "text/plain": [
       "   Rank             Name      School Year\n",
       "0     1  Anthony Edwards     Georgia  Fr.\n",
       "1     2    James Wiseman     Memphis  Fr.\n",
       "2     4       Obi Toppin      Dayton  So.\n",
       "3     5  Jaden McDaniels  Washington  Fr.\n",
       "4     6     Nico Mannion     Arizona  Fr."
      ]
     },
     "execution_count": 381,
     "metadata": {},
     "output_type": "execute_result"
    }
   ],
   "source": [
    "#re-index df\n",
    "df_2020.reset_index(drop=True, inplace=True)\n",
    "df_2020.head()"
   ]
  },
  {
   "cell_type": "code",
   "execution_count": 382,
   "metadata": {},
   "outputs": [],
   "source": [
    "#remove accents \n",
    "clean_player_2020 = [unidecode(player) for player in df_2020[\"Name\"]]"
   ]
  },
  {
   "cell_type": "code",
   "execution_count": 383,
   "metadata": {},
   "outputs": [],
   "source": [
    "#make player ids\n",
    "suffix = \"-1\"\n",
    "ids_2020 = [player.replace(\".\", \"\").replace(\"'\", \"\").replace(\" \", \"-\").lower()+suffix for player in clean_player_2020]"
   ]
  },
  {
   "cell_type": "code",
   "execution_count": 299,
   "metadata": {},
   "outputs": [
    {
     "data": {
      "application/vnd.jupyter.widget-view+json": {
       "model_id": "af734e4a250f4a0b8b5bdbe7ba6f6fdb",
       "version_major": 2,
       "version_minor": 0
      },
      "text/plain": [
       "HBox(children=(IntProgress(value=0, max=52), HTML(value='')))"
      ]
     },
     "metadata": {},
     "output_type": "display_data"
    },
    {
     "name": "stdout",
     "output_type": "stream",
     "text": [
      "Error for obi-toppin-1 in index # 2\n",
      "Error for vernon-carey-1 in index # 7\n",
      "Error for josh-green-1 in index # 11\n",
      "Error for jay-scrubb-1 in index # 28\n",
      "Error for nick-richards-1 in index # 31\n",
      "Error for derrick-alston-jr-1 in index # 42\n",
      "Error for cam-mack-1 in index # 51\n"
     ]
    }
   ],
   "source": [
    "#see which players are generating errors when trying to call college data \n",
    "for player in tqdm_notebook(ids_2020):\n",
    "    try:\n",
    "        college = Player(player)\n",
    "    except:\n",
    "        print(f'Error for {player} in index # {ids_2020.index(player)}')\n",
    "        "
   ]
  },
  {
   "cell_type": "markdown",
   "metadata": {},
   "source": [
    "obadiah-toppin-1\n",
    "vernon-careyjr-1\n",
    "josh-green-2\n",
    "remove jay scrubb\n",
    "nick-richards-2\n",
    "derrick-alston-2\n",
    "cameron-mack-1"
   ]
  },
  {
   "cell_type": "code",
   "execution_count": 384,
   "metadata": {},
   "outputs": [],
   "source": [
    "replace_2020 = [('obadiah-toppin-1', 2), ('vernon-careyjr-1', 7), ('josh-green-2', 11), ('nick-richards-2', 31), \n",
    "          ('derrick-alston-2', 42),('cameron-mack-1', 51)]"
   ]
  },
  {
   "cell_type": "code",
   "execution_count": 385,
   "metadata": {},
   "outputs": [],
   "source": [
    "#replace incorrect id's\n",
    "for player in replace_2020:\n",
    "    ids_2020[player[1]] = player[0]"
   ]
  },
  {
   "cell_type": "code",
   "execution_count": 386,
   "metadata": {},
   "outputs": [
    {
     "data": {
      "text/plain": [
       "'jay-scrubb-1'"
      ]
     },
     "execution_count": 386,
     "metadata": {},
     "output_type": "execute_result"
    }
   ],
   "source": [
    "#remove players not in NCAA\n",
    "df_2020 = df_2020.drop([28])\n",
    "ids_2020.pop(28)"
   ]
  },
  {
   "cell_type": "code",
   "execution_count": 387,
   "metadata": {},
   "outputs": [],
   "source": [
    "#reest index\n",
    "#re-index clean_df\n",
    "df_2020.reset_index(drop=True, inplace=True)"
   ]
  },
  {
   "cell_type": "code",
   "execution_count": 388,
   "metadata": {},
   "outputs": [
    {
     "data": {
      "text/html": [
       "<div>\n",
       "<style scoped>\n",
       "    .dataframe tbody tr th:only-of-type {\n",
       "        vertical-align: middle;\n",
       "    }\n",
       "\n",
       "    .dataframe tbody tr th {\n",
       "        vertical-align: top;\n",
       "    }\n",
       "\n",
       "    .dataframe thead th {\n",
       "        text-align: right;\n",
       "    }\n",
       "</style>\n",
       "<table border=\"1\" class=\"dataframe\">\n",
       "  <thead>\n",
       "    <tr style=\"text-align: right;\">\n",
       "      <th></th>\n",
       "      <th>Rank</th>\n",
       "      <th>Name</th>\n",
       "      <th>School</th>\n",
       "      <th>Year</th>\n",
       "    </tr>\n",
       "  </thead>\n",
       "  <tbody>\n",
       "    <tr>\n",
       "      <th>0</th>\n",
       "      <td>1</td>\n",
       "      <td>Anthony Edwards</td>\n",
       "      <td>Georgia</td>\n",
       "      <td>Fr.</td>\n",
       "    </tr>\n",
       "    <tr>\n",
       "      <th>1</th>\n",
       "      <td>2</td>\n",
       "      <td>James Wiseman</td>\n",
       "      <td>Memphis</td>\n",
       "      <td>Fr.</td>\n",
       "    </tr>\n",
       "    <tr>\n",
       "      <th>2</th>\n",
       "      <td>4</td>\n",
       "      <td>Obi Toppin</td>\n",
       "      <td>Dayton</td>\n",
       "      <td>So.</td>\n",
       "    </tr>\n",
       "    <tr>\n",
       "      <th>3</th>\n",
       "      <td>5</td>\n",
       "      <td>Jaden McDaniels</td>\n",
       "      <td>Washington</td>\n",
       "      <td>Fr.</td>\n",
       "    </tr>\n",
       "    <tr>\n",
       "      <th>4</th>\n",
       "      <td>6</td>\n",
       "      <td>Nico Mannion</td>\n",
       "      <td>Arizona</td>\n",
       "      <td>Fr.</td>\n",
       "    </tr>\n",
       "  </tbody>\n",
       "</table>\n",
       "</div>"
      ],
      "text/plain": [
       "   Rank             Name      School Year\n",
       "0     1  Anthony Edwards     Georgia  Fr.\n",
       "1     2    James Wiseman     Memphis  Fr.\n",
       "2     4       Obi Toppin      Dayton  So.\n",
       "3     5  Jaden McDaniels  Washington  Fr.\n",
       "4     6     Nico Mannion     Arizona  Fr."
      ]
     },
     "execution_count": 388,
     "metadata": {},
     "output_type": "execute_result"
    }
   ],
   "source": [
    "df_2020.head()"
   ]
  },
  {
   "cell_type": "code",
   "execution_count": 389,
   "metadata": {},
   "outputs": [],
   "source": [
    "df_2020['Player_id'] = ids_2020 "
   ]
  },
  {
   "cell_type": "code",
   "execution_count": 390,
   "metadata": {},
   "outputs": [
    {
     "data": {
      "text/html": [
       "<div>\n",
       "<style scoped>\n",
       "    .dataframe tbody tr th:only-of-type {\n",
       "        vertical-align: middle;\n",
       "    }\n",
       "\n",
       "    .dataframe tbody tr th {\n",
       "        vertical-align: top;\n",
       "    }\n",
       "\n",
       "    .dataframe thead th {\n",
       "        text-align: right;\n",
       "    }\n",
       "</style>\n",
       "<table border=\"1\" class=\"dataframe\">\n",
       "  <thead>\n",
       "    <tr style=\"text-align: right;\">\n",
       "      <th></th>\n",
       "      <th>Rank</th>\n",
       "      <th>Name</th>\n",
       "      <th>School</th>\n",
       "      <th>Year</th>\n",
       "      <th>Player_id</th>\n",
       "    </tr>\n",
       "  </thead>\n",
       "  <tbody>\n",
       "    <tr>\n",
       "      <th>0</th>\n",
       "      <td>1</td>\n",
       "      <td>Anthony Edwards</td>\n",
       "      <td>Georgia</td>\n",
       "      <td>Fr.</td>\n",
       "      <td>anthony-edwards-1</td>\n",
       "    </tr>\n",
       "    <tr>\n",
       "      <th>1</th>\n",
       "      <td>2</td>\n",
       "      <td>James Wiseman</td>\n",
       "      <td>Memphis</td>\n",
       "      <td>Fr.</td>\n",
       "      <td>james-wiseman-1</td>\n",
       "    </tr>\n",
       "    <tr>\n",
       "      <th>2</th>\n",
       "      <td>4</td>\n",
       "      <td>Obi Toppin</td>\n",
       "      <td>Dayton</td>\n",
       "      <td>So.</td>\n",
       "      <td>obadiah-toppin-1</td>\n",
       "    </tr>\n",
       "    <tr>\n",
       "      <th>3</th>\n",
       "      <td>5</td>\n",
       "      <td>Jaden McDaniels</td>\n",
       "      <td>Washington</td>\n",
       "      <td>Fr.</td>\n",
       "      <td>jaden-mcdaniels-1</td>\n",
       "    </tr>\n",
       "    <tr>\n",
       "      <th>4</th>\n",
       "      <td>6</td>\n",
       "      <td>Nico Mannion</td>\n",
       "      <td>Arizona</td>\n",
       "      <td>Fr.</td>\n",
       "      <td>nico-mannion-1</td>\n",
       "    </tr>\n",
       "  </tbody>\n",
       "</table>\n",
       "</div>"
      ],
      "text/plain": [
       "   Rank             Name      School Year          Player_id\n",
       "0     1  Anthony Edwards     Georgia  Fr.  anthony-edwards-1\n",
       "1     2    James Wiseman     Memphis  Fr.    james-wiseman-1\n",
       "2     4       Obi Toppin      Dayton  So.   obadiah-toppin-1\n",
       "3     5  Jaden McDaniels  Washington  Fr.  jaden-mcdaniels-1\n",
       "4     6     Nico Mannion     Arizona  Fr.     nico-mannion-1"
      ]
     },
     "execution_count": 390,
     "metadata": {},
     "output_type": "execute_result"
    }
   ],
   "source": [
    "df_2020.head()"
   ]
  },
  {
   "cell_type": "code",
   "execution_count": 391,
   "metadata": {},
   "outputs": [],
   "source": [
    "#define function to get player_id colleges\n",
    "def college_try(dataframe):\n",
    "    global college_list\n",
    "    college_list = []\n",
    "    for index, row in tqdm_notebook(dataframe.iterrows()):\n",
    "        try:\n",
    "            college =  Player(row[\"Player_id\"]).team_abbreviation\n",
    "            college_list.append(college)\n",
    "        except:\n",
    "            print('Error for', row[\"Player_id\"], 'at index #', index)\n"
   ]
  },
  {
   "cell_type": "code",
   "execution_count": 308,
   "metadata": {},
   "outputs": [
    {
     "data": {
      "application/vnd.jupyter.widget-view+json": {
       "model_id": "8fddf6ddf8254f25b87b2636e8bb9d86",
       "version_major": 2,
       "version_minor": 0
      },
      "text/plain": [
       "HBox(children=(IntProgress(value=1, bar_style='info', max=1), HTML(value='')))"
      ]
     },
     "metadata": {},
     "output_type": "display_data"
    },
    {
     "name": "stdout",
     "output_type": "stream",
     "text": [
      "Error for reggie-perry-1 at index # 22\n"
     ]
    }
   ],
   "source": [
    "college_try(df_2020)"
   ]
  },
  {
   "cell_type": "code",
   "execution_count": 392,
   "metadata": {},
   "outputs": [],
   "source": [
    "#insert correct value for player #22\n",
    "ids_2020[22] = 'reggie-perry-2' "
   ]
  },
  {
   "cell_type": "code",
   "execution_count": 393,
   "metadata": {},
   "outputs": [],
   "source": [
    "df_2020['Player_id'] = ids_2020 "
   ]
  },
  {
   "cell_type": "code",
   "execution_count": 394,
   "metadata": {},
   "outputs": [
    {
     "name": "stdout",
     "output_type": "stream",
     "text": [
      "51\n",
      "51\n"
     ]
    }
   ],
   "source": [
    "print(len(ids_2020))\n",
    "print(len(df_2020[\"Player_id\"]))"
   ]
  },
  {
   "cell_type": "code",
   "execution_count": 395,
   "metadata": {},
   "outputs": [
    {
     "data": {
      "application/vnd.jupyter.widget-view+json": {
       "model_id": "e356f3da343446458a26f16bc39d3540",
       "version_major": 2,
       "version_minor": 0
      },
      "text/plain": [
       "HBox(children=(IntProgress(value=1, bar_style='info', max=1), HTML(value='')))"
      ]
     },
     "metadata": {},
     "output_type": "display_data"
    }
   ],
   "source": [
    "#run college_try again\n",
    "college_try(df_2020)"
   ]
  },
  {
   "cell_type": "code",
   "execution_count": 396,
   "metadata": {},
   "outputs": [],
   "source": [
    "#replace hyphenated shcool names\n",
    "college_list = [school.replace(\"-\", \" \") for school in college_list]"
   ]
  },
  {
   "cell_type": "code",
   "execution_count": 397,
   "metadata": {},
   "outputs": [],
   "source": [
    "#add to  df\n",
    "df_2020['College_id'] = college_list"
   ]
  },
  {
   "cell_type": "code",
   "execution_count": 398,
   "metadata": {},
   "outputs": [],
   "source": [
    "college_abv(df_2020)"
   ]
  },
  {
   "cell_type": "code",
   "execution_count": 399,
   "metadata": {},
   "outputs": [
    {
     "data": {
      "text/html": [
       "<div>\n",
       "<style scoped>\n",
       "    .dataframe tbody tr th:only-of-type {\n",
       "        vertical-align: middle;\n",
       "    }\n",
       "\n",
       "    .dataframe tbody tr th {\n",
       "        vertical-align: top;\n",
       "    }\n",
       "\n",
       "    .dataframe thead th {\n",
       "        text-align: right;\n",
       "    }\n",
       "</style>\n",
       "<table border=\"1\" class=\"dataframe\">\n",
       "  <thead>\n",
       "    <tr style=\"text-align: right;\">\n",
       "      <th></th>\n",
       "      <th>Rank</th>\n",
       "      <th>Name</th>\n",
       "      <th>School</th>\n",
       "      <th>Year</th>\n",
       "      <th>Player_id</th>\n",
       "      <th>College_id</th>\n",
       "      <th>word</th>\n",
       "    </tr>\n",
       "  </thead>\n",
       "  <tbody>\n",
       "    <tr>\n",
       "      <th>0</th>\n",
       "      <td>1</td>\n",
       "      <td>Anthony Edwards</td>\n",
       "      <td>Georgia</td>\n",
       "      <td>Fr.</td>\n",
       "      <td>anthony-edwards-1</td>\n",
       "      <td>missouri state</td>\n",
       "      <td>missouri</td>\n",
       "    </tr>\n",
       "    <tr>\n",
       "      <th>1</th>\n",
       "      <td>2</td>\n",
       "      <td>James Wiseman</td>\n",
       "      <td>Memphis</td>\n",
       "      <td>Fr.</td>\n",
       "      <td>james-wiseman-1</td>\n",
       "      <td>memphis</td>\n",
       "      <td>memphis</td>\n",
       "    </tr>\n",
       "    <tr>\n",
       "      <th>2</th>\n",
       "      <td>4</td>\n",
       "      <td>Obi Toppin</td>\n",
       "      <td>Dayton</td>\n",
       "      <td>So.</td>\n",
       "      <td>obadiah-toppin-1</td>\n",
       "      <td>dayton</td>\n",
       "      <td>dayton</td>\n",
       "    </tr>\n",
       "    <tr>\n",
       "      <th>3</th>\n",
       "      <td>5</td>\n",
       "      <td>Jaden McDaniels</td>\n",
       "      <td>Washington</td>\n",
       "      <td>Fr.</td>\n",
       "      <td>jaden-mcdaniels-1</td>\n",
       "      <td>washington</td>\n",
       "      <td>washington</td>\n",
       "    </tr>\n",
       "    <tr>\n",
       "      <th>4</th>\n",
       "      <td>6</td>\n",
       "      <td>Nico Mannion</td>\n",
       "      <td>Arizona</td>\n",
       "      <td>Fr.</td>\n",
       "      <td>nico-mannion-1</td>\n",
       "      <td>arizona</td>\n",
       "      <td>arizona</td>\n",
       "    </tr>\n",
       "  </tbody>\n",
       "</table>\n",
       "</div>"
      ],
      "text/plain": [
       "   Rank             Name      School Year          Player_id      College_id  \\\n",
       "0     1  Anthony Edwards     Georgia  Fr.  anthony-edwards-1  missouri state   \n",
       "1     2    James Wiseman     Memphis  Fr.    james-wiseman-1         memphis   \n",
       "2     4       Obi Toppin      Dayton  So.   obadiah-toppin-1          dayton   \n",
       "3     5  Jaden McDaniels  Washington  Fr.  jaden-mcdaniels-1      washington   \n",
       "4     6     Nico Mannion     Arizona  Fr.     nico-mannion-1         arizona   \n",
       "\n",
       "         word  \n",
       "0    missouri  \n",
       "1     memphis  \n",
       "2      dayton  \n",
       "3  washington  \n",
       "4     arizona  "
      ]
     },
     "execution_count": 399,
     "metadata": {},
     "output_type": "execute_result"
    }
   ],
   "source": [
    "college_prep(df_2020)"
   ]
  },
  {
   "cell_type": "code",
   "execution_count": 400,
   "metadata": {},
   "outputs": [
    {
     "data": {
      "text/html": [
       "<div>\n",
       "<style scoped>\n",
       "    .dataframe tbody tr th:only-of-type {\n",
       "        vertical-align: middle;\n",
       "    }\n",
       "\n",
       "    .dataframe tbody tr th {\n",
       "        vertical-align: top;\n",
       "    }\n",
       "\n",
       "    .dataframe thead th {\n",
       "        text-align: right;\n",
       "    }\n",
       "</style>\n",
       "<table border=\"1\" class=\"dataframe\">\n",
       "  <thead>\n",
       "    <tr style=\"text-align: right;\">\n",
       "      <th></th>\n",
       "      <th>Rank</th>\n",
       "      <th>Name</th>\n",
       "      <th>School</th>\n",
       "      <th>Year</th>\n",
       "      <th>Player_id</th>\n",
       "      <th>College_id</th>\n",
       "      <th>word</th>\n",
       "    </tr>\n",
       "  </thead>\n",
       "  <tbody>\n",
       "    <tr>\n",
       "      <th>0</th>\n",
       "      <td>1</td>\n",
       "      <td>Anthony Edwards</td>\n",
       "      <td>georgia</td>\n",
       "      <td>Fr.</td>\n",
       "      <td>anthony-edwards-1</td>\n",
       "      <td>missouri state</td>\n",
       "      <td>missouri</td>\n",
       "    </tr>\n",
       "    <tr>\n",
       "      <th>1</th>\n",
       "      <td>2</td>\n",
       "      <td>James Wiseman</td>\n",
       "      <td>memphis</td>\n",
       "      <td>Fr.</td>\n",
       "      <td>james-wiseman-1</td>\n",
       "      <td>memphis</td>\n",
       "      <td>memphis</td>\n",
       "    </tr>\n",
       "    <tr>\n",
       "      <th>2</th>\n",
       "      <td>4</td>\n",
       "      <td>Obi Toppin</td>\n",
       "      <td>dayton</td>\n",
       "      <td>So.</td>\n",
       "      <td>obadiah-toppin-1</td>\n",
       "      <td>dayton</td>\n",
       "      <td>dayton</td>\n",
       "    </tr>\n",
       "    <tr>\n",
       "      <th>3</th>\n",
       "      <td>5</td>\n",
       "      <td>Jaden McDaniels</td>\n",
       "      <td>washington</td>\n",
       "      <td>Fr.</td>\n",
       "      <td>jaden-mcdaniels-1</td>\n",
       "      <td>washington</td>\n",
       "      <td>washington</td>\n",
       "    </tr>\n",
       "    <tr>\n",
       "      <th>4</th>\n",
       "      <td>6</td>\n",
       "      <td>Nico Mannion</td>\n",
       "      <td>arizona</td>\n",
       "      <td>Fr.</td>\n",
       "      <td>nico-mannion-1</td>\n",
       "      <td>arizona</td>\n",
       "      <td>arizona</td>\n",
       "    </tr>\n",
       "  </tbody>\n",
       "</table>\n",
       "</div>"
      ],
      "text/plain": [
       "   Rank             Name      School Year          Player_id      College_id  \\\n",
       "0     1  Anthony Edwards     georgia  Fr.  anthony-edwards-1  missouri state   \n",
       "1     2    James Wiseman     memphis  Fr.    james-wiseman-1         memphis   \n",
       "2     4       Obi Toppin      dayton  So.   obadiah-toppin-1          dayton   \n",
       "3     5  Jaden McDaniels  washington  Fr.  jaden-mcdaniels-1      washington   \n",
       "4     6     Nico Mannion     arizona  Fr.     nico-mannion-1         arizona   \n",
       "\n",
       "         word  \n",
       "0    missouri  \n",
       "1     memphis  \n",
       "2      dayton  \n",
       "3  washington  \n",
       "4     arizona  "
      ]
     },
     "execution_count": 400,
     "metadata": {},
     "output_type": "execute_result"
    }
   ],
   "source": [
    "#convert School column to lower case\n",
    "df_2020['School'] = df_2020['School'].str.lower()\n",
    "\n",
    "df_2020.head()"
   ]
  },
  {
   "cell_type": "code",
   "execution_count": 373,
   "metadata": {},
   "outputs": [
    {
     "name": "stdout",
     "output_type": "stream",
     "text": [
      "Anthony Edwards at  0  does NOT match\n",
      "James Wiseman at  1  matches\n",
      "Obi Toppin at  2  matches\n",
      "Jaden McDaniels at  3  matches\n",
      "Nico Mannion at  4  matches\n",
      "Daniel Oturu at  5  matches\n",
      "Cole Anthony at  6  does NOT match\n",
      "Vernon Carey at  7  matches\n",
      "Tyrese Haliburton at  8  matches\n",
      "Onyeka Okongwu at  9  matches\n",
      "Isaac Okoro at  10  matches\n",
      "Josh Green at  11  matches\n",
      "Zeke Nnaji at  12  matches\n",
      "Isaiah Stewart at  13  does NOT match\n",
      "Ashton Hagans at  14  matches\n",
      "Precious Achiuwa at  15  matches\n",
      "Aaron Nesmith at  16  matches\n",
      "Tyrese Maxey at  17  matches\n",
      "Jordan Nwora at  18  matches\n",
      "Ochai Agbaji at  19  matches\n",
      "Paul Reed at  20  does NOT match\n",
      "Jalen Smith at  21  matches\n",
      "Reggie Perry at  22  matches\n",
      "Devon Dotson at  23  matches\n",
      "Udoka Azubuike at  24  matches\n",
      "CJ Elleby at  25  matches\n",
      "Landers Nolley at  26  does NOT match\n",
      "Devin Vassell at  27  matches\n",
      "Cassius Stanley at  28  matches\n",
      "Saddiq Bey at  29  matches\n",
      "Nick Richards at  30  matches\n",
      "Elijah Hughes at  31  matches\n",
      "Tyler Bey at  32  matches\n",
      "Chris Smith at  33  does NOT match\n",
      "Omer Yurtseven at  34  matches\n",
      "Markus Howard at  35  matches\n",
      "Malachi Flynn at  36  matches\n",
      "Austin Wiley at  37  matches\n",
      "Payton Pritchard at  38  matches\n",
      "Steven Enoch at  39  matches\n",
      "Mamadi Diakite at  40  matches\n",
      "Derrick Alston Jr. at  41  matches\n",
      "Malik Fitts at  42  does NOT match\n",
      "Tre Jones at  43  matches\n",
      "Cassius Winston at  44  matches\n",
      "Lamar Stevens at  45  matches\n",
      "Killian Tillie at  46  matches\n",
      "Mustapha Heron at  47  matches\n",
      "Myles Powell at  48  matches\n",
      "Desmond Bane at  49  does NOT match\n",
      "Cam Mack at  50  matches\n"
     ]
    }
   ],
   "source": [
    "wrong_players = []\n",
    "for index, row in df_2020.iterrows():\n",
    "    if search(row[\"word\"], row[\"School\"]):\n",
    "        print(row[\"Name\"], \"at \", index, \" matches\")\n",
    "    else:\n",
    "        print(row[\"Name\"], \"at \", index, \" does NOT match\")\n",
    "        wrong_players.append((row[\"Name\"], index))"
   ]
  },
  {
   "cell_type": "code",
   "execution_count": 374,
   "metadata": {},
   "outputs": [
    {
     "data": {
      "text/plain": [
       "[('Anthony Edwards', 0),\n",
       " ('Cole Anthony', 6),\n",
       " ('Isaiah Stewart', 13),\n",
       " ('Paul Reed', 20),\n",
       " ('Landers Nolley', 26),\n",
       " ('Chris Smith', 33),\n",
       " ('Malik Fitts', 42),\n",
       " ('Desmond Bane', 49)]"
      ]
     },
     "execution_count": 374,
     "metadata": {},
     "output_type": "execute_result"
    }
   ],
   "source": [
    "wrong_players"
   ]
  },
  {
   "cell_type": "markdown",
   "metadata": {},
   "source": [
    "### players to replace\n",
    "anthony-edwards-2\n",
    "isaiah-stewart-2\n",
    "paul-reed-5\n",
    "landers-nolleyii-1\n",
    "chris-smith-19"
   ]
  },
  {
   "cell_type": "code",
   "execution_count": 401,
   "metadata": {},
   "outputs": [],
   "source": [
    "update_2020 = [('anthony-edwards-1', 'anthony-edwards-2'), ('isaiah-stewart-1','isaiah-stewart-2'),\n",
    "               ('paul-reed-1', 'paul-reed-5'),('landers-nolley-1', 'landers-nolleyii-1'),\n",
    "               ('chris-smith-19', 'chris-smith-19')]"
   ]
  },
  {
   "cell_type": "code",
   "execution_count": 402,
   "metadata": {},
   "outputs": [],
   "source": [
    "#update player ids \n",
    "for player in update_2020:\n",
    "    df_2020.replace(to_replace = player[0],\n",
    "                    value = player[1], inplace = True)"
   ]
  },
  {
   "cell_type": "code",
   "execution_count": 403,
   "metadata": {},
   "outputs": [
    {
     "data": {
      "text/html": [
       "<div>\n",
       "<style scoped>\n",
       "    .dataframe tbody tr th:only-of-type {\n",
       "        vertical-align: middle;\n",
       "    }\n",
       "\n",
       "    .dataframe tbody tr th {\n",
       "        vertical-align: top;\n",
       "    }\n",
       "\n",
       "    .dataframe thead th {\n",
       "        text-align: right;\n",
       "    }\n",
       "</style>\n",
       "<table border=\"1\" class=\"dataframe\">\n",
       "  <thead>\n",
       "    <tr style=\"text-align: right;\">\n",
       "      <th></th>\n",
       "      <th>Rank</th>\n",
       "      <th>Name</th>\n",
       "      <th>School</th>\n",
       "      <th>Year</th>\n",
       "      <th>Player_id</th>\n",
       "      <th>College_id</th>\n",
       "      <th>word</th>\n",
       "    </tr>\n",
       "  </thead>\n",
       "  <tbody>\n",
       "    <tr>\n",
       "      <th>0</th>\n",
       "      <td>1</td>\n",
       "      <td>Anthony Edwards</td>\n",
       "      <td>georgia</td>\n",
       "      <td>Fr.</td>\n",
       "      <td>anthony-edwards-2</td>\n",
       "      <td>missouri state</td>\n",
       "      <td>missouri</td>\n",
       "    </tr>\n",
       "    <tr>\n",
       "      <th>1</th>\n",
       "      <td>2</td>\n",
       "      <td>James Wiseman</td>\n",
       "      <td>memphis</td>\n",
       "      <td>Fr.</td>\n",
       "      <td>james-wiseman-1</td>\n",
       "      <td>memphis</td>\n",
       "      <td>memphis</td>\n",
       "    </tr>\n",
       "    <tr>\n",
       "      <th>2</th>\n",
       "      <td>4</td>\n",
       "      <td>Obi Toppin</td>\n",
       "      <td>dayton</td>\n",
       "      <td>So.</td>\n",
       "      <td>obadiah-toppin-1</td>\n",
       "      <td>dayton</td>\n",
       "      <td>dayton</td>\n",
       "    </tr>\n",
       "    <tr>\n",
       "      <th>3</th>\n",
       "      <td>5</td>\n",
       "      <td>Jaden McDaniels</td>\n",
       "      <td>washington</td>\n",
       "      <td>Fr.</td>\n",
       "      <td>jaden-mcdaniels-1</td>\n",
       "      <td>washington</td>\n",
       "      <td>washington</td>\n",
       "    </tr>\n",
       "    <tr>\n",
       "      <th>4</th>\n",
       "      <td>6</td>\n",
       "      <td>Nico Mannion</td>\n",
       "      <td>arizona</td>\n",
       "      <td>Fr.</td>\n",
       "      <td>nico-mannion-1</td>\n",
       "      <td>arizona</td>\n",
       "      <td>arizona</td>\n",
       "    </tr>\n",
       "  </tbody>\n",
       "</table>\n",
       "</div>"
      ],
      "text/plain": [
       "   Rank             Name      School Year          Player_id      College_id  \\\n",
       "0     1  Anthony Edwards     georgia  Fr.  anthony-edwards-2  missouri state   \n",
       "1     2    James Wiseman     memphis  Fr.    james-wiseman-1         memphis   \n",
       "2     4       Obi Toppin      dayton  So.   obadiah-toppin-1          dayton   \n",
       "3     5  Jaden McDaniels  washington  Fr.  jaden-mcdaniels-1      washington   \n",
       "4     6     Nico Mannion     arizona  Fr.     nico-mannion-1         arizona   \n",
       "\n",
       "         word  \n",
       "0    missouri  \n",
       "1     memphis  \n",
       "2      dayton  \n",
       "3  washington  \n",
       "4     arizona  "
      ]
     },
     "execution_count": 403,
     "metadata": {},
     "output_type": "execute_result"
    }
   ],
   "source": [
    "df_2020.head()"
   ]
  },
  {
   "cell_type": "code",
   "execution_count": 404,
   "metadata": {},
   "outputs": [
    {
     "data": {
      "application/vnd.jupyter.widget-view+json": {
       "model_id": "894fb85a12b043d5987e2958d25c183f",
       "version_major": 2,
       "version_minor": 0
      },
      "text/plain": [
       "HBox(children=(IntProgress(value=0, max=51), HTML(value='')))"
      ]
     },
     "metadata": {},
     "output_type": "display_data"
    }
   ],
   "source": [
    "#insert player stats into ncaa_data\n",
    "ncaa_data = []\n",
    "for player in tqdm_notebook(df_2020[\"Player_id\"]):\n",
    "    ncaa = Player(player)\n",
    "    player_list = []\n",
    "    player_dict = {}\n",
    "    for stat in stats:\n",
    "        try:\n",
    "            var = eval(f'ncaa.{stat}')\n",
    "            player_list.append((stat, var))\n",
    "        except:\n",
    "            var = np.nan\n",
    "            print(player,stat, var)\n",
    "            player_list.append((stat, var))\n",
    "    player_dict.update(player_list)\n",
    "    ncaa_data.append(player_dict)"
   ]
  },
  {
   "cell_type": "code",
   "execution_count": 405,
   "metadata": {},
   "outputs": [],
   "source": [
    "#convert ncaa_data to df\n",
    "draft_df = pd.DataFrame(ncaa_data)\n"
   ]
  },
  {
   "cell_type": "code",
   "execution_count": 406,
   "metadata": {},
   "outputs": [],
   "source": [
    "#add college to ncaa_df\n",
    "draft_df[\"college\"] = df_2020[\"College_id\"]\n"
   ]
  },
  {
   "cell_type": "code",
   "execution_count": 408,
   "metadata": {},
   "outputs": [],
   "source": [
    "draft2020_df = draft_df[[\"player_id\", \"name\", \"college\", \"assists\", \"blocks\", \"effective_field_goal_percentage\",\n",
    "                    \"field_goal_percentage\", \"free_throw_attempt_rate\",\"free_throw_percentage\", \"games_played\", \"height\",\n",
    "                    \"minutes_played\", \"points\",\"steals\", \"three_point_percentage\", \"three_pointers\", \"total_rebounds\",\n",
    "                    \"true_shooting_percentage\", \"turnover_percentage\", \"turnovers\", \"win_shares_per_40_minutes\" ]]"
   ]
  },
  {
   "cell_type": "code",
   "execution_count": 409,
   "metadata": {},
   "outputs": [],
   "source": [
    "draft2020_df.fillna(draft2020_df.mean(), inplace=True)"
   ]
  },
  {
   "cell_type": "code",
   "execution_count": 410,
   "metadata": {},
   "outputs": [],
   "source": [
    "for stat in combined_40:\n",
    "    draft2020_df[stat[1]] = (draft2020_df[stat[0]] /draft2020_df[\"minutes_played\"])*40"
   ]
  },
  {
   "cell_type": "code",
   "execution_count": 411,
   "metadata": {},
   "outputs": [],
   "source": [
    "height = [ guy.split('-') for guy in draft2020_df[\"height\"]]\n",
    "inches = [(int(dim[0])*12) + int(dim[1]) for dim in height]\n",
    "draft2020_df['height'] = inches"
   ]
  },
  {
   "cell_type": "code",
   "execution_count": 412,
   "metadata": {},
   "outputs": [],
   "source": [
    "draft2020_df.to_csv(\"Draft_data.csv\",index = False, header = True)"
   ]
  },
  {
   "cell_type": "code",
   "execution_count": null,
   "metadata": {},
   "outputs": [],
   "source": []
  }
 ],
 "metadata": {
  "kernelspec": {
   "display_name": "Python 3",
   "language": "python",
   "name": "python3"
  },
  "language_info": {
   "codemirror_mode": {
    "name": "ipython",
    "version": 3
   },
   "file_extension": ".py",
   "mimetype": "text/x-python",
   "name": "python",
   "nbconvert_exporter": "python",
   "pygments_lexer": "ipython3",
   "version": "3.7.3"
  }
 },
 "nbformat": 4,
 "nbformat_minor": 2
}

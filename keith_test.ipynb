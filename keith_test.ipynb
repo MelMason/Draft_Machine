{
 "cells": [
  {
   "cell_type": "code",
   "execution_count": null,
   "metadata": {},
   "outputs": [],
   "source": [
    "import pandas as pd\n",
    "import warnings\n",
    "from unidecode import unidecode\n",
    "from sportsreference.ncaab.roster import Player\n",
    "from re import search\n",
    "from tqdm import tqdm, tqdm_notebook\n",
    "import numpy as np\n",
    "warnings.filterwarnings('ignore')"
   ]
  },
  {
   "cell_type": "code",
   "execution_count": null,
   "metadata": {},
   "outputs": [],
   "source": [
    "from sportsreference.ncaab.roster import Player"
   ]
  },
  {
   "cell_type": "code",
   "execution_count": null,
   "metadata": {},
   "outputs": [],
   "source": [
    "pd.set_option('display.max_columns', 999)\n",
    "pd.set_option('display.max_rows', 500)"
   ]
  },
  {
   "cell_type": "code",
   "execution_count": null,
   "metadata": {},
   "outputs": [],
   "source": [
    "df = pd.read_csv(\"NBA_data.csv\")"
   ]
  },
  {
   "cell_type": "code",
   "execution_count": null,
   "metadata": {},
   "outputs": [],
   "source": [
    "#remove accents \n",
    "clean_player = [unidecode(player) for player in df[\"Player\"]]\n",
    "clean_player[:10]"
   ]
  },
  {
   "cell_type": "code",
   "execution_count": null,
   "metadata": {},
   "outputs": [],
   "source": [
    "#make player ids\n",
    "suffix = \"-1\"\n",
    "makes_ids = [player.replace(\".\", \"\").replace(\"'\", \"\").replace(\" \", \"-\").lower()+suffix for player in clean_player]\n",
    "makes_ids[:10]"
   ]
  },
  {
   "cell_type": "code",
   "execution_count": null,
   "metadata": {},
   "outputs": [],
   "source": [
    "#see which players are generating errors when trying to call college data \n",
    "for player in makes_ids:\n",
    "    try:\n",
    "        college = Player(player)\n",
    "    except:\n",
    "        print(f'Error for {player} in index # {makes_ids.index(player)}')\n",
    "        \n"
   ]
  },
  {
   "cell_type": "markdown",
   "metadata": {},
   "source": [
    "#exceptions\n",
    "deeandre hullett, cc 23\n",
    "kedrick brown, cc, 78\n",
    "ronald murray, cc, 93\n",
    "qyntel woods, cc, 128\n",
    "jerome beasely, cc, 139\n",
    "donta smith, cc, 172\n",
    "luc-richard-mbah-a-moute-1, 337\n",
    "bill-walker-1, 343\n",
    "patrick-mills-1, 398\n",
    "jeff-pendergraph-1, 403\n",
    "bj-mullens-1, 424\n",
    "bernard james, cc, 533\n",
    "thomas-robinson-2, 555\n",
    "ricky ledo, cc, 579\n",
    "roy-devyn-marble-1, 644\n",
    "kyle-anderson-3, 650\n",
    "stephen-zimmermanjr-1, 720\n",
    "kahlil-felder-1, 732\n",
    "jakob-poeltl-1, 748\n",
    "taurean-prince-1, 750\n",
    "edrice-adebayo-1, 799\n",
    "malik-milton-1, 830\n",
    "raymond-spalding-1, 831\n",
    "marvin-bagleyiii-1, 839\n",
    "lonnie-walker-2, 853"
   ]
  },
  {
   "cell_type": "code",
   "execution_count": null,
   "metadata": {},
   "outputs": [],
   "source": [
    "#make list to fix incorrect player id's \n",
    "replace = [('luc-richard-mbah-a-moute-1', 337), ('bill-walker-1', 343), ('patrick-mills-1', 398), ('jeff-pendergraph-1', 403), \n",
    "          ('bj-mullens-1', 424),('thomas-robinson-2', 555), ('roy-devyn-marble-1', 644), ('kyle-anderson-3', 650), \n",
    "           ('stephen-zimmermanjr-1', 720), ('kahlil-felder-1', 732),('jakob-poeltl-1', 748), ('taurean-prince-1', 750),\n",
    "           ('edrice-adebayo-1', 799), ('malik-milton-1', 830),('raymond-spalding-1', 831), ('marvin-bagleyiii-1', 839),\n",
    "           ('lonnie-walker-2', 853)]"
   ]
  },
  {
   "cell_type": "code",
   "execution_count": null,
   "metadata": {},
   "outputs": [],
   "source": [
    "#replace incorrect id's\n",
    "for player in replace:\n",
    "    makes_ids[player[1]] = player[0]"
   ]
  },
  {
   "cell_type": "code",
   "execution_count": null,
   "metadata": {},
   "outputs": [],
   "source": [
    "#list players to remove\n",
    "remove = ['deeandre-hulett-1', 'kedrick-brown-1', 'ronald-murray-1', 'qyntel-woods-1',\n",
    "'jerome-beasley-1', 'donta-smith-1','bernard-james-1', 'ricky-ledo-1']\n",
    "no_cc = [player for player in makes_ids if player not in remove] \n",
    "len(no_cc)"
   ]
  },
  {
   "cell_type": "code",
   "execution_count": null,
   "metadata": {},
   "outputs": [],
   "source": [
    "#list index of players to remove\n",
    "remove_nums = [23, 78, 93, 128, 139, 172, 533, 579]"
   ]
  },
  {
   "cell_type": "code",
   "execution_count": null,
   "metadata": {},
   "outputs": [],
   "source": [
    "#remove same index rows from df\n",
    "clean_df = df.drop(remove_nums)"
   ]
  },
  {
   "cell_type": "code",
   "execution_count": null,
   "metadata": {},
   "outputs": [],
   "source": [
    "#add Player_id column to lean NBA stats df\n",
    "clean_df['Player_id'] = no_cc"
   ]
  },
  {
   "cell_type": "code",
   "execution_count": null,
   "metadata": {},
   "outputs": [],
   "source": [
    "#get colleges of players to make sure we have the correct players\n",
    "college_list = []\n",
    "for player in tqdm_notebook(clean_df[\"Player_id\"]):\n",
    "    try:\n",
    "        college = Player(player).team_abbreviation\n",
    "        college_list.append(college)\n",
    "    except:\n",
    "        print(f'Error for {player}')\n",
    "        "
   ]
  },
  {
   "cell_type": "code",
   "execution_count": null,
   "metadata": {},
   "outputs": [],
   "source": [
    "#replace hyphenated shcool names\n",
    "college_list = [school.replace(\"-\", \" \") for school in college_list]"
   ]
  },
  {
   "cell_type": "code",
   "execution_count": null,
   "metadata": {},
   "outputs": [],
   "source": [
    "#add to clean_df\n",
    "clean_df['College_id'] = college_list"
   ]
  },
  {
   "cell_type": "code",
   "execution_count": null,
   "metadata": {},
   "outputs": [],
   "source": [
    "#fix college abbreviations\n",
    "clean_df[\"College_id\"]= (clean_df[\"College_id\"]\n",
    ".replace(\"connecticut\", \"uconn\").replace(\"louisiana state\", \"lsu\").replace(\"southern california\", \"usc\")\n",
    ".replace('north carolina', 'unc').replace('southern methodist', 'smu').replace('brigham young', 'byu')\n",
    ".replace('nevada las vegas', 'unlv').replace('mississippi', 'ole miss').replace('north carolina state', 'nc state')\n",
    ".replace('massachusetts', 'umass').replace('pittsburgh', 'pitt').replace('louisiana lafayette', 'la-lafayette'))\n"
   ]
  },
  {
   "cell_type": "code",
   "execution_count": null,
   "metadata": {},
   "outputs": [],
   "source": [
    "#convert College column to lower case \n",
    "clean_df['College'] = clean_df['College'].str.lower() "
   ]
  },
  {
   "cell_type": "code",
   "execution_count": null,
   "metadata": {},
   "outputs": [],
   "source": [
    "#create word column used for college matching\n",
    "word = [words.split()[0] for words in clean_df['College_id']]\n",
    "clean_df['word'] = word"
   ]
  },
  {
   "cell_type": "code",
   "execution_count": null,
   "metadata": {},
   "outputs": [],
   "source": [
    "def college_wrong(df):\n",
    "    global wrong_players\n",
    "    wrong_palyers = []\n",
    "    for index, row in df.iterrows():\n",
    "    if search(row[\"word\"], row[\"College\"]):\n",
    "        print(row[\"Player\"], \"at \", index, \" matches\")\n",
    "    else:\n",
    "        print(row[\"Player\"], \"at \", index, \" does NOT match\")\n",
    "        wrong_players.append((row[\"Player\"]))\n",
    "    "
   ]
  },
  {
   "cell_type": "code",
   "execution_count": null,
   "metadata": {},
   "outputs": [],
   "source": [
    "len(wrong_players)"
   ]
  },
  {
   "cell_type": "code",
   "execution_count": null,
   "metadata": {},
   "outputs": [],
   "source": [
    "select = clean_df[\"Player\"].isin(wrong_players)\n",
    "wrong_df = clean_df[select]"
   ]
  },
  {
   "cell_type": "code",
   "execution_count": null,
   "metadata": {},
   "outputs": [],
   "source": [
    "#create list of players to remove\n",
    "remove2 = ['ernest-brown-1', 'cory-hightower-1', ]"
   ]
  },
  {
   "cell_type": "code",
   "execution_count": null,
   "metadata": {},
   "outputs": [],
   "source": [
    "#create list of player ids to update\n",
    "replace = [('ken-johnson-1', 'ken-johnson-2'), ('mike-dunleavy-1', 'mike-dunleavy-2'), ('david-young-1','dave-young-1'),\n",
    "          ('bobby-jones-1', 'bobby-jones-2'), ('dee-brown-1', 'dee-brown-2'), ('gerald-henderson-1', 'gerald-henderson-2'),\n",
    "          ('james-johnson-1', 'james-johnson-2'), ('wesley-johnson-1', 'wes-johnson-1'),\n",
    "          ('james-anderson-1', 'james-anderson-3'), ('derrick-williams-1', 'derrick-williams-2'),\n",
    "          ('tristan-thompson-1','tristan-thompson-2'), ('jordan-hamilton-1', 'jordan-hamilton-2'),\n",
    "          ('mike-scott-1', 'mike-scott-4'), ('justin-hamilton-1', 'justin-hamilton-2'), ('anthony-davis-1', 'anthony-davis-5'),\n",
    "          ('jared-cunningham-1', 'jared-cunningham-2'), ('ray-mccallum-1', 'ray-mccallum-2'), ('glen-rice-1', 'glen-rice-jr-1'),\n",
    "          ('ryan-kelly-1', 'ryan-kelly-3'), ('reggie-bullock-1', 'reggie-bullock-2'), ('tim-hardaway-1', 'tim-hardaway-jr-1'),\n",
    "          ('glenn-robinson-1', 'glenn-robinson-2'),('joe-harris-1', 'joe-harris--1'),\n",
    "          ('marcus-thornton-1', 'marcus-thornton-3'), ('joe-young-1', 'joseph-young-1'),\n",
    "          ('josh-richardson-1', 'josh-richardson-2'), ('anthony-brown-1', 'anthony-brown-5'), ('aaron-white-1','aaron-white-3'),\n",
    "          ('devin-booker-1', 'devin-booker-2'), ('larry-nance-1', 'larry-nance-2'),\n",
    "          ('demetrius-jackson-1', 'demetrius-jackson-2'), ('sterling-brown-1', 'sterling-brown-2'),\n",
    "          ('frank-jackson-1', 'frank-jackson-2'), ('josh-jackson-1', 'josh-jackson-2'), ('dennis-smith-1', 'dennis-smithjr-1'),\n",
    "          ('justin-jackson-1', 'justin-jackson-4'), ('justin-jackson-1', 'justin-jackson-5'),\n",
    "          ('bruce-brown-1', 'bruce-brown-2'), ('gary-trent-1', 'gary-trentjr-1'), ('vince-edwards-1', 'vince-edwards-2'),\n",
    "          ('troy-brown-1', 'troy-brown-5'), ('jaren-jackson-1', 'jaren-jacksonjr-1'), \n",
    "          ('wendell-carter-1', 'wendell-carterjr-1'),('jerome-robinson-1', 'jerome-robinson-2'),\n",
    "          ('marcus-williams-1', 'marcus-williams-2'), ('michael-porter-1', 'michael-porterjr-1'),\n",
    "          ('robert-williams-1', 'robert-williams-3')\n",
    "          ]"
   ]
  },
  {
   "cell_type": "code",
   "execution_count": null,
   "metadata": {},
   "outputs": [],
   "source": [
    "#update player ids in clean_df\n",
    "for player in replace:\n",
    "    clean_df.replace(to_replace = player[0],\n",
    "                    value = player[1], inplace = True)"
   ]
  },
  {
   "cell_type": "code",
   "execution_count": null,
   "metadata": {},
   "outputs": [],
   "source": [
    "#input justin jackson 5\n",
    "clean_df.loc[812, 'Player_id'] = 'justin-jackson-5'"
   ]
  },
  {
   "cell_type": "code",
   "execution_count": null,
   "metadata": {},
   "outputs": [],
   "source": [
    "#remove players not in NCAA\n",
    "clean_df = clean_df[~clean_df['Player_id'].isin(remove2)]"
   ]
  },
  {
   "cell_type": "code",
   "execution_count": null,
   "metadata": {},
   "outputs": [],
   "source": [
    "#test player ids one more time\n",
    "college_list = []\n",
    "for player in tqdm_notebook(clean_df[\"Player_id\"]):\n",
    "    try:\n",
    "        college = Player(player).team_abbreviation\n",
    "        college_list.append(college)\n",
    "    except:\n",
    "        print(f'Error for {player}')\n",
    "        "
   ]
  },
  {
   "cell_type": "code",
   "execution_count": null,
   "metadata": {},
   "outputs": [],
   "source": [
    "#replace hyphenated shcool names\n",
    "college_list = [school.replace(\"-\", \" \") for school in college_list]"
   ]
  },
  {
   "cell_type": "code",
   "execution_count": null,
   "metadata": {},
   "outputs": [],
   "source": [
    "#add to clean_df\n",
    "clean_df['College_id'] = college_list"
   ]
  },
  {
   "cell_type": "code",
   "execution_count": 333,
   "metadata": {},
   "outputs": [],
   "source": [
    "def college_abv(df):\n",
    "    df[\"College_id\"]= (df[\"College_id\"]\n",
    "                             .replace(\"connecticut\", \"uconn\").replace(\"louisiana state\", \"lsu\")\n",
    "                             .replace(\"southern california\", \"usc\")\n",
    "                             .replace('north carolina', 'unc').replace('southern methodist', 'smu')\n",
    "                             .replace('brigham young', 'byu').replace('nevada las vegas', 'unlv')\n",
    "                             .replace('mississippi', 'ole miss').replace('north carolina state', 'nc state')\n",
    "                             .replace('massachusetts', 'umass').replace('pittsburgh', 'pitt')\n",
    "                             .replace('louisiana lafayette', 'la-lafayette'))"
   ]
  },
  {
   "cell_type": "code",
   "execution_count": null,
   "metadata": {},
   "outputs": [],
   "source": [
    "#fix college abbreviations\n",
    "college_abv(clean_df)"
   ]
  },
  {
   "cell_type": "code",
   "execution_count": 339,
   "metadata": {},
   "outputs": [],
   "source": [
    "#create function to prepare college test\n",
    "def college_prep(df):\n",
    "    word = [words.split()[0] for words in df['College_id']]\n",
    "    df['word'] = word\n",
    "    return df.head()\n",
    "    "
   ]
  },
  {
   "cell_type": "code",
   "execution_count": null,
   "metadata": {},
   "outputs": [],
   "source": [
    "college_prep(clean_df)"
   ]
  },
  {
   "cell_type": "code",
   "execution_count": null,
   "metadata": {},
   "outputs": [],
   "source": [
    "#test player ids one more time\n",
    "college_wrong(clean_df)"
   ]
  },
  {
   "cell_type": "code",
   "execution_count": null,
   "metadata": {},
   "outputs": [],
   "source": [
    "len(wrong_players)"
   ]
  },
  {
   "cell_type": "code",
   "execution_count": null,
   "metadata": {},
   "outputs": [],
   "source": [
    "#all 'wrong players' are fine in this case.\n",
    "wrong_players"
   ]
  },
  {
   "cell_type": "code",
   "execution_count": null,
   "metadata": {},
   "outputs": [],
   "source": [
    "#re-index clean_df\n",
    "clean_df.reset_index(drop=True, inplace=True)"
   ]
  },
  {
   "cell_type": "code",
   "execution_count": null,
   "metadata": {},
   "outputs": [],
   "source": [
    "#create  list to hold dictionary data and list for desired ncaa stats\n",
    "ncaa_data = []\n",
    "\n",
    "stats = ['player_id','name','assist_percentage', 'assists', 'block_percentage','blocks','effective_field_goal_percentage',\n",
    "        'field_goal_percentage', 'free_throw_attempt_rate', 'free_throw_percentage', 'minutes_played',\n",
    "        'points', 'steal_percentage', 'steals', 'three_point_percentage', 'three_pointers', 'total_rebound_percentage',\n",
    "         'total_rebounds', 'true_shooting_percentage', 'turnover_percentage','turnovers', 'usage_percentage', 'box_plus_minus', 'games_played', 'height', 'win_shares_per_40_minutes']\n",
    "\n"
   ]
  },
  {
   "cell_type": "code",
   "execution_count": null,
   "metadata": {},
   "outputs": [],
   "source": [
    "#insert player stats into ncaa_data\n",
    "ncaa_data = []\n",
    "for player in tqdm_notebook(clean_df[\"Player_id\"]):\n",
    "    ncaa = Player(player)\n",
    "    player_list = []\n",
    "    player_dict = {}\n",
    "    for stat in stats:\n",
    "        try:\n",
    "            var = eval(f'ncaa.{stat}')\n",
    "            player_list.append((stat, var))\n",
    "        except:\n",
    "            var = np.nan\n",
    "            print(player,stat, var)\n",
    "            player_list.append((stat, var))\n",
    "    player_dict.update(player_list)\n",
    "    ncaa_data.append(player_dict)\n",
    "    "
   ]
  },
  {
   "cell_type": "code",
   "execution_count": null,
   "metadata": {},
   "outputs": [],
   "source": [
    "#convert ncaa_data to df\n",
    "ncaa_df = pd.DataFrame(ncaa_data)\n"
   ]
  },
  {
   "cell_type": "code",
   "execution_count": null,
   "metadata": {},
   "outputs": [],
   "source": [
    "#add college to ncaa_df\n",
    "ncaa_df[\"college\"] = clean_df[\"College_id\"]\n",
    "ncaa_df[\"class\"] = clean_df[\"Class\"]"
   ]
  },
  {
   "cell_type": "code",
   "execution_count": null,
   "metadata": {},
   "outputs": [],
   "source": [
    "#create new dataframe which re-orders columns and drops those with a lot of NaN's\n",
    "ncaa2_df = ncaa_df[[\"player_id\", \"name\",  \"class\", \"college\", \"assists\", \"blocks\", \"effective_field_goal_percentage\",\n",
    "                    \"field_goal_percentage\", \"free_throw_attempt_rate\",\"free_throw_percentage\", \"games_played\", \"height\",\n",
    "                    \"minutes_played\", \"points\",\"steals\", \"three_point_percentage\", \"three_pointers\", \"total_rebounds\",\n",
    "                    \"true_shooting_percentage\", \"turnover_percentage\", \"turnovers\", \"win_shares_per_40_minutes\" ]]"
   ]
  },
  {
   "cell_type": "code",
   "execution_count": null,
   "metadata": {},
   "outputs": [],
   "source": [
    "ncaa2_df.fillna(ncaa2_df.mean(), inplace=True)"
   ]
  },
  {
   "cell_type": "code",
   "execution_count": null,
   "metadata": {},
   "outputs": [],
   "source": [
    "#stats per 40  list\n",
    "per_40 = [ \"assists\", \"blocks\", \"points\", \"steals\", \"three_pointers\", \"total_rebounds\", \"turnovers\"]"
   ]
  },
  {
   "cell_type": "code",
   "execution_count": null,
   "metadata": {},
   "outputs": [],
   "source": [
    "#add suffix for column titles\n",
    "suff = \"_per_40\"\n",
    "for_40 = [stat+suff for stat in per_40]"
   ]
  },
  {
   "cell_type": "code",
   "execution_count": null,
   "metadata": {},
   "outputs": [],
   "source": [
    "#zip two lists together\n",
    "combined_40 = list(zip(per_40,for_40))"
   ]
  },
  {
   "cell_type": "code",
   "execution_count": null,
   "metadata": {},
   "outputs": [],
   "source": [
    "#check combined list\n",
    "combined_40"
   ]
  },
  {
   "cell_type": "code",
   "execution_count": null,
   "metadata": {},
   "outputs": [],
   "source": [
    "#run for loop to create per_40 columns\n",
    "for stat in combined_40:\n",
    "    ncaa2_df[stat[1]] = (ncaa2_df[stat[0]] /ncaa2_df[\"minutes_played\"])*40"
   ]
  },
  {
   "cell_type": "code",
   "execution_count": null,
   "metadata": {},
   "outputs": [],
   "source": [
    "#fill nan's with column mean\n",
    "ncaa2_df.fillna(ncaa2_df.mean())"
   ]
  },
  {
   "cell_type": "code",
   "execution_count": null,
   "metadata": {},
   "outputs": [],
   "source": [
    "#convert height to inches\n",
    "\n",
    "height = [ guy.split('-') for guy in ncaa2_df[\"height\"]]\n",
    "inches = [(int(dim[0])*12) + int(dim[1]) for dim in height]"
   ]
  },
  {
   "cell_type": "code",
   "execution_count": null,
   "metadata": {},
   "outputs": [],
   "source": [
    "ncaa2_df['height'] = inches"
   ]
  },
  {
   "cell_type": "code",
   "execution_count": null,
   "metadata": {},
   "outputs": [],
   "source": [
    "#export to csv\n",
    "ncaa2_df.to_csv(\"NCAA_data.csv\",index = False, header = True)"
   ]
  },
  {
   "cell_type": "code",
   "execution_count": null,
   "metadata": {},
   "outputs": [],
   "source": [
    "ncaa2_df.head()"
   ]
  },
  {
   "cell_type": "code",
   "execution_count": null,
   "metadata": {},
   "outputs": [],
   "source": [
    "id_df = ncaa2_df[[\"player_id\", \"name\"]]\n",
    "id_df.rename(columns = {'name':'Player'}, inplace = True) "
   ]
  },
  {
   "cell_type": "code",
   "execution_count": null,
   "metadata": {},
   "outputs": [],
   "source": [
    "id_df.head()"
   ]
  },
  {
   "cell_type": "code",
   "execution_count": null,
   "metadata": {},
   "outputs": [],
   "source": [
    "nba_df = pd.merge(df, id_df, on='Player')"
   ]
  },
  {
   "cell_type": "code",
   "execution_count": null,
   "metadata": {},
   "outputs": [],
   "source": [
    "nba_df.to_csv(\"NBA_data.csv\",index = False, header = True)"
   ]
  },
  {
   "cell_type": "code",
   "execution_count": 379,
   "metadata": {},
   "outputs": [],
   "source": [
    "#pull in 2020 NBA Draft prospects\n",
    "df_2020 = pd.read_csv(\"2020_draft_data/2020_prospects.csv\")\n"
   ]
  },
  {
   "cell_type": "code",
   "execution_count": 380,
   "metadata": {},
   "outputs": [],
   "source": [
    "# Get rows where year == intl.\n",
    "intl = df_2020[ df_2020['Year'] == \"Intl.\" ].index\n",
    "\n",
    "# Delete these row indexes from dataFrame\n",
    "df_2020.drop(intl, inplace=True)"
   ]
  },
  {
   "cell_type": "code",
   "execution_count": 381,
   "metadata": {},
   "outputs": [
    {
     "data": {
      "text/html": [
       "<div>\n",
       "<style scoped>\n",
       "    .dataframe tbody tr th:only-of-type {\n",
       "        vertical-align: middle;\n",
       "    }\n",
       "\n",
       "    .dataframe tbody tr th {\n",
       "        vertical-align: top;\n",
       "    }\n",
       "\n",
       "    .dataframe thead th {\n",
       "        text-align: right;\n",
       "    }\n",
       "</style>\n",
       "<table border=\"1\" class=\"dataframe\">\n",
       "  <thead>\n",
       "    <tr style=\"text-align: right;\">\n",
       "      <th></th>\n",
       "      <th>Rank</th>\n",
       "      <th>Name</th>\n",
       "      <th>School</th>\n",
       "      <th>Year</th>\n",
       "    </tr>\n",
       "  </thead>\n",
       "  <tbody>\n",
       "    <tr>\n",
       "      <th>0</th>\n",
       "      <td>1</td>\n",
       "      <td>Anthony Edwards</td>\n",
       "      <td>Georgia</td>\n",
       "      <td>Fr.</td>\n",
       "    </tr>\n",
       "    <tr>\n",
       "      <th>1</th>\n",
       "      <td>2</td>\n",
       "      <td>James Wiseman</td>\n",
       "      <td>Memphis</td>\n",
       "      <td>Fr.</td>\n",
       "    </tr>\n",
       "    <tr>\n",
       "      <th>2</th>\n",
       "      <td>4</td>\n",
       "      <td>Obi Toppin</td>\n",
       "      <td>Dayton</td>\n",
       "      <td>So.</td>\n",
       "    </tr>\n",
       "    <tr>\n",
       "      <th>3</th>\n",
       "      <td>5</td>\n",
       "      <td>Jaden McDaniels</td>\n",
       "      <td>Washington</td>\n",
       "      <td>Fr.</td>\n",
       "    </tr>\n",
       "    <tr>\n",
       "      <th>4</th>\n",
       "      <td>6</td>\n",
       "      <td>Nico Mannion</td>\n",
       "      <td>Arizona</td>\n",
       "      <td>Fr.</td>\n",
       "    </tr>\n",
       "  </tbody>\n",
       "</table>\n",
       "</div>"
      ],
      "text/plain": [
       "   Rank             Name      School Year\n",
       "0     1  Anthony Edwards     Georgia  Fr.\n",
       "1     2    James Wiseman     Memphis  Fr.\n",
       "2     4       Obi Toppin      Dayton  So.\n",
       "3     5  Jaden McDaniels  Washington  Fr.\n",
       "4     6     Nico Mannion     Arizona  Fr."
      ]
     },
     "execution_count": 381,
     "metadata": {},
     "output_type": "execute_result"
    }
   ],
   "source": [
    "#re-index df\n",
    "df_2020.reset_index(drop=True, inplace=True)\n",
    "df_2020.head()"
   ]
  },
  {
   "cell_type": "code",
   "execution_count": 382,
   "metadata": {},
   "outputs": [],
   "source": [
    "#remove accents \n",
    "clean_player_2020 = [unidecode(player) for player in df_2020[\"Name\"]]"
   ]
  },
  {
   "cell_type": "code",
   "execution_count": 383,
   "metadata": {},
   "outputs": [],
   "source": [
    "#make player ids\n",
    "suffix = \"-1\"\n",
    "ids_2020 = [player.replace(\".\", \"\").replace(\"'\", \"\").replace(\" \", \"-\").lower()+suffix for player in clean_player_2020]"
   ]
  },
  {
   "cell_type": "code",
   "execution_count": 299,
   "metadata": {},
   "outputs": [
    {
     "data": {
      "application/vnd.jupyter.widget-view+json": {
       "model_id": "af734e4a250f4a0b8b5bdbe7ba6f6fdb",
       "version_major": 2,
       "version_minor": 0
      },
      "text/plain": [
       "HBox(children=(IntProgress(value=0, max=52), HTML(value='')))"
      ]
     },
     "metadata": {},
     "output_type": "display_data"
    },
    {
     "name": "stdout",
     "output_type": "stream",
     "text": [
      "Error for obi-toppin-1 in index # 2\n",
      "Error for vernon-carey-1 in index # 7\n",
      "Error for josh-green-1 in index # 11\n",
      "Error for jay-scrubb-1 in index # 28\n",
      "Error for nick-richards-1 in index # 31\n",
      "Error for derrick-alston-jr-1 in index # 42\n",
      "Error for cam-mack-1 in index # 51\n"
     ]
    }
   ],
   "source": [
    "#see which players are generating errors when trying to call college data \n",
    "for player in tqdm_notebook(ids_2020):\n",
    "    try:\n",
    "        college = Player(player)\n",
    "    except:\n",
    "        print(f'Error for {player} in index # {ids_2020.index(player)}')\n",
    "        "
   ]
  },
  {
   "cell_type": "markdown",
   "metadata": {},
   "source": [
    "obadiah-toppin-1\n",
    "vernon-careyjr-1\n",
    "josh-green-2\n",
    "remove jay scrubb\n",
    "nick-richards-2\n",
    "derrick-alston-2\n",
    "cameron-mack-1"
   ]
  },
  {
   "cell_type": "code",
   "execution_count": 384,
   "metadata": {},
   "outputs": [],
   "source": [
    "replace_2020 = [('obadiah-toppin-1', 2), ('vernon-careyjr-1', 7), ('josh-green-2', 11), ('nick-richards-2', 31), \n",
    "          ('derrick-alston-2', 42),('cameron-mack-1', 51)]"
   ]
  },
  {
   "cell_type": "code",
   "execution_count": 385,
   "metadata": {},
   "outputs": [],
   "source": [
    "#replace incorrect id's\n",
    "for player in replace_2020:\n",
    "    ids_2020[player[1]] = player[0]"
   ]
  },
  {
   "cell_type": "code",
   "execution_count": 386,
   "metadata": {},
   "outputs": [
    {
     "data": {
      "text/plain": [
       "'jay-scrubb-1'"
      ]
     },
     "execution_count": 386,
     "metadata": {},
     "output_type": "execute_result"
    }
   ],
   "source": [
    "#remove players not in NCAA\n",
    "df_2020 = df_2020.drop([28])\n",
    "ids_2020.pop(28)"
   ]
  },
  {
   "cell_type": "code",
   "execution_count": 387,
   "metadata": {},
   "outputs": [],
   "source": [
    "#reest index\n",
    "#re-index clean_df\n",
    "df_2020.reset_index(drop=True, inplace=True)"
   ]
  },
  {
   "cell_type": "code",
   "execution_count": 389,
   "metadata": {},
   "outputs": [],
   "source": [
    "df_2020['Player_id'] = ids_2020 "
   ]
  },
  {
   "cell_type": "code",
   "execution_count": 391,
   "metadata": {},
   "outputs": [],
   "source": [
    "#define function to get player_id colleges\n",
    "def college_try(dataframe):\n",
    "    global college_list\n",
    "    college_list = []\n",
    "    for index, row in tqdm_notebook(dataframe.iterrows()):\n",
    "        try:\n",
    "            college =  Player(row[\"Player_id\"]).team_abbreviation\n",
    "            college_list.append(college)\n",
    "        except:\n",
    "            print('Error for', row[\"Player_id\"], 'at index #', index)\n"
   ]
  },
  {
   "cell_type": "code",
   "execution_count": 308,
   "metadata": {},
   "outputs": [
    {
     "data": {
      "application/vnd.jupyter.widget-view+json": {
       "model_id": "8fddf6ddf8254f25b87b2636e8bb9d86",
       "version_major": 2,
       "version_minor": 0
      },
      "text/plain": [
       "HBox(children=(IntProgress(value=1, bar_style='info', max=1), HTML(value='')))"
      ]
     },
     "metadata": {},
     "output_type": "display_data"
    },
    {
     "name": "stdout",
     "output_type": "stream",
     "text": [
      "Error for reggie-perry-1 at index # 22\n"
     ]
    }
   ],
   "source": [
    "college_try(df_2020)"
   ]
  },
  {
   "cell_type": "code",
   "execution_count": 392,
   "metadata": {},
   "outputs": [],
   "source": [
    "#insert correct value for player #22\n",
    "ids_2020[22] = 'reggie-perry-2' "
   ]
  },
  {
   "cell_type": "code",
   "execution_count": 393,
   "metadata": {},
   "outputs": [],
   "source": [
    "df_2020['Player_id'] = ids_2020 "
   ]
  },
  {
   "cell_type": "code",
   "execution_count": 395,
   "metadata": {},
   "outputs": [
    {
     "data": {
      "application/vnd.jupyter.widget-view+json": {
       "model_id": "e356f3da343446458a26f16bc39d3540",
       "version_major": 2,
       "version_minor": 0
      },
      "text/plain": [
       "HBox(children=(IntProgress(value=1, bar_style='info', max=1), HTML(value='')))"
      ]
     },
     "metadata": {},
     "output_type": "display_data"
    }
   ],
   "source": [
    "#run college_try again\n",
    "college_try(df_2020)"
   ]
  },
  {
   "cell_type": "code",
   "execution_count": 396,
   "metadata": {},
   "outputs": [],
   "source": [
    "#replace hyphenated shcool names\n",
    "college_list = [school.replace(\"-\", \" \") for school in college_list]"
   ]
  },
  {
   "cell_type": "code",
   "execution_count": 397,
   "metadata": {},
   "outputs": [],
   "source": [
    "#add to  df\n",
    "df_2020['College_id'] = college_list"
   ]
  },
  {
   "cell_type": "code",
   "execution_count": 398,
   "metadata": {},
   "outputs": [],
   "source": [
    "college_abv(df_2020)"
   ]
  },
  {
   "cell_type": "code",
   "execution_count": 399,
   "metadata": {},
   "outputs": [
    {
     "data": {
      "text/html": [
       "<div>\n",
       "<style scoped>\n",
       "    .dataframe tbody tr th:only-of-type {\n",
       "        vertical-align: middle;\n",
       "    }\n",
       "\n",
       "    .dataframe tbody tr th {\n",
       "        vertical-align: top;\n",
       "    }\n",
       "\n",
       "    .dataframe thead th {\n",
       "        text-align: right;\n",
       "    }\n",
       "</style>\n",
       "<table border=\"1\" class=\"dataframe\">\n",
       "  <thead>\n",
       "    <tr style=\"text-align: right;\">\n",
       "      <th></th>\n",
       "      <th>Rank</th>\n",
       "      <th>Name</th>\n",
       "      <th>School</th>\n",
       "      <th>Year</th>\n",
       "      <th>Player_id</th>\n",
       "      <th>College_id</th>\n",
       "      <th>word</th>\n",
       "    </tr>\n",
       "  </thead>\n",
       "  <tbody>\n",
       "    <tr>\n",
       "      <th>0</th>\n",
       "      <td>1</td>\n",
       "      <td>Anthony Edwards</td>\n",
       "      <td>Georgia</td>\n",
       "      <td>Fr.</td>\n",
       "      <td>anthony-edwards-1</td>\n",
       "      <td>missouri state</td>\n",
       "      <td>missouri</td>\n",
       "    </tr>\n",
       "    <tr>\n",
       "      <th>1</th>\n",
       "      <td>2</td>\n",
       "      <td>James Wiseman</td>\n",
       "      <td>Memphis</td>\n",
       "      <td>Fr.</td>\n",
       "      <td>james-wiseman-1</td>\n",
       "      <td>memphis</td>\n",
       "      <td>memphis</td>\n",
       "    </tr>\n",
       "    <tr>\n",
       "      <th>2</th>\n",
       "      <td>4</td>\n",
       "      <td>Obi Toppin</td>\n",
       "      <td>Dayton</td>\n",
       "      <td>So.</td>\n",
       "      <td>obadiah-toppin-1</td>\n",
       "      <td>dayton</td>\n",
       "      <td>dayton</td>\n",
       "    </tr>\n",
       "    <tr>\n",
       "      <th>3</th>\n",
       "      <td>5</td>\n",
       "      <td>Jaden McDaniels</td>\n",
       "      <td>Washington</td>\n",
       "      <td>Fr.</td>\n",
       "      <td>jaden-mcdaniels-1</td>\n",
       "      <td>washington</td>\n",
       "      <td>washington</td>\n",
       "    </tr>\n",
       "    <tr>\n",
       "      <th>4</th>\n",
       "      <td>6</td>\n",
       "      <td>Nico Mannion</td>\n",
       "      <td>Arizona</td>\n",
       "      <td>Fr.</td>\n",
       "      <td>nico-mannion-1</td>\n",
       "      <td>arizona</td>\n",
       "      <td>arizona</td>\n",
       "    </tr>\n",
       "  </tbody>\n",
       "</table>\n",
       "</div>"
      ],
      "text/plain": [
       "   Rank             Name      School Year          Player_id      College_id  \\\n",
       "0     1  Anthony Edwards     Georgia  Fr.  anthony-edwards-1  missouri state   \n",
       "1     2    James Wiseman     Memphis  Fr.    james-wiseman-1         memphis   \n",
       "2     4       Obi Toppin      Dayton  So.   obadiah-toppin-1          dayton   \n",
       "3     5  Jaden McDaniels  Washington  Fr.  jaden-mcdaniels-1      washington   \n",
       "4     6     Nico Mannion     Arizona  Fr.     nico-mannion-1         arizona   \n",
       "\n",
       "         word  \n",
       "0    missouri  \n",
       "1     memphis  \n",
       "2      dayton  \n",
       "3  washington  \n",
       "4     arizona  "
      ]
     },
     "execution_count": 399,
     "metadata": {},
     "output_type": "execute_result"
    }
   ],
   "source": [
    "college_prep(df_2020)"
   ]
  },
  {
   "cell_type": "code",
   "execution_count": 400,
   "metadata": {},
   "outputs": [
    {
     "data": {
      "text/html": [
       "<div>\n",
       "<style scoped>\n",
       "    .dataframe tbody tr th:only-of-type {\n",
       "        vertical-align: middle;\n",
       "    }\n",
       "\n",
       "    .dataframe tbody tr th {\n",
       "        vertical-align: top;\n",
       "    }\n",
       "\n",
       "    .dataframe thead th {\n",
       "        text-align: right;\n",
       "    }\n",
       "</style>\n",
       "<table border=\"1\" class=\"dataframe\">\n",
       "  <thead>\n",
       "    <tr style=\"text-align: right;\">\n",
       "      <th></th>\n",
       "      <th>Rank</th>\n",
       "      <th>Name</th>\n",
       "      <th>School</th>\n",
       "      <th>Year</th>\n",
       "      <th>Player_id</th>\n",
       "      <th>College_id</th>\n",
       "      <th>word</th>\n",
       "    </tr>\n",
       "  </thead>\n",
       "  <tbody>\n",
       "    <tr>\n",
       "      <th>0</th>\n",
       "      <td>1</td>\n",
       "      <td>Anthony Edwards</td>\n",
       "      <td>georgia</td>\n",
       "      <td>Fr.</td>\n",
       "      <td>anthony-edwards-1</td>\n",
       "      <td>missouri state</td>\n",
       "      <td>missouri</td>\n",
       "    </tr>\n",
       "    <tr>\n",
       "      <th>1</th>\n",
       "      <td>2</td>\n",
       "      <td>James Wiseman</td>\n",
       "      <td>memphis</td>\n",
       "      <td>Fr.</td>\n",
       "      <td>james-wiseman-1</td>\n",
       "      <td>memphis</td>\n",
       "      <td>memphis</td>\n",
       "    </tr>\n",
       "    <tr>\n",
       "      <th>2</th>\n",
       "      <td>4</td>\n",
       "      <td>Obi Toppin</td>\n",
       "      <td>dayton</td>\n",
       "      <td>So.</td>\n",
       "      <td>obadiah-toppin-1</td>\n",
       "      <td>dayton</td>\n",
       "      <td>dayton</td>\n",
       "    </tr>\n",
       "    <tr>\n",
       "      <th>3</th>\n",
       "      <td>5</td>\n",
       "      <td>Jaden McDaniels</td>\n",
       "      <td>washington</td>\n",
       "      <td>Fr.</td>\n",
       "      <td>jaden-mcdaniels-1</td>\n",
       "      <td>washington</td>\n",
       "      <td>washington</td>\n",
       "    </tr>\n",
       "    <tr>\n",
       "      <th>4</th>\n",
       "      <td>6</td>\n",
       "      <td>Nico Mannion</td>\n",
       "      <td>arizona</td>\n",
       "      <td>Fr.</td>\n",
       "      <td>nico-mannion-1</td>\n",
       "      <td>arizona</td>\n",
       "      <td>arizona</td>\n",
       "    </tr>\n",
       "  </tbody>\n",
       "</table>\n",
       "</div>"
      ],
      "text/plain": [
       "   Rank             Name      School Year          Player_id      College_id  \\\n",
       "0     1  Anthony Edwards     georgia  Fr.  anthony-edwards-1  missouri state   \n",
       "1     2    James Wiseman     memphis  Fr.    james-wiseman-1         memphis   \n",
       "2     4       Obi Toppin      dayton  So.   obadiah-toppin-1          dayton   \n",
       "3     5  Jaden McDaniels  washington  Fr.  jaden-mcdaniels-1      washington   \n",
       "4     6     Nico Mannion     arizona  Fr.     nico-mannion-1         arizona   \n",
       "\n",
       "         word  \n",
       "0    missouri  \n",
       "1     memphis  \n",
       "2      dayton  \n",
       "3  washington  \n",
       "4     arizona  "
      ]
     },
     "execution_count": 400,
     "metadata": {},
     "output_type": "execute_result"
    }
   ],
   "source": [
    "#convert School column to lower case\n",
    "df_2020['School'] = df_2020['School'].str.lower()\n",
    "\n",
    "df_2020.head()"
   ]
  },
  {
   "cell_type": "code",
   "execution_count": 373,
   "metadata": {},
   "outputs": [
    {
     "name": "stdout",
     "output_type": "stream",
     "text": [
      "Anthony Edwards at  0  does NOT match\n",
      "James Wiseman at  1  matches\n",
      "Obi Toppin at  2  matches\n",
      "Jaden McDaniels at  3  matches\n",
      "Nico Mannion at  4  matches\n",
      "Daniel Oturu at  5  matches\n",
      "Cole Anthony at  6  does NOT match\n",
      "Vernon Carey at  7  matches\n",
      "Tyrese Haliburton at  8  matches\n",
      "Onyeka Okongwu at  9  matches\n",
      "Isaac Okoro at  10  matches\n",
      "Josh Green at  11  matches\n",
      "Zeke Nnaji at  12  matches\n",
      "Isaiah Stewart at  13  does NOT match\n",
      "Ashton Hagans at  14  matches\n",
      "Precious Achiuwa at  15  matches\n",
      "Aaron Nesmith at  16  matches\n",
      "Tyrese Maxey at  17  matches\n",
      "Jordan Nwora at  18  matches\n",
      "Ochai Agbaji at  19  matches\n",
      "Paul Reed at  20  does NOT match\n",
      "Jalen Smith at  21  matches\n",
      "Reggie Perry at  22  matches\n",
      "Devon Dotson at  23  matches\n",
      "Udoka Azubuike at  24  matches\n",
      "CJ Elleby at  25  matches\n",
      "Landers Nolley at  26  does NOT match\n",
      "Devin Vassell at  27  matches\n",
      "Cassius Stanley at  28  matches\n",
      "Saddiq Bey at  29  matches\n",
      "Nick Richards at  30  matches\n",
      "Elijah Hughes at  31  matches\n",
      "Tyler Bey at  32  matches\n",
      "Chris Smith at  33  does NOT match\n",
      "Omer Yurtseven at  34  matches\n",
      "Markus Howard at  35  matches\n",
      "Malachi Flynn at  36  matches\n",
      "Austin Wiley at  37  matches\n",
      "Payton Pritchard at  38  matches\n",
      "Steven Enoch at  39  matches\n",
      "Mamadi Diakite at  40  matches\n",
      "Derrick Alston Jr. at  41  matches\n",
      "Malik Fitts at  42  does NOT match\n",
      "Tre Jones at  43  matches\n",
      "Cassius Winston at  44  matches\n",
      "Lamar Stevens at  45  matches\n",
      "Killian Tillie at  46  matches\n",
      "Mustapha Heron at  47  matches\n",
      "Myles Powell at  48  matches\n",
      "Desmond Bane at  49  does NOT match\n",
      "Cam Mack at  50  matches\n"
     ]
    }
   ],
   "source": [
    "wrong_players = []\n",
    "for index, row in df_2020.iterrows():\n",
    "    if search(row[\"word\"], row[\"School\"]):\n",
    "        print(row[\"Name\"], \"at \", index, \" matches\")\n",
    "    else:\n",
    "        print(row[\"Name\"], \"at \", index, \" does NOT match\")\n",
    "        wrong_players.append((row[\"Name\"], index))"
   ]
  },
  {
   "cell_type": "code",
   "execution_count": 374,
   "metadata": {},
   "outputs": [
    {
     "data": {
      "text/plain": [
       "[('Anthony Edwards', 0),\n",
       " ('Cole Anthony', 6),\n",
       " ('Isaiah Stewart', 13),\n",
       " ('Paul Reed', 20),\n",
       " ('Landers Nolley', 26),\n",
       " ('Chris Smith', 33),\n",
       " ('Malik Fitts', 42),\n",
       " ('Desmond Bane', 49)]"
      ]
     },
     "execution_count": 374,
     "metadata": {},
     "output_type": "execute_result"
    }
   ],
   "source": [
    "wrong_players"
   ]
  },
  {
   "cell_type": "markdown",
   "metadata": {},
   "source": [
    "### players to replace\n",
    "anthony-edwards-2\n",
    "isaiah-stewart-2\n",
    "paul-reed-5\n",
    "landers-nolleyii-1\n",
    "chris-smith-19"
   ]
  },
  {
   "cell_type": "code",
   "execution_count": 401,
   "metadata": {},
   "outputs": [],
   "source": [
    "update_2020 = [('anthony-edwards-1', 'anthony-edwards-2'), ('isaiah-stewart-1','isaiah-stewart-2'),\n",
    "               ('paul-reed-1', 'paul-reed-5'),('landers-nolley-1', 'landers-nolleyii-1'),\n",
    "               ('chris-smith-19', 'chris-smith-19')]"
   ]
  },
  {
   "cell_type": "code",
   "execution_count": 402,
   "metadata": {},
   "outputs": [],
   "source": [
    "#update player ids \n",
    "for player in update_2020:\n",
    "    df_2020.replace(to_replace = player[0],\n",
    "                    value = player[1], inplace = True)"
   ]
  },
  {
   "cell_type": "code",
   "execution_count": 404,
   "metadata": {},
   "outputs": [
    {
     "data": {
      "application/vnd.jupyter.widget-view+json": {
       "model_id": "894fb85a12b043d5987e2958d25c183f",
       "version_major": 2,
       "version_minor": 0
      },
      "text/plain": [
       "HBox(children=(IntProgress(value=0, max=51), HTML(value='')))"
      ]
     },
     "metadata": {},
     "output_type": "display_data"
    }
   ],
   "source": [
    "#insert player stats into ncaa_data\n",
    "ncaa_data = []\n",
    "for player in tqdm_notebook(df_2020[\"Player_id\"]):\n",
    "    ncaa = Player(player)\n",
    "    player_list = []\n",
    "    player_dict = {}\n",
    "    for stat in stats:\n",
    "        try:\n",
    "            var = eval(f'ncaa.{stat}')\n",
    "            player_list.append((stat, var))\n",
    "        except:\n",
    "            var = np.nan\n",
    "            print(player,stat, var)\n",
    "            player_list.append((stat, var))\n",
    "    player_dict.update(player_list)\n",
    "    ncaa_data.append(player_dict)"
   ]
  },
  {
   "cell_type": "code",
   "execution_count": 405,
   "metadata": {},
   "outputs": [],
   "source": [
    "#convert ncaa_data to df\n",
    "draft_df = pd.DataFrame(ncaa_data)\n"
   ]
  },
  {
   "cell_type": "code",
   "execution_count": 406,
   "metadata": {},
   "outputs": [],
   "source": [
    "#add college to ncaa_df\n",
    "draft_df[\"college\"] = df_2020[\"College_id\"]\n"
   ]
  },
  {
   "cell_type": "code",
   "execution_count": 408,
   "metadata": {},
   "outputs": [],
   "source": [
    "draft2020_df = draft_df[[\"player_id\", \"name\", \"college\", \"assists\", \"blocks\", \"effective_field_goal_percentage\",\n",
    "                    \"field_goal_percentage\", \"free_throw_attempt_rate\",\"free_throw_percentage\", \"games_played\", \"height\",\n",
    "                    \"minutes_played\", \"points\",\"steals\", \"three_point_percentage\", \"three_pointers\", \"total_rebounds\",\n",
    "                    \"true_shooting_percentage\", \"turnover_percentage\", \"turnovers\", \"win_shares_per_40_minutes\" ]]"
   ]
  },
  {
   "cell_type": "code",
   "execution_count": 409,
   "metadata": {},
   "outputs": [],
   "source": [
    "draft2020_df.fillna(draft2020_df.mean(), inplace=True)"
   ]
  },
  {
   "cell_type": "code",
   "execution_count": 410,
   "metadata": {},
   "outputs": [],
   "source": [
    "for stat in combined_40:\n",
    "    draft2020_df[stat[1]] = (draft2020_df[stat[0]] /draft2020_df[\"minutes_played\"])*40"
   ]
  },
  {
   "cell_type": "code",
   "execution_count": 411,
   "metadata": {},
   "outputs": [],
   "source": [
    "height = [ guy.split('-') for guy in draft2020_df[\"height\"]]\n",
    "inches = [(int(dim[0])*12) + int(dim[1]) for dim in height]\n",
    "draft2020_df['height'] = inches"
   ]
  },
  {
   "cell_type": "code",
   "execution_count": 412,
   "metadata": {},
   "outputs": [],
   "source": [
    "draft2020_df.to_csv(\"Draft_data.csv\",index = False, header = True)"
   ]
  },
  {
   "cell_type": "code",
   "execution_count": 413,
   "metadata": {},
   "outputs": [],
   "source": [
    "df = pd.read_csv(\"NCAA_data.csv\")"
   ]
  },
  {
   "cell_type": "code",
   "execution_count": 414,
   "metadata": {},
   "outputs": [],
   "source": [
    "df.replace(to_replace =\"Star\", \n",
    "                 value =\"Player\", inplace=True) \n",
    "df.replace(to_replace =\"Above Avg\", \n",
    "                 value =\"Player\", inplace=True)\n",
    "df.replace(to_replace =\"Below Avg\", \n",
    "                 value =\"Player\", inplace=True)"
   ]
  },
  {
   "cell_type": "code",
   "execution_count": 415,
   "metadata": {},
   "outputs": [
    {
     "data": {
      "text/html": [
       "<div>\n",
       "<style scoped>\n",
       "    .dataframe tbody tr th:only-of-type {\n",
       "        vertical-align: middle;\n",
       "    }\n",
       "\n",
       "    .dataframe tbody tr th {\n",
       "        vertical-align: top;\n",
       "    }\n",
       "\n",
       "    .dataframe thead th {\n",
       "        text-align: right;\n",
       "    }\n",
       "</style>\n",
       "<table border=\"1\" class=\"dataframe\">\n",
       "  <thead>\n",
       "    <tr style=\"text-align: right;\">\n",
       "      <th></th>\n",
       "      <th>player_id</th>\n",
       "      <th>name</th>\n",
       "      <th>class</th>\n",
       "      <th>college</th>\n",
       "      <th>assists</th>\n",
       "      <th>blocks</th>\n",
       "      <th>effective_field_goal_percentage</th>\n",
       "      <th>field_goal_percentage</th>\n",
       "      <th>free_throw_attempt_rate</th>\n",
       "      <th>free_throw_percentage</th>\n",
       "      <th>games_played</th>\n",
       "      <th>height</th>\n",
       "      <th>minutes_played</th>\n",
       "      <th>points</th>\n",
       "      <th>steals</th>\n",
       "      <th>three_point_percentage</th>\n",
       "      <th>three_pointers</th>\n",
       "      <th>total_rebounds</th>\n",
       "      <th>true_shooting_percentage</th>\n",
       "      <th>turnover_percentage</th>\n",
       "      <th>turnovers</th>\n",
       "      <th>win_shares_per_40_minutes</th>\n",
       "      <th>assists_per_40</th>\n",
       "      <th>blocks_per_40</th>\n",
       "      <th>points_per_40</th>\n",
       "      <th>steals_per_40</th>\n",
       "      <th>three_pointers_per_40</th>\n",
       "      <th>total_rebounds_per_40</th>\n",
       "      <th>turnovers_per_40</th>\n",
       "    </tr>\n",
       "  </thead>\n",
       "  <tbody>\n",
       "    <tr>\n",
       "      <th>0</th>\n",
       "      <td>kenyon-martin-1</td>\n",
       "      <td>Kenyon Martin</td>\n",
       "      <td>Player</td>\n",
       "      <td>cincinnati</td>\n",
       "      <td>142</td>\n",
       "      <td>292</td>\n",
       "      <td>0.587</td>\n",
       "      <td>0.586</td>\n",
       "      <td>0.494</td>\n",
       "      <td>0.581</td>\n",
       "      <td>116</td>\n",
       "      <td>81</td>\n",
       "      <td>2042.000000</td>\n",
       "      <td>1279</td>\n",
       "      <td>124</td>\n",
       "      <td>0.222000</td>\n",
       "      <td>2.0</td>\n",
       "      <td>869</td>\n",
       "      <td>0.592</td>\n",
       "      <td>14.300000</td>\n",
       "      <td>139.00000</td>\n",
       "      <td>0.346000</td>\n",
       "      <td>2.781587</td>\n",
       "      <td>5.719882</td>\n",
       "      <td>25.053869</td>\n",
       "      <td>2.428991</td>\n",
       "      <td>0.039177</td>\n",
       "      <td>17.022527</td>\n",
       "      <td>2.722821</td>\n",
       "    </tr>\n",
       "    <tr>\n",
       "      <th>1</th>\n",
       "      <td>aj-guyton-1</td>\n",
       "      <td>A.J. Guyton</td>\n",
       "      <td>Player</td>\n",
       "      <td>indiana</td>\n",
       "      <td>403</td>\n",
       "      <td>52</td>\n",
       "      <td>0.541</td>\n",
       "      <td>0.455</td>\n",
       "      <td>0.249</td>\n",
       "      <td>0.790</td>\n",
       "      <td>128</td>\n",
       "      <td>73</td>\n",
       "      <td>3260.000000</td>\n",
       "      <td>2100</td>\n",
       "      <td>129</td>\n",
       "      <td>0.414000</td>\n",
       "      <td>283.0</td>\n",
       "      <td>429</td>\n",
       "      <td>0.572</td>\n",
       "      <td>13.600000</td>\n",
       "      <td>218.00000</td>\n",
       "      <td>0.145000</td>\n",
       "      <td>4.944785</td>\n",
       "      <td>0.638037</td>\n",
       "      <td>25.766871</td>\n",
       "      <td>1.582822</td>\n",
       "      <td>3.472393</td>\n",
       "      <td>5.263804</td>\n",
       "      <td>2.674847</td>\n",
       "    </tr>\n",
       "    <tr>\n",
       "      <th>2</th>\n",
       "      <td>jake-voskuhl-1</td>\n",
       "      <td>Jake Voskuhl</td>\n",
       "      <td>Player</td>\n",
       "      <td>uconn</td>\n",
       "      <td>124</td>\n",
       "      <td>193</td>\n",
       "      <td>0.542</td>\n",
       "      <td>0.542</td>\n",
       "      <td>0.555</td>\n",
       "      <td>0.656</td>\n",
       "      <td>138</td>\n",
       "      <td>83</td>\n",
       "      <td>2184.000000</td>\n",
       "      <td>863</td>\n",
       "      <td>86</td>\n",
       "      <td>0.329163</td>\n",
       "      <td>0.0</td>\n",
       "      <td>880</td>\n",
       "      <td>0.573</td>\n",
       "      <td>23.000000</td>\n",
       "      <td>160.00000</td>\n",
       "      <td>0.237000</td>\n",
       "      <td>2.271062</td>\n",
       "      <td>3.534799</td>\n",
       "      <td>15.805861</td>\n",
       "      <td>1.575092</td>\n",
       "      <td>0.000000</td>\n",
       "      <td>16.117216</td>\n",
       "      <td>2.930403</td>\n",
       "    </tr>\n",
       "    <tr>\n",
       "      <th>3</th>\n",
       "      <td>khalid-el-amin-1</td>\n",
       "      <td>Khalid El-Amin</td>\n",
       "      <td>Bust</td>\n",
       "      <td>uconn</td>\n",
       "      <td>479</td>\n",
       "      <td>10</td>\n",
       "      <td>0.486</td>\n",
       "      <td>0.416</td>\n",
       "      <td>0.257</td>\n",
       "      <td>0.822</td>\n",
       "      <td>108</td>\n",
       "      <td>70</td>\n",
       "      <td>2149.000000</td>\n",
       "      <td>1650</td>\n",
       "      <td>186</td>\n",
       "      <td>0.355000</td>\n",
       "      <td>195.0</td>\n",
       "      <td>319</td>\n",
       "      <td>0.527</td>\n",
       "      <td>15.600000</td>\n",
       "      <td>188.00000</td>\n",
       "      <td>0.158000</td>\n",
       "      <td>8.915775</td>\n",
       "      <td>0.186133</td>\n",
       "      <td>30.711959</td>\n",
       "      <td>3.462075</td>\n",
       "      <td>3.629595</td>\n",
       "      <td>5.937645</td>\n",
       "      <td>3.499302</td>\n",
       "    </tr>\n",
       "    <tr>\n",
       "      <th>4</th>\n",
       "      <td>mike-smith-1</td>\n",
       "      <td>Mike Smith</td>\n",
       "      <td>Bust</td>\n",
       "      <td>louisiana monroe</td>\n",
       "      <td>147</td>\n",
       "      <td>42</td>\n",
       "      <td>0.507</td>\n",
       "      <td>0.428</td>\n",
       "      <td>0.357</td>\n",
       "      <td>0.769</td>\n",
       "      <td>55</td>\n",
       "      <td>80</td>\n",
       "      <td>1938.000000</td>\n",
       "      <td>1062</td>\n",
       "      <td>90</td>\n",
       "      <td>0.318000</td>\n",
       "      <td>130.0</td>\n",
       "      <td>449</td>\n",
       "      <td>0.551</td>\n",
       "      <td>20.000000</td>\n",
       "      <td>241.00000</td>\n",
       "      <td>0.165000</td>\n",
       "      <td>3.034056</td>\n",
       "      <td>0.866873</td>\n",
       "      <td>21.919505</td>\n",
       "      <td>1.857585</td>\n",
       "      <td>2.683179</td>\n",
       "      <td>9.267286</td>\n",
       "      <td>4.974200</td>\n",
       "    </tr>\n",
       "    <tr>\n",
       "      <th>5</th>\n",
       "      <td>eddie-house-1</td>\n",
       "      <td>Eddie House</td>\n",
       "      <td>Player</td>\n",
       "      <td>arizona state</td>\n",
       "      <td>405</td>\n",
       "      <td>19</td>\n",
       "      <td>0.495</td>\n",
       "      <td>0.425</td>\n",
       "      <td>0.187</td>\n",
       "      <td>0.798</td>\n",
       "      <td>124</td>\n",
       "      <td>73</td>\n",
       "      <td>4136.000000</td>\n",
       "      <td>2044</td>\n",
       "      <td>258</td>\n",
       "      <td>0.366000</td>\n",
       "      <td>250.0</td>\n",
       "      <td>502</td>\n",
       "      <td>0.523</td>\n",
       "      <td>10.800000</td>\n",
       "      <td>195.00000</td>\n",
       "      <td>0.113000</td>\n",
       "      <td>3.916828</td>\n",
       "      <td>0.183752</td>\n",
       "      <td>19.767892</td>\n",
       "      <td>2.495164</td>\n",
       "      <td>2.417795</td>\n",
       "      <td>4.854932</td>\n",
       "      <td>1.885880</td>\n",
       "    </tr>\n",
       "    <tr>\n",
       "      <th>6</th>\n",
       "      <td>eduardo-najera-1</td>\n",
       "      <td>Eduardo Najera</td>\n",
       "      <td>Player</td>\n",
       "      <td>oklahoma</td>\n",
       "      <td>215</td>\n",
       "      <td>89</td>\n",
       "      <td>0.460</td>\n",
       "      <td>0.430</td>\n",
       "      <td>0.354</td>\n",
       "      <td>0.669</td>\n",
       "      <td>126</td>\n",
       "      <td>80</td>\n",
       "      <td>3001.000000</td>\n",
       "      <td>1646</td>\n",
       "      <td>193</td>\n",
       "      <td>0.288000</td>\n",
       "      <td>85.0</td>\n",
       "      <td>910</td>\n",
       "      <td>0.495</td>\n",
       "      <td>13.100000</td>\n",
       "      <td>201.00000</td>\n",
       "      <td>0.183000</td>\n",
       "      <td>2.865711</td>\n",
       "      <td>1.186271</td>\n",
       "      <td>21.939354</td>\n",
       "      <td>2.572476</td>\n",
       "      <td>1.132956</td>\n",
       "      <td>12.129290</td>\n",
       "      <td>2.679107</td>\n",
       "    </tr>\n",
       "    <tr>\n",
       "      <th>7</th>\n",
       "      <td>lavor-postell-1</td>\n",
       "      <td>Lavor Postell</td>\n",
       "      <td>Player</td>\n",
       "      <td>st johns ny</td>\n",
       "      <td>205</td>\n",
       "      <td>58</td>\n",
       "      <td>0.470</td>\n",
       "      <td>0.430</td>\n",
       "      <td>0.383</td>\n",
       "      <td>0.789</td>\n",
       "      <td>129</td>\n",
       "      <td>77</td>\n",
       "      <td>2845.000000</td>\n",
       "      <td>1427</td>\n",
       "      <td>129</td>\n",
       "      <td>0.326000</td>\n",
       "      <td>92.0</td>\n",
       "      <td>716</td>\n",
       "      <td>0.526</td>\n",
       "      <td>13.800000</td>\n",
       "      <td>172.00000</td>\n",
       "      <td>0.115000</td>\n",
       "      <td>2.882250</td>\n",
       "      <td>0.815466</td>\n",
       "      <td>20.063269</td>\n",
       "      <td>1.813708</td>\n",
       "      <td>1.293497</td>\n",
       "      <td>10.066784</td>\n",
       "      <td>2.418278</td>\n",
       "    </tr>\n",
       "    <tr>\n",
       "      <th>8</th>\n",
       "      <td>hanno-mottola-1</td>\n",
       "      <td>Hanno Mottola</td>\n",
       "      <td>Bust</td>\n",
       "      <td>utah</td>\n",
       "      <td>139</td>\n",
       "      <td>50</td>\n",
       "      <td>0.533</td>\n",
       "      <td>0.500</td>\n",
       "      <td>0.415</td>\n",
       "      <td>0.774</td>\n",
       "      <td>120</td>\n",
       "      <td>83</td>\n",
       "      <td>2162.000000</td>\n",
       "      <td>1492</td>\n",
       "      <td>37</td>\n",
       "      <td>0.333000</td>\n",
       "      <td>71.0</td>\n",
       "      <td>551</td>\n",
       "      <td>0.580</td>\n",
       "      <td>14.900000</td>\n",
       "      <td>159.00000</td>\n",
       "      <td>0.207000</td>\n",
       "      <td>2.571693</td>\n",
       "      <td>0.925069</td>\n",
       "      <td>27.604070</td>\n",
       "      <td>0.684551</td>\n",
       "      <td>1.313599</td>\n",
       "      <td>10.194265</td>\n",
       "      <td>2.941721</td>\n",
       "    </tr>\n",
       "    <tr>\n",
       "      <th>9</th>\n",
       "      <td>chris-carrawell-1</td>\n",
       "      <td>Chris Carrawell</td>\n",
       "      <td>Bust</td>\n",
       "      <td>duke</td>\n",
       "      <td>309</td>\n",
       "      <td>114</td>\n",
       "      <td>0.514</td>\n",
       "      <td>0.486</td>\n",
       "      <td>0.415</td>\n",
       "      <td>0.667</td>\n",
       "      <td>136</td>\n",
       "      <td>78</td>\n",
       "      <td>2497.458432</td>\n",
       "      <td>1455</td>\n",
       "      <td>105</td>\n",
       "      <td>0.360000</td>\n",
       "      <td>62.0</td>\n",
       "      <td>608</td>\n",
       "      <td>0.545</td>\n",
       "      <td>15.209338</td>\n",
       "      <td>177.27896</td>\n",
       "      <td>0.181716</td>\n",
       "      <td>3.018494</td>\n",
       "      <td>1.357832</td>\n",
       "      <td>18.738180</td>\n",
       "      <td>1.505259</td>\n",
       "      <td>1.288549</td>\n",
       "      <td>8.322600</td>\n",
       "      <td>2.901975</td>\n",
       "    </tr>\n",
       "  </tbody>\n",
       "</table>\n",
       "</div>"
      ],
      "text/plain": [
       "           player_id             name   class           college  assists  \\\n",
       "0    kenyon-martin-1    Kenyon Martin  Player        cincinnati      142   \n",
       "1        aj-guyton-1      A.J. Guyton  Player           indiana      403   \n",
       "2     jake-voskuhl-1     Jake Voskuhl  Player             uconn      124   \n",
       "3   khalid-el-amin-1   Khalid El-Amin    Bust             uconn      479   \n",
       "4       mike-smith-1       Mike Smith    Bust  louisiana monroe      147   \n",
       "5      eddie-house-1      Eddie House  Player     arizona state      405   \n",
       "6   eduardo-najera-1   Eduardo Najera  Player          oklahoma      215   \n",
       "7    lavor-postell-1    Lavor Postell  Player       st johns ny      205   \n",
       "8    hanno-mottola-1    Hanno Mottola    Bust              utah      139   \n",
       "9  chris-carrawell-1  Chris Carrawell    Bust              duke      309   \n",
       "\n",
       "   blocks  effective_field_goal_percentage  field_goal_percentage  \\\n",
       "0     292                            0.587                  0.586   \n",
       "1      52                            0.541                  0.455   \n",
       "2     193                            0.542                  0.542   \n",
       "3      10                            0.486                  0.416   \n",
       "4      42                            0.507                  0.428   \n",
       "5      19                            0.495                  0.425   \n",
       "6      89                            0.460                  0.430   \n",
       "7      58                            0.470                  0.430   \n",
       "8      50                            0.533                  0.500   \n",
       "9     114                            0.514                  0.486   \n",
       "\n",
       "   free_throw_attempt_rate  free_throw_percentage  games_played  height  \\\n",
       "0                    0.494                  0.581           116      81   \n",
       "1                    0.249                  0.790           128      73   \n",
       "2                    0.555                  0.656           138      83   \n",
       "3                    0.257                  0.822           108      70   \n",
       "4                    0.357                  0.769            55      80   \n",
       "5                    0.187                  0.798           124      73   \n",
       "6                    0.354                  0.669           126      80   \n",
       "7                    0.383                  0.789           129      77   \n",
       "8                    0.415                  0.774           120      83   \n",
       "9                    0.415                  0.667           136      78   \n",
       "\n",
       "   minutes_played  points  steals  three_point_percentage  three_pointers  \\\n",
       "0     2042.000000    1279     124                0.222000             2.0   \n",
       "1     3260.000000    2100     129                0.414000           283.0   \n",
       "2     2184.000000     863      86                0.329163             0.0   \n",
       "3     2149.000000    1650     186                0.355000           195.0   \n",
       "4     1938.000000    1062      90                0.318000           130.0   \n",
       "5     4136.000000    2044     258                0.366000           250.0   \n",
       "6     3001.000000    1646     193                0.288000            85.0   \n",
       "7     2845.000000    1427     129                0.326000            92.0   \n",
       "8     2162.000000    1492      37                0.333000            71.0   \n",
       "9     2497.458432    1455     105                0.360000            62.0   \n",
       "\n",
       "   total_rebounds  true_shooting_percentage  turnover_percentage  turnovers  \\\n",
       "0             869                     0.592            14.300000  139.00000   \n",
       "1             429                     0.572            13.600000  218.00000   \n",
       "2             880                     0.573            23.000000  160.00000   \n",
       "3             319                     0.527            15.600000  188.00000   \n",
       "4             449                     0.551            20.000000  241.00000   \n",
       "5             502                     0.523            10.800000  195.00000   \n",
       "6             910                     0.495            13.100000  201.00000   \n",
       "7             716                     0.526            13.800000  172.00000   \n",
       "8             551                     0.580            14.900000  159.00000   \n",
       "9             608                     0.545            15.209338  177.27896   \n",
       "\n",
       "   win_shares_per_40_minutes  assists_per_40  blocks_per_40  points_per_40  \\\n",
       "0                   0.346000        2.781587       5.719882      25.053869   \n",
       "1                   0.145000        4.944785       0.638037      25.766871   \n",
       "2                   0.237000        2.271062       3.534799      15.805861   \n",
       "3                   0.158000        8.915775       0.186133      30.711959   \n",
       "4                   0.165000        3.034056       0.866873      21.919505   \n",
       "5                   0.113000        3.916828       0.183752      19.767892   \n",
       "6                   0.183000        2.865711       1.186271      21.939354   \n",
       "7                   0.115000        2.882250       0.815466      20.063269   \n",
       "8                   0.207000        2.571693       0.925069      27.604070   \n",
       "9                   0.181716        3.018494       1.357832      18.738180   \n",
       "\n",
       "   steals_per_40  three_pointers_per_40  total_rebounds_per_40  \\\n",
       "0       2.428991               0.039177              17.022527   \n",
       "1       1.582822               3.472393               5.263804   \n",
       "2       1.575092               0.000000              16.117216   \n",
       "3       3.462075               3.629595               5.937645   \n",
       "4       1.857585               2.683179               9.267286   \n",
       "5       2.495164               2.417795               4.854932   \n",
       "6       2.572476               1.132956              12.129290   \n",
       "7       1.813708               1.293497              10.066784   \n",
       "8       0.684551               1.313599              10.194265   \n",
       "9       1.505259               1.288549               8.322600   \n",
       "\n",
       "   turnovers_per_40  \n",
       "0          2.722821  \n",
       "1          2.674847  \n",
       "2          2.930403  \n",
       "3          3.499302  \n",
       "4          4.974200  \n",
       "5          1.885880  \n",
       "6          2.679107  \n",
       "7          2.418278  \n",
       "8          2.941721  \n",
       "9          2.901975  "
      ]
     },
     "execution_count": 415,
     "metadata": {},
     "output_type": "execute_result"
    }
   ],
   "source": [
    "df.head(10)"
   ]
  },
  {
   "cell_type": "code",
   "execution_count": 416,
   "metadata": {},
   "outputs": [],
   "source": [
    "df.to_csv(\"NCAA_data.csv\",index = False, header = True)"
   ]
  },
  {
   "cell_type": "code",
   "execution_count": null,
   "metadata": {},
   "outputs": [],
   "source": []
  }
 ],
 "metadata": {
  "kernelspec": {
   "display_name": "Python 3",
   "language": "python",
   "name": "python3"
  },
  "language_info": {
   "codemirror_mode": {
    "name": "ipython",
    "version": 3
   },
   "file_extension": ".py",
   "mimetype": "text/x-python",
   "name": "python",
   "nbconvert_exporter": "python",
   "pygments_lexer": "ipython3",
   "version": "3.7.3"
  }
 },
 "nbformat": 4,
 "nbformat_minor": 2
}

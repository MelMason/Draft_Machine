{
 "cells": [
  {
   "cell_type": "code",
   "execution_count": 16,
   "metadata": {},
   "outputs": [],
   "source": [
    "from sportsreference.nba.roster import Roster"
   ]
  },
  {
   "cell_type": "code",
   "execution_count": 17,
   "metadata": {},
   "outputs": [
    {
     "name": "stdout",
     "output_type": "stream",
     "text": [
      "Justin Abdelkader 725\n",
      "Tyler Bertuzzi 180\n",
      "Alex Biega 179\n",
      "Madison Bowey 84\n",
      "Dennis Cholowski 83\n",
      "Trevor Daley 756\n",
      "Christoffer Ehn 99\n",
      "Jonathan Ericsson 672\n",
      "Adam Erne 114\n",
      "Robby Fabbri 164\n",
      "Valtteri Filppula 534\n",
      "Luke Glendening 481\n",
      "Mike Green 575\n",
      "Darren Helm 680\n",
      "Jimmy Howard None\n",
      "Filip Hronek 96\n",
      "Dylan Larkin 370\n",
      "Patrik Nemeth 108\n",
      "Frans Nielsen 606\n",
      "Brendan Perlini 153\n",
      "Calvin Pickard None\n",
      "Givani Smith 16\n",
      "Filip Zadina 36\n"
     ]
    }
   ],
   "source": [
    "\n",
    "from sportsreference.nhl.roster import Roster\n",
    "\n",
    "detroit = Roster('DET')\n",
    "for player in detroit.players:\n",
    "    print(player.name, player.games_played)"
   ]
  },
  {
   "cell_type": "code",
   "execution_count": null,
   "metadata": {},
   "outputs": [],
   "source": []
  }
 ],
 "metadata": {
  "kernelspec": {
   "display_name": "Python 3",
   "language": "python",
   "name": "python3"
  },
  "language_info": {
   "codemirror_mode": {
    "name": "ipython",
    "version": 3
   },
   "file_extension": ".py",
   "mimetype": "text/x-python",
   "name": "python",
   "nbconvert_exporter": "python",
   "pygments_lexer": "ipython3",
   "version": "3.7.3"
  }
 },
 "nbformat": 4,
 "nbformat_minor": 2
}

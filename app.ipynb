{
 "cells": [
  {
   "cell_type": "code",
   "execution_count": 22,
   "metadata": {},
   "outputs": [],
   "source": [
    "import pickle\n",
    "from flask import Flask, jsonify, render_template, request\n",
    "import warnings\n",
    "warnings.filterwarnings('ignore')"
   ]
  },
  {
   "cell_type": "code",
   "execution_count": 23,
   "metadata": {},
   "outputs": [],
   "source": [
    "app = Flask(__name__)"
   ]
  },
  {
   "cell_type": "code",
   "execution_count": 24,
   "metadata": {},
   "outputs": [],
   "source": [
    "model = pickle.load(open('random_forest/random_forest.pkl', 'rb'))\n"
   ]
  },
  {
   "cell_type": "code",
   "execution_count": 19,
   "metadata": {},
   "outputs": [],
   "source": [
    "#return homepage\n",
    "@app.route(\"/\")\n",
    "def index():\n",
    "    return render_template(\"index.html\")"
   ]
  },
  {
   "cell_type": "code",
   "execution_count": 20,
   "metadata": {},
   "outputs": [],
   "source": [
    "#get results from create player\n",
    "@app.route('/create-player', methods=['POST'])\n",
    "def predict():\n",
    "\n",
    "    name = request.form['player_name']\n",
    "\n",
    "#     prediction = model.predict(final_features)\n",
    "\n",
    "#     output = round(prediction[0], 2)\n",
    "\n",
    "    return render_template('index.html', evaluation_text = name)\n"
   ]
  },
  {
   "cell_type": "code",
   "execution_count": null,
   "metadata": {},
   "outputs": [],
   "source": [
    "if __name__ == \"__main__\":\n",
    "    app.run(debug=True)"
   ]
  },
  {
   "cell_type": "code",
   "execution_count": 1,
   "metadata": {},
   "outputs": [],
   "source": [
    "fg ='20%'\n",
    "fg = fg.replace(\"%\", \"\")\n",
    "fg = int(fg)"
   ]
  },
  {
   "cell_type": "code",
   "execution_count": 4,
   "metadata": {},
   "outputs": [
    {
     "data": {
      "text/plain": [
       "int"
      ]
     },
     "execution_count": 4,
     "metadata": {},
     "output_type": "execute_result"
    }
   ],
   "source": [
    "type(fg)"
   ]
  },
  {
   "cell_type": "code",
   "execution_count": 16,
   "metadata": {},
   "outputs": [],
   "source": [
    "    name = 'Keith'\n",
    "    height = '70'\n",
    "    fg = '45%'\n",
    "    ws40 = '0.2'\n",
    "    trues = '50%'\n",
    "    ftar = '0.2'\n",
    "    trey = '45%'\n",
    "\n",
    "    height = int(height)\n",
    "    fg = float(fg.replace(\"%\", \"\"))*.01\n",
    "    ws40= float(ws40)\n",
    "    trues = float(trues.replace(\"%\", \"\"))*.01\n",
    "    ftar = float(ftar)\n",
    "    trey = float(trey.replace(\"%\", \"\"))*.01\n",
    "\n",
    "\n",
    "#     feature_list = []\n",
    "\n",
    "#     model = pickle.load(open('random_forest.pkl', 'rb'))\n",
    "#     features = [np.array(int_features)]"
   ]
  },
  {
   "cell_type": "code",
   "execution_count": 14,
   "metadata": {},
   "outputs": [
    {
     "name": "stdout",
     "output_type": "stream",
     "text": [
      "70 0.45 0.2 0.5 0.2 0.45\n"
     ]
    }
   ],
   "source": [
    "feature_list = [height, fg, ws40, trues, ftar, trey]"
   ]
  },
  {
   "cell_type": "code",
   "execution_count": null,
   "metadata": {},
   "outputs": [],
   "source": []
  }
 ],
 "metadata": {
  "kernelspec": {
   "display_name": "Python 3",
   "language": "python",
   "name": "python3"
  },
  "language_info": {
   "codemirror_mode": {
    "name": "ipython",
    "version": 3
   },
   "file_extension": ".py",
   "mimetype": "text/x-python",
   "name": "python",
   "nbconvert_exporter": "python",
   "pygments_lexer": "ipython3",
   "version": "3.7.3"
  }
 },
 "nbformat": 4,
 "nbformat_minor": 2
}

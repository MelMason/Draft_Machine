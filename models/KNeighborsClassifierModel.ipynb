{
 "cells": [
  {
   "cell_type": "code",
   "execution_count": 1,
   "metadata": {},
   "outputs": [],
   "source": [
    "import matplotlib.pyplot as plt\n",
    "from sklearn.neighbors import KNeighborsClassifier\n",
    "import pandas as pd\n",
    "import os"
   ]
  },
  {
   "cell_type": "code",
   "execution_count": 2,
   "metadata": {},
   "outputs": [
    {
<<<<<<< HEAD
     "data": {
      "text/html": [
       "<div>\n",
       "<style scoped>\n",
       "    .dataframe tbody tr th:only-of-type {\n",
       "        vertical-align: middle;\n",
       "    }\n",
       "\n",
       "    .dataframe tbody tr th {\n",
       "        vertical-align: top;\n",
       "    }\n",
       "\n",
       "    .dataframe thead th {\n",
       "        text-align: right;\n",
       "    }\n",
       "</style>\n",
       "<table border=\"1\" class=\"dataframe\">\n",
       "  <thead>\n",
       "    <tr style=\"text-align: right;\">\n",
       "      <th></th>\n",
       "      <th>player_id</th>\n",
       "      <th>name</th>\n",
       "      <th>class</th>\n",
       "      <th>college</th>\n",
       "      <th>assists</th>\n",
       "      <th>blocks</th>\n",
       "      <th>effective_field_goal_percentage</th>\n",
       "      <th>field_goal_percentage</th>\n",
       "      <th>free_throw_attempt_rate</th>\n",
       "      <th>free_throw_percentage</th>\n",
       "      <th>...</th>\n",
       "      <th>turnover_percentage</th>\n",
       "      <th>turnovers</th>\n",
       "      <th>win_shares_per_40_minutes</th>\n",
       "      <th>assists_per_40</th>\n",
       "      <th>blocks_per_40</th>\n",
       "      <th>points_per_40</th>\n",
       "      <th>steals_per_40</th>\n",
       "      <th>three_pointers_per_40</th>\n",
       "      <th>total_rebounds_per_40</th>\n",
       "      <th>turnovers_per_40</th>\n",
       "    </tr>\n",
       "  </thead>\n",
       "  <tbody>\n",
       "    <tr>\n",
       "      <th>0</th>\n",
       "      <td>kenyon-martin-1</td>\n",
       "      <td>Kenyon Martin</td>\n",
       "      <td>Above Avg</td>\n",
       "      <td>cincinnati</td>\n",
       "      <td>142</td>\n",
       "      <td>292</td>\n",
       "      <td>0.587</td>\n",
       "      <td>0.586</td>\n",
       "      <td>0.494</td>\n",
       "      <td>0.581</td>\n",
       "      <td>...</td>\n",
       "      <td>14.3</td>\n",
       "      <td>139.0</td>\n",
       "      <td>0.346</td>\n",
       "      <td>2.781587</td>\n",
       "      <td>5.719882</td>\n",
       "      <td>25.053869</td>\n",
       "      <td>2.428991</td>\n",
       "      <td>0.039177</td>\n",
       "      <td>17.022527</td>\n",
       "      <td>2.722821</td>\n",
       "    </tr>\n",
       "    <tr>\n",
       "      <th>1</th>\n",
       "      <td>aj-guyton-1</td>\n",
       "      <td>A.J. Guyton</td>\n",
       "      <td>Below Avg</td>\n",
       "      <td>indiana</td>\n",
       "      <td>403</td>\n",
       "      <td>52</td>\n",
       "      <td>0.541</td>\n",
       "      <td>0.455</td>\n",
       "      <td>0.249</td>\n",
       "      <td>0.790</td>\n",
       "      <td>...</td>\n",
       "      <td>13.6</td>\n",
       "      <td>218.0</td>\n",
       "      <td>0.145</td>\n",
       "      <td>4.944785</td>\n",
       "      <td>0.638037</td>\n",
       "      <td>25.766871</td>\n",
       "      <td>1.582822</td>\n",
       "      <td>3.472393</td>\n",
       "      <td>5.263804</td>\n",
       "      <td>2.674847</td>\n",
       "    </tr>\n",
       "    <tr>\n",
       "      <th>2</th>\n",
       "      <td>jake-voskuhl-1</td>\n",
       "      <td>Jake Voskuhl</td>\n",
       "      <td>Below Avg</td>\n",
       "      <td>uconn</td>\n",
       "      <td>124</td>\n",
       "      <td>193</td>\n",
       "      <td>0.542</td>\n",
       "      <td>0.542</td>\n",
       "      <td>0.555</td>\n",
       "      <td>0.656</td>\n",
       "      <td>...</td>\n",
       "      <td>23.0</td>\n",
       "      <td>160.0</td>\n",
       "      <td>0.237</td>\n",
       "      <td>2.271062</td>\n",
       "      <td>3.534799</td>\n",
       "      <td>15.805861</td>\n",
       "      <td>1.575092</td>\n",
       "      <td>0.000000</td>\n",
       "      <td>16.117216</td>\n",
       "      <td>2.930403</td>\n",
       "    </tr>\n",
       "    <tr>\n",
       "      <th>3</th>\n",
       "      <td>khalid-el-amin-1</td>\n",
       "      <td>Khalid El-Amin</td>\n",
       "      <td>Bust</td>\n",
       "      <td>uconn</td>\n",
       "      <td>479</td>\n",
       "      <td>10</td>\n",
       "      <td>0.486</td>\n",
       "      <td>0.416</td>\n",
       "      <td>0.257</td>\n",
       "      <td>0.822</td>\n",
       "      <td>...</td>\n",
       "      <td>15.6</td>\n",
       "      <td>188.0</td>\n",
       "      <td>0.158</td>\n",
       "      <td>8.915775</td>\n",
       "      <td>0.186133</td>\n",
       "      <td>30.711959</td>\n",
       "      <td>3.462075</td>\n",
       "      <td>3.629595</td>\n",
       "      <td>5.937645</td>\n",
       "      <td>3.499302</td>\n",
       "    </tr>\n",
       "    <tr>\n",
       "      <th>4</th>\n",
       "      <td>mike-smith-1</td>\n",
       "      <td>Mike Smith</td>\n",
       "      <td>Bust</td>\n",
       "      <td>louisiana monroe</td>\n",
       "      <td>147</td>\n",
       "      <td>42</td>\n",
       "      <td>0.507</td>\n",
       "      <td>0.428</td>\n",
       "      <td>0.357</td>\n",
       "      <td>0.769</td>\n",
       "      <td>...</td>\n",
       "      <td>20.0</td>\n",
       "      <td>241.0</td>\n",
       "      <td>0.165</td>\n",
       "      <td>3.034056</td>\n",
       "      <td>0.866873</td>\n",
       "      <td>21.919505</td>\n",
       "      <td>1.857585</td>\n",
       "      <td>2.683179</td>\n",
       "      <td>9.267286</td>\n",
       "      <td>4.974200</td>\n",
       "    </tr>\n",
       "  </tbody>\n",
       "</table>\n",
       "<p>5 rows × 29 columns</p>\n",
       "</div>"
      ],
      "text/plain": [
       "          player_id            name      class           college  assists  \\\n",
       "0   kenyon-martin-1   Kenyon Martin  Above Avg        cincinnati      142   \n",
       "1       aj-guyton-1     A.J. Guyton  Below Avg           indiana      403   \n",
       "2    jake-voskuhl-1    Jake Voskuhl  Below Avg             uconn      124   \n",
       "3  khalid-el-amin-1  Khalid El-Amin       Bust             uconn      479   \n",
       "4      mike-smith-1      Mike Smith       Bust  louisiana monroe      147   \n",
       "\n",
       "   blocks  effective_field_goal_percentage  field_goal_percentage  \\\n",
       "0     292                            0.587                  0.586   \n",
       "1      52                            0.541                  0.455   \n",
       "2     193                            0.542                  0.542   \n",
       "3      10                            0.486                  0.416   \n",
       "4      42                            0.507                  0.428   \n",
       "\n",
       "   free_throw_attempt_rate  free_throw_percentage  ...  turnover_percentage  \\\n",
       "0                    0.494                  0.581  ...                 14.3   \n",
       "1                    0.249                  0.790  ...                 13.6   \n",
       "2                    0.555                  0.656  ...                 23.0   \n",
       "3                    0.257                  0.822  ...                 15.6   \n",
       "4                    0.357                  0.769  ...                 20.0   \n",
       "\n",
       "   turnovers  win_shares_per_40_minutes  assists_per_40  blocks_per_40  \\\n",
       "0      139.0                      0.346        2.781587       5.719882   \n",
       "1      218.0                      0.145        4.944785       0.638037   \n",
       "2      160.0                      0.237        2.271062       3.534799   \n",
       "3      188.0                      0.158        8.915775       0.186133   \n",
       "4      241.0                      0.165        3.034056       0.866873   \n",
       "\n",
       "   points_per_40  steals_per_40  three_pointers_per_40  total_rebounds_per_40  \\\n",
       "0      25.053869       2.428991               0.039177              17.022527   \n",
       "1      25.766871       1.582822               3.472393               5.263804   \n",
       "2      15.805861       1.575092               0.000000              16.117216   \n",
       "3      30.711959       3.462075               3.629595               5.937645   \n",
       "4      21.919505       1.857585               2.683179               9.267286   \n",
       "\n",
       "   turnovers_per_40  \n",
       "0          2.722821  \n",
       "1          2.674847  \n",
       "2          2.930403  \n",
       "3          3.499302  \n",
       "4          4.974200  \n",
       "\n",
       "[5 rows x 29 columns]"
      ]
     },
     "execution_count": 2,
     "metadata": {},
     "output_type": "execute_result"
    }
   ],
   "source": [
    "df = pd.read_csv('NCAA_data.csv')\n",
=======
     "ename": "FileNotFoundError",
     "evalue": "[Errno 2] File NCAA_data_4categories.csv does not exist: 'NCAA_data_4categories.csv'",
     "output_type": "error",
     "traceback": [
      "\u001b[1;31m---------------------------------------------------------------------------\u001b[0m",
      "\u001b[1;31mFileNotFoundError\u001b[0m                         Traceback (most recent call last)",
      "\u001b[1;32m<ipython-input-2-8ae1809c8c75>\u001b[0m in \u001b[0;36m<module>\u001b[1;34m\u001b[0m\n\u001b[1;32m----> 1\u001b[1;33m \u001b[0mdf\u001b[0m \u001b[1;33m=\u001b[0m \u001b[0mpd\u001b[0m\u001b[1;33m.\u001b[0m\u001b[0mread_csv\u001b[0m\u001b[1;33m(\u001b[0m\u001b[1;34m'NCAA_data_4categories.csv'\u001b[0m\u001b[1;33m)\u001b[0m\u001b[1;33m\u001b[0m\u001b[1;33m\u001b[0m\u001b[0m\n\u001b[0m\u001b[0;32m      2\u001b[0m \u001b[0mdf\u001b[0m\u001b[1;33m.\u001b[0m\u001b[0mhead\u001b[0m\u001b[1;33m(\u001b[0m\u001b[1;33m)\u001b[0m\u001b[1;33m\u001b[0m\u001b[1;33m\u001b[0m\u001b[0m\n",
      "\u001b[1;32m~\\.conda\\envs\\pythondata\\lib\\site-packages\\pandas\\io\\parsers.py\u001b[0m in \u001b[0;36mparser_f\u001b[1;34m(filepath_or_buffer, sep, delimiter, header, names, index_col, usecols, squeeze, prefix, mangle_dupe_cols, dtype, engine, converters, true_values, false_values, skipinitialspace, skiprows, skipfooter, nrows, na_values, keep_default_na, na_filter, verbose, skip_blank_lines, parse_dates, infer_datetime_format, keep_date_col, date_parser, dayfirst, cache_dates, iterator, chunksize, compression, thousands, decimal, lineterminator, quotechar, quoting, doublequote, escapechar, comment, encoding, dialect, error_bad_lines, warn_bad_lines, delim_whitespace, low_memory, memory_map, float_precision)\u001b[0m\n\u001b[0;32m    674\u001b[0m         )\n\u001b[0;32m    675\u001b[0m \u001b[1;33m\u001b[0m\u001b[0m\n\u001b[1;32m--> 676\u001b[1;33m         \u001b[1;32mreturn\u001b[0m \u001b[0m_read\u001b[0m\u001b[1;33m(\u001b[0m\u001b[0mfilepath_or_buffer\u001b[0m\u001b[1;33m,\u001b[0m \u001b[0mkwds\u001b[0m\u001b[1;33m)\u001b[0m\u001b[1;33m\u001b[0m\u001b[1;33m\u001b[0m\u001b[0m\n\u001b[0m\u001b[0;32m    677\u001b[0m \u001b[1;33m\u001b[0m\u001b[0m\n\u001b[0;32m    678\u001b[0m     \u001b[0mparser_f\u001b[0m\u001b[1;33m.\u001b[0m\u001b[0m__name__\u001b[0m \u001b[1;33m=\u001b[0m \u001b[0mname\u001b[0m\u001b[1;33m\u001b[0m\u001b[1;33m\u001b[0m\u001b[0m\n",
      "\u001b[1;32m~\\.conda\\envs\\pythondata\\lib\\site-packages\\pandas\\io\\parsers.py\u001b[0m in \u001b[0;36m_read\u001b[1;34m(filepath_or_buffer, kwds)\u001b[0m\n\u001b[0;32m    446\u001b[0m \u001b[1;33m\u001b[0m\u001b[0m\n\u001b[0;32m    447\u001b[0m     \u001b[1;31m# Create the parser.\u001b[0m\u001b[1;33m\u001b[0m\u001b[1;33m\u001b[0m\u001b[1;33m\u001b[0m\u001b[0m\n\u001b[1;32m--> 448\u001b[1;33m     \u001b[0mparser\u001b[0m \u001b[1;33m=\u001b[0m \u001b[0mTextFileReader\u001b[0m\u001b[1;33m(\u001b[0m\u001b[0mfp_or_buf\u001b[0m\u001b[1;33m,\u001b[0m \u001b[1;33m**\u001b[0m\u001b[0mkwds\u001b[0m\u001b[1;33m)\u001b[0m\u001b[1;33m\u001b[0m\u001b[1;33m\u001b[0m\u001b[0m\n\u001b[0m\u001b[0;32m    449\u001b[0m \u001b[1;33m\u001b[0m\u001b[0m\n\u001b[0;32m    450\u001b[0m     \u001b[1;32mif\u001b[0m \u001b[0mchunksize\u001b[0m \u001b[1;32mor\u001b[0m \u001b[0miterator\u001b[0m\u001b[1;33m:\u001b[0m\u001b[1;33m\u001b[0m\u001b[1;33m\u001b[0m\u001b[0m\n",
      "\u001b[1;32m~\\.conda\\envs\\pythondata\\lib\\site-packages\\pandas\\io\\parsers.py\u001b[0m in \u001b[0;36m__init__\u001b[1;34m(self, f, engine, **kwds)\u001b[0m\n\u001b[0;32m    878\u001b[0m             \u001b[0mself\u001b[0m\u001b[1;33m.\u001b[0m\u001b[0moptions\u001b[0m\u001b[1;33m[\u001b[0m\u001b[1;34m\"has_index_names\"\u001b[0m\u001b[1;33m]\u001b[0m \u001b[1;33m=\u001b[0m \u001b[0mkwds\u001b[0m\u001b[1;33m[\u001b[0m\u001b[1;34m\"has_index_names\"\u001b[0m\u001b[1;33m]\u001b[0m\u001b[1;33m\u001b[0m\u001b[1;33m\u001b[0m\u001b[0m\n\u001b[0;32m    879\u001b[0m \u001b[1;33m\u001b[0m\u001b[0m\n\u001b[1;32m--> 880\u001b[1;33m         \u001b[0mself\u001b[0m\u001b[1;33m.\u001b[0m\u001b[0m_make_engine\u001b[0m\u001b[1;33m(\u001b[0m\u001b[0mself\u001b[0m\u001b[1;33m.\u001b[0m\u001b[0mengine\u001b[0m\u001b[1;33m)\u001b[0m\u001b[1;33m\u001b[0m\u001b[1;33m\u001b[0m\u001b[0m\n\u001b[0m\u001b[0;32m    881\u001b[0m \u001b[1;33m\u001b[0m\u001b[0m\n\u001b[0;32m    882\u001b[0m     \u001b[1;32mdef\u001b[0m \u001b[0mclose\u001b[0m\u001b[1;33m(\u001b[0m\u001b[0mself\u001b[0m\u001b[1;33m)\u001b[0m\u001b[1;33m:\u001b[0m\u001b[1;33m\u001b[0m\u001b[1;33m\u001b[0m\u001b[0m\n",
      "\u001b[1;32m~\\.conda\\envs\\pythondata\\lib\\site-packages\\pandas\\io\\parsers.py\u001b[0m in \u001b[0;36m_make_engine\u001b[1;34m(self, engine)\u001b[0m\n\u001b[0;32m   1112\u001b[0m     \u001b[1;32mdef\u001b[0m \u001b[0m_make_engine\u001b[0m\u001b[1;33m(\u001b[0m\u001b[0mself\u001b[0m\u001b[1;33m,\u001b[0m \u001b[0mengine\u001b[0m\u001b[1;33m=\u001b[0m\u001b[1;34m\"c\"\u001b[0m\u001b[1;33m)\u001b[0m\u001b[1;33m:\u001b[0m\u001b[1;33m\u001b[0m\u001b[1;33m\u001b[0m\u001b[0m\n\u001b[0;32m   1113\u001b[0m         \u001b[1;32mif\u001b[0m \u001b[0mengine\u001b[0m \u001b[1;33m==\u001b[0m \u001b[1;34m\"c\"\u001b[0m\u001b[1;33m:\u001b[0m\u001b[1;33m\u001b[0m\u001b[1;33m\u001b[0m\u001b[0m\n\u001b[1;32m-> 1114\u001b[1;33m             \u001b[0mself\u001b[0m\u001b[1;33m.\u001b[0m\u001b[0m_engine\u001b[0m \u001b[1;33m=\u001b[0m \u001b[0mCParserWrapper\u001b[0m\u001b[1;33m(\u001b[0m\u001b[0mself\u001b[0m\u001b[1;33m.\u001b[0m\u001b[0mf\u001b[0m\u001b[1;33m,\u001b[0m \u001b[1;33m**\u001b[0m\u001b[0mself\u001b[0m\u001b[1;33m.\u001b[0m\u001b[0moptions\u001b[0m\u001b[1;33m)\u001b[0m\u001b[1;33m\u001b[0m\u001b[1;33m\u001b[0m\u001b[0m\n\u001b[0m\u001b[0;32m   1115\u001b[0m         \u001b[1;32melse\u001b[0m\u001b[1;33m:\u001b[0m\u001b[1;33m\u001b[0m\u001b[1;33m\u001b[0m\u001b[0m\n\u001b[0;32m   1116\u001b[0m             \u001b[1;32mif\u001b[0m \u001b[0mengine\u001b[0m \u001b[1;33m==\u001b[0m \u001b[1;34m\"python\"\u001b[0m\u001b[1;33m:\u001b[0m\u001b[1;33m\u001b[0m\u001b[1;33m\u001b[0m\u001b[0m\n",
      "\u001b[1;32m~\\.conda\\envs\\pythondata\\lib\\site-packages\\pandas\\io\\parsers.py\u001b[0m in \u001b[0;36m__init__\u001b[1;34m(self, src, **kwds)\u001b[0m\n\u001b[0;32m   1889\u001b[0m         \u001b[0mkwds\u001b[0m\u001b[1;33m[\u001b[0m\u001b[1;34m\"usecols\"\u001b[0m\u001b[1;33m]\u001b[0m \u001b[1;33m=\u001b[0m \u001b[0mself\u001b[0m\u001b[1;33m.\u001b[0m\u001b[0musecols\u001b[0m\u001b[1;33m\u001b[0m\u001b[1;33m\u001b[0m\u001b[0m\n\u001b[0;32m   1890\u001b[0m \u001b[1;33m\u001b[0m\u001b[0m\n\u001b[1;32m-> 1891\u001b[1;33m         \u001b[0mself\u001b[0m\u001b[1;33m.\u001b[0m\u001b[0m_reader\u001b[0m \u001b[1;33m=\u001b[0m \u001b[0mparsers\u001b[0m\u001b[1;33m.\u001b[0m\u001b[0mTextReader\u001b[0m\u001b[1;33m(\u001b[0m\u001b[0msrc\u001b[0m\u001b[1;33m,\u001b[0m \u001b[1;33m**\u001b[0m\u001b[0mkwds\u001b[0m\u001b[1;33m)\u001b[0m\u001b[1;33m\u001b[0m\u001b[1;33m\u001b[0m\u001b[0m\n\u001b[0m\u001b[0;32m   1892\u001b[0m         \u001b[0mself\u001b[0m\u001b[1;33m.\u001b[0m\u001b[0munnamed_cols\u001b[0m \u001b[1;33m=\u001b[0m \u001b[0mself\u001b[0m\u001b[1;33m.\u001b[0m\u001b[0m_reader\u001b[0m\u001b[1;33m.\u001b[0m\u001b[0munnamed_cols\u001b[0m\u001b[1;33m\u001b[0m\u001b[1;33m\u001b[0m\u001b[0m\n\u001b[0;32m   1893\u001b[0m \u001b[1;33m\u001b[0m\u001b[0m\n",
      "\u001b[1;32mpandas\\_libs\\parsers.pyx\u001b[0m in \u001b[0;36mpandas._libs.parsers.TextReader.__cinit__\u001b[1;34m()\u001b[0m\n",
      "\u001b[1;32mpandas\\_libs\\parsers.pyx\u001b[0m in \u001b[0;36mpandas._libs.parsers.TextReader._setup_parser_source\u001b[1;34m()\u001b[0m\n",
      "\u001b[1;31mFileNotFoundError\u001b[0m: [Errno 2] File NCAA_data_4categories.csv does not exist: 'NCAA_data_4categories.csv'"
     ]
    }
   ],
   "source": [
    "df = pd.read_csv('NCAA_data_4categories.csv')\n",
>>>>>>> origin
    "df.head()"
   ]
  },
  {
   "cell_type": "markdown",
   "metadata": {},
   "source": [
    "#PREPROCESSING"
   ]
  },
  {
   "cell_type": "code",
<<<<<<< HEAD
   "execution_count": 3,
=======
   "execution_count": null,
>>>>>>> origin
   "metadata": {},
   "outputs": [],
   "source": [
    "y = df[\"class\"]  \n"
   ]
  },
  {
   "cell_type": "code",
<<<<<<< HEAD
   "execution_count": 4,
   "metadata": {},
   "outputs": [
    {
     "data": {
      "text/plain": [
       "player_id                           object\n",
       "name                                object\n",
       "class                               object\n",
       "college                             object\n",
       "assists                              int64\n",
       "blocks                               int64\n",
       "effective_field_goal_percentage    float64\n",
       "field_goal_percentage              float64\n",
       "free_throw_attempt_rate            float64\n",
       "free_throw_percentage              float64\n",
       "games_played                         int64\n",
       "height                               int64\n",
       "minutes_played                     float64\n",
       "points                               int64\n",
       "steals                               int64\n",
       "three_point_percentage             float64\n",
       "three_pointers                     float64\n",
       "total_rebounds                       int64\n",
       "true_shooting_percentage           float64\n",
       "turnover_percentage                float64\n",
       "turnovers                          float64\n",
       "win_shares_per_40_minutes          float64\n",
       "assists_per_40                     float64\n",
       "blocks_per_40                      float64\n",
       "points_per_40                      float64\n",
       "steals_per_40                      float64\n",
       "three_pointers_per_40              float64\n",
       "total_rebounds_per_40              float64\n",
       "turnovers_per_40                   float64\n",
       "dtype: object"
      ]
     },
     "execution_count": 4,
     "metadata": {},
     "output_type": "execute_result"
    }
   ],
=======
   "execution_count": null,
   "metadata": {},
   "outputs": [],
>>>>>>> origin
   "source": [
    "df.dtypes"
   ]
  },
  {
   "cell_type": "code",
   "execution_count": null,
   "metadata": {
    "scrolled": true
   },
   "outputs": [],
   "source": [
    "#X = df.drop([\"class\",\"name\", \"college\",\"player_id\"], axis=1)\n",
    "#X.head()"
   ]
  },
  {
   "cell_type": "code",
<<<<<<< HEAD
   "execution_count": 5,
=======
   "execution_count": null,
>>>>>>> origin
   "metadata": {},
   "outputs": [],
   "source": [
    "X = df[['win_shares_per_40_minutes', 'field_goal_percentage', 'games_played', 'total_rebounds_per_40','free_throw_attempt_rate','turnovers_per_40', 'true_shooting_percentage' ]]"
   ]
  },
  {
   "cell_type": "code",
   "execution_count": null,
   "metadata": {},
   "outputs": [],
   "source": [
    "X = df[['assists ',''"
   ]
  },
  {
   "cell_type": "code",
<<<<<<< HEAD
   "execution_count": 6,
=======
   "execution_count": null,
>>>>>>> origin
   "metadata": {},
   "outputs": [],
   "source": [
    "#Split into testing and training\n",
    "from sklearn.model_selection import train_test_split\n",
    "X_train, X_test, y_train, y_test = train_test_split(X, y, random_state=42)"
   ]
  },
  {
   "cell_type": "code",
<<<<<<< HEAD
   "execution_count": 7,
=======
   "execution_count": null,
>>>>>>> origin
   "metadata": {},
   "outputs": [],
   "source": [
    "from sklearn.preprocessing import StandardScaler\n",
    "X_scaler = StandardScaler().fit(X_train)"
   ]
  },
  {
   "cell_type": "code",
<<<<<<< HEAD
   "execution_count": 8,
=======
   "execution_count": null,
>>>>>>> origin
   "metadata": {},
   "outputs": [],
   "source": [
    "X_train_scaled = X_scaler.transform(X_train)\n",
    "X_test_scaled = X_scaler.transform(X_test)"
   ]
  },
  {
   "cell_type": "markdown",
   "metadata": {},
   "source": [
    "## Model Training"
   ]
  },
  {
   "cell_type": "code",
<<<<<<< HEAD
   "execution_count": 9,
   "metadata": {},
   "outputs": [
    {
     "name": "stdout",
     "output_type": "stream",
     "text": [
      "k: 1, Train/Test Score: 0.998/0.280\n",
      "k: 3, Train/Test Score: 0.631/0.327\n",
      "k: 5, Train/Test Score: 0.551/0.336\n",
      "k: 7, Train/Test Score: 0.499/0.290\n",
      "k: 9, Train/Test Score: 0.479/0.332\n",
      "k: 11, Train/Test Score: 0.459/0.369\n",
      "k: 13, Train/Test Score: 0.471/0.332\n",
      "k: 15, Train/Test Score: 0.465/0.332\n",
      "k: 17, Train/Test Score: 0.444/0.341\n",
      "k: 19, Train/Test Score: 0.443/0.318\n"
     ]
    }
   ],
=======
   "execution_count": null,
   "metadata": {},
   "outputs": [],
>>>>>>> origin
   "source": [
    "train_scores = []\n",
    "test_scores = []\n",
    "for k in range (1, 20, 2):\n",
    "    knn = KNeighborsClassifier(n_neighbors=k)\n",
    "    knn.fit(X_train, y_train)\n",
    "    train_score = knn.score(X_train, y_train)\n",
    "    test_score = knn.score(X_test, y_test)\n",
    "    train_scores.append(train_score)\n",
    "    test_scores.append(test_score)\n",
    "    print(f\"k: {k}, Train/Test Score: {train_score:.3f}/{test_score:.3f}\")\n",
    "    \n",
    "     \n"
   ]
  },
  {
   "cell_type": "code",
<<<<<<< HEAD
   "execution_count": 10,
   "metadata": {},
   "outputs": [
    {
     "data": {
      "image/png": "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\n",
      "text/plain": [
       "<Figure size 432x288 with 1 Axes>"
      ]
     },
     "metadata": {
      "needs_background": "light"
     },
     "output_type": "display_data"
    }
   ],
=======
   "execution_count": null,
   "metadata": {},
   "outputs": [],
>>>>>>> origin
   "source": [
    "plt.plot(range(1, 20, 2), train_scores, marker='o')\n",
    "plt.plot(range(1, 20, 2), test_scores, marker=\"x\")\n",
    "plt.xlabel(\"K Neignbors\")\n",
    "plt.ylabel(\"Testing Accuracy Score\")\n",
    "plt.show()\n",
    "\n"
   ]
  },
  {
   "cell_type": "code",
   "execution_count": null,
   "metadata": {},
   "outputs": [],
   "source": [
    "#len(train_scores)\n",
    "len(train_scores)"
   ]
  },
  {
   "cell_type": "code",
<<<<<<< HEAD
   "execution_count": 11,
   "metadata": {},
   "outputs": [
    {
     "name": "stdout",
     "output_type": "stream",
     "text": [
      "k=13 Test Acc: 0.332\n"
     ]
    }
   ],
=======
   "execution_count": null,
   "metadata": {},
   "outputs": [],
>>>>>>> origin
   "source": [
    "#Model Accuracy\n",
    "\n",
    "knn = KNeighborsClassifier(n_neighbors=13)\n",
    "knn.fit(X_train, y_train)\n",
    "print('k=13 Test Acc: %.3f' % knn.score(X_test, y_test))"
   ]
  },
  {
   "cell_type": "code",
   "execution_count": null,
   "metadata": {},
   "outputs": [],
   "source": [
    "#Look at other models at this point\n",
    "from sklearn.svm import SVC\n",
    "model = SVC(kernel='linear')\n",
    "#use rbf"
   ]
  },
  {
   "cell_type": "code",
   "execution_count": null,
   "metadata": {},
   "outputs": [],
   "source": [
    "from sklearn.model_selection import GridSearchCV\n",
    "param_grid = {'C':[1, 5, 10],\n",
    "             'gamma': [0.0001, 0.001, 0.01]}\n",
    "grid = GridSearchCV(model, param_grid, verbose=3)"
   ]
  },
  {
   "cell_type": "code",
   "execution_count": null,
   "metadata": {
    "scrolled": true
   },
   "outputs": [],
   "source": [
    "grid.fit(X_train, y_train)"
   ]
  },
  {
   "cell_type": "code",
   "execution_count": null,
   "metadata": {},
   "outputs": [],
   "source": [
    "#List the best parameters for this dataset\n",
    "print(grid.best_params_)"
   ]
  },
  {
   "cell_type": "code",
   "execution_count": null,
   "metadata": {},
   "outputs": [],
   "source": [
    "#List the best score\n",
    "print(grid.best_score_)"
   ]
  },
  {
   "cell_type": "code",
   "execution_count": null,
   "metadata": {},
   "outputs": [],
   "source": [
    "#Make predictions with hypertuned model\n",
    "predictions = grid.predict(X_test)"
   ]
  },
  {
   "cell_type": "code",
   "execution_count": null,
   "metadata": {},
   "outputs": [],
   "source": [
    "#Calculate classification report\n",
    "from sklearn.metrics import classification_report\n",
    "print(classification_report(y_test, predictions,\n",
    "                            target_names = target_names ))"
   ]
  }
 ],
 "metadata": {
  "kernelspec": {
   "display_name": "Python 3",
   "language": "python",
   "name": "python3"
  },
  "language_info": {
   "codemirror_mode": {
    "name": "ipython",
    "version": 3
   },
   "file_extension": ".py",
   "mimetype": "text/x-python",
   "name": "python",
   "nbconvert_exporter": "python",
   "pygments_lexer": "ipython3",
   "version": "3.7.6"
  }
 },
 "nbformat": 4,
 "nbformat_minor": 4
}

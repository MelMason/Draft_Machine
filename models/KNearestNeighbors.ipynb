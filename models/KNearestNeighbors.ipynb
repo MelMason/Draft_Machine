{
 "cells": [
  {
   "cell_type": "code",
   "execution_count": 1,
   "metadata": {},
   "outputs": [],
   "source": [
    "import matplotlib.pyplot as plt\n",
    "from sklearn.neighbors import KNeighborsClassifier\n",
    "import pandas as pd\n",
    "import os"
   ]
  },
  {
   "cell_type": "code",
   "execution_count": 2,
   "metadata": {},
   "outputs": [
    {
     "data": {
      "text/html": [
       "<div>\n",
       "<style scoped>\n",
       "    .dataframe tbody tr th:only-of-type {\n",
       "        vertical-align: middle;\n",
       "    }\n",
       "\n",
       "    .dataframe tbody tr th {\n",
       "        vertical-align: top;\n",
       "    }\n",
       "\n",
       "    .dataframe thead th {\n",
       "        text-align: right;\n",
       "    }\n",
       "</style>\n",
       "<table border=\"1\" class=\"dataframe\">\n",
       "  <thead>\n",
       "    <tr style=\"text-align: right;\">\n",
       "      <th></th>\n",
       "      <th>player_id</th>\n",
       "      <th>name</th>\n",
       "      <th>class</th>\n",
       "      <th>college</th>\n",
       "      <th>assists</th>\n",
       "      <th>blocks</th>\n",
       "      <th>effective_field_goal_percentage</th>\n",
       "      <th>field_goal_percentage</th>\n",
       "      <th>free_throw_attempt_rate</th>\n",
       "      <th>free_throw_percentage</th>\n",
       "      <th>...</th>\n",
       "      <th>turnover_percentage</th>\n",
       "      <th>turnovers</th>\n",
       "      <th>win_shares_per_40_minutes</th>\n",
       "      <th>assists_per_40</th>\n",
       "      <th>blocks_per_40</th>\n",
       "      <th>points_per_40</th>\n",
       "      <th>steals_per_40</th>\n",
       "      <th>three_pointers_per_40</th>\n",
       "      <th>total_rebounds_per_40</th>\n",
       "      <th>turnovers_per_40</th>\n",
       "    </tr>\n",
       "  </thead>\n",
       "  <tbody>\n",
       "    <tr>\n",
       "      <td>0</td>\n",
       "      <td>kenyon-martin-1</td>\n",
       "      <td>Kenyon Martin</td>\n",
       "      <td>Above Avg</td>\n",
       "      <td>cincinnati</td>\n",
       "      <td>142</td>\n",
       "      <td>292</td>\n",
       "      <td>0.587</td>\n",
       "      <td>0.586</td>\n",
       "      <td>0.494</td>\n",
       "      <td>0.581</td>\n",
       "      <td>...</td>\n",
       "      <td>14.3</td>\n",
       "      <td>139.0</td>\n",
       "      <td>0.346</td>\n",
       "      <td>2.781587</td>\n",
       "      <td>5.719882</td>\n",
       "      <td>25.053869</td>\n",
       "      <td>2.428991</td>\n",
       "      <td>0.039177</td>\n",
       "      <td>17.022527</td>\n",
       "      <td>2.722821</td>\n",
       "    </tr>\n",
       "    <tr>\n",
       "      <td>1</td>\n",
       "      <td>aj-guyton-1</td>\n",
       "      <td>A.J. Guyton</td>\n",
       "      <td>Below Avg</td>\n",
       "      <td>indiana</td>\n",
       "      <td>403</td>\n",
       "      <td>52</td>\n",
       "      <td>0.541</td>\n",
       "      <td>0.455</td>\n",
       "      <td>0.249</td>\n",
       "      <td>0.790</td>\n",
       "      <td>...</td>\n",
       "      <td>13.6</td>\n",
       "      <td>218.0</td>\n",
       "      <td>0.145</td>\n",
       "      <td>4.944785</td>\n",
       "      <td>0.638037</td>\n",
       "      <td>25.766871</td>\n",
       "      <td>1.582822</td>\n",
       "      <td>3.472393</td>\n",
       "      <td>5.263804</td>\n",
       "      <td>2.674847</td>\n",
       "    </tr>\n",
       "    <tr>\n",
       "      <td>2</td>\n",
       "      <td>jake-voskuhl-1</td>\n",
       "      <td>Jake Voskuhl</td>\n",
       "      <td>Below Avg</td>\n",
       "      <td>uconn</td>\n",
       "      <td>124</td>\n",
       "      <td>193</td>\n",
       "      <td>0.542</td>\n",
       "      <td>0.542</td>\n",
       "      <td>0.555</td>\n",
       "      <td>0.656</td>\n",
       "      <td>...</td>\n",
       "      <td>23.0</td>\n",
       "      <td>160.0</td>\n",
       "      <td>0.237</td>\n",
       "      <td>2.271062</td>\n",
       "      <td>3.534799</td>\n",
       "      <td>15.805861</td>\n",
       "      <td>1.575092</td>\n",
       "      <td>0.000000</td>\n",
       "      <td>16.117216</td>\n",
       "      <td>2.930403</td>\n",
       "    </tr>\n",
       "    <tr>\n",
       "      <td>3</td>\n",
       "      <td>khalid-el-amin-1</td>\n",
       "      <td>Khalid El-Amin</td>\n",
       "      <td>Bust</td>\n",
       "      <td>uconn</td>\n",
       "      <td>479</td>\n",
       "      <td>10</td>\n",
       "      <td>0.486</td>\n",
       "      <td>0.416</td>\n",
       "      <td>0.257</td>\n",
       "      <td>0.822</td>\n",
       "      <td>...</td>\n",
       "      <td>15.6</td>\n",
       "      <td>188.0</td>\n",
       "      <td>0.158</td>\n",
       "      <td>8.915775</td>\n",
       "      <td>0.186133</td>\n",
       "      <td>30.711959</td>\n",
       "      <td>3.462075</td>\n",
       "      <td>3.629595</td>\n",
       "      <td>5.937645</td>\n",
       "      <td>3.499302</td>\n",
       "    </tr>\n",
       "    <tr>\n",
       "      <td>4</td>\n",
       "      <td>mike-smith-1</td>\n",
       "      <td>Mike Smith</td>\n",
       "      <td>Bust</td>\n",
       "      <td>louisiana monroe</td>\n",
       "      <td>147</td>\n",
       "      <td>42</td>\n",
       "      <td>0.507</td>\n",
       "      <td>0.428</td>\n",
       "      <td>0.357</td>\n",
       "      <td>0.769</td>\n",
       "      <td>...</td>\n",
       "      <td>20.0</td>\n",
       "      <td>241.0</td>\n",
       "      <td>0.165</td>\n",
       "      <td>3.034056</td>\n",
       "      <td>0.866873</td>\n",
       "      <td>21.919505</td>\n",
       "      <td>1.857585</td>\n",
       "      <td>2.683179</td>\n",
       "      <td>9.267286</td>\n",
       "      <td>4.974200</td>\n",
       "    </tr>\n",
       "  </tbody>\n",
       "</table>\n",
       "<p>5 rows × 29 columns</p>\n",
       "</div>"
      ],
      "text/plain": [
       "          player_id            name      class           college  assists  \\\n",
       "0   kenyon-martin-1   Kenyon Martin  Above Avg        cincinnati      142   \n",
       "1       aj-guyton-1     A.J. Guyton  Below Avg           indiana      403   \n",
       "2    jake-voskuhl-1    Jake Voskuhl  Below Avg             uconn      124   \n",
       "3  khalid-el-amin-1  Khalid El-Amin       Bust             uconn      479   \n",
       "4      mike-smith-1      Mike Smith       Bust  louisiana monroe      147   \n",
       "\n",
       "   blocks  effective_field_goal_percentage  field_goal_percentage  \\\n",
       "0     292                            0.587                  0.586   \n",
       "1      52                            0.541                  0.455   \n",
       "2     193                            0.542                  0.542   \n",
       "3      10                            0.486                  0.416   \n",
       "4      42                            0.507                  0.428   \n",
       "\n",
       "   free_throw_attempt_rate  free_throw_percentage  ...  turnover_percentage  \\\n",
       "0                    0.494                  0.581  ...                 14.3   \n",
       "1                    0.249                  0.790  ...                 13.6   \n",
       "2                    0.555                  0.656  ...                 23.0   \n",
       "3                    0.257                  0.822  ...                 15.6   \n",
       "4                    0.357                  0.769  ...                 20.0   \n",
       "\n",
       "   turnovers  win_shares_per_40_minutes  assists_per_40  blocks_per_40  \\\n",
       "0      139.0                      0.346        2.781587       5.719882   \n",
       "1      218.0                      0.145        4.944785       0.638037   \n",
       "2      160.0                      0.237        2.271062       3.534799   \n",
       "3      188.0                      0.158        8.915775       0.186133   \n",
       "4      241.0                      0.165        3.034056       0.866873   \n",
       "\n",
       "   points_per_40  steals_per_40  three_pointers_per_40  total_rebounds_per_40  \\\n",
       "0      25.053869       2.428991               0.039177              17.022527   \n",
       "1      25.766871       1.582822               3.472393               5.263804   \n",
       "2      15.805861       1.575092               0.000000              16.117216   \n",
       "3      30.711959       3.462075               3.629595               5.937645   \n",
       "4      21.919505       1.857585               2.683179               9.267286   \n",
       "\n",
       "   turnovers_per_40  \n",
       "0          2.722821  \n",
       "1          2.674847  \n",
       "2          2.930403  \n",
       "3          3.499302  \n",
       "4          4.974200  \n",
       "\n",
       "[5 rows x 29 columns]"
      ]
     },
     "execution_count": 2,
     "metadata": {},
     "output_type": "execute_result"
    }
   ],
   "source": [
    "df = pd.read_csv('NCAA_data_4categories.csv')\n",
    "df.head()"
   ]
  },
  {
   "cell_type": "code",
   "execution_count": 4,
   "metadata": {},
   "outputs": [],
   "source": [
    "y = df[\"class\"]"
   ]
  },
  {
   "cell_type": "code",
   "execution_count": 6,
   "metadata": {},
   "outputs": [],
   "source": [
    "X = df[['win_shares_per_40_minutes', 'field_goal_percentage', 'games_played', 'total_rebounds_per_40']]"
   ]
  },
  {
   "cell_type": "code",
   "execution_count": 7,
   "metadata": {},
   "outputs": [],
   "source": [
    "#Split into testing and training\n",
    "from sklearn.model_selection import train_test_split\n",
    "X_train, X_test, y_train, y_test = train_test_split(X, y, random_state=42)"
   ]
  },
  {
   "cell_type": "code",
   "execution_count": 8,
   "metadata": {},
   "outputs": [],
   "source": [
    "from sklearn.preprocessing import StandardScaler\n",
    "X_scaler = StandardScaler().fit(X_train)"
   ]
  },
  {
   "cell_type": "code",
   "execution_count": 9,
   "metadata": {},
   "outputs": [],
   "source": [
    "X_train_scaled = X_scaler.transform(X_train)\n",
    "X_test_scaled = X_scaler.transform(X_test)"
   ]
  },
  {
   "cell_type": "code",
   "execution_count": 11,
   "metadata": {},
   "outputs": [
    {
     "name": "stdout",
     "output_type": "stream",
     "text": [
      "k: 1, Train/Test Score: 0.998/0.294\n",
      "k: 3, Train/Test Score: 0.618/0.290\n",
      "k: 5, Train/Test Score: 0.548/0.318\n",
      "k: 7, Train/Test Score: 0.501/0.294\n",
      "k: 9, Train/Test Score: 0.487/0.341\n",
      "k: 11, Train/Test Score: 0.466/0.350\n",
      "k: 13, Train/Test Score: 0.466/0.332\n",
      "k: 15, Train/Test Score: 0.469/0.322\n",
      "k: 17, Train/Test Score: 0.454/0.332\n",
      "k: 19, Train/Test Score: 0.452/0.336\n"
     ]
    }
   ],
   "source": [
    "train_scores = []\n",
    "test_scores = []\n",
    "for k in range (1, 20, 2):\n",
    "    knn = KNeighborsClassifier(n_neighbors=k)\n",
    "    knn.fit(X_train, y_train)\n",
    "    train_score = knn.score(X_train, y_train)\n",
    "    test_score = knn.score(X_test, y_test)\n",
    "    train_scores.append(train_score)\n",
    "    test_scores.append(test_score)\n",
    "    print(f\"k: {k}, Train/Test Score: {train_score:.3f}/{test_score:.3f}\")"
   ]
  },
  {
   "cell_type": "code",
   "execution_count": 12,
   "metadata": {},
   "outputs": [
    {
     "data": {
      "image/png": "[encoded data removed]",
      "text/plain": [
       "<Figure size 432x288 with 1 Axes>"
      ]
     },
     "metadata": {
      "needs_background": "light"
     },
     "output_type": "display_data"
    }
   ],
   "source": [
    "plt.plot(range(1, 20, 2), train_scores, marker = 'o')\n",
    "plt.plot(range(1, 20, 2), test_scores, marker = \"x\")\n",
    "plt.xlabel(\"K Neighbors\")\n",
    "plt.ylabel(\"Testing Accuracy Score\")\n",
    "plt.show()"
   ]
  },
  {
   "cell_type": "code",
   "execution_count": 16,
   "metadata": {},
   "outputs": [
    {
     "name": "stdout",
     "output_type": "stream",
     "text": [
      "k=11 Test Acc: 0.350467\n"
     ]
    }
   ],
   "source": [
    "knn = KNeighborsClassifier(n_neighbors=11)\n",
    "knn.fit(X_train, y_train)\n",
    "print('k=11 Test Acc: %3f' %knn.score(X_test, y_test))"
   ]
  }
 ],
 "metadata": {
  "kernelspec": {
   "display_name": "Python 3",
   "language": "python",
   "name": "python3"
  },
  "language_info": {
   "codemirror_mode": {
    "name": "ipython",
    "version": 3
   },
   "file_extension": ".py",
   "mimetype": "text/x-python",
   "name": "python",
   "nbconvert_exporter": "python",
   "pygments_lexer": "ipython3",
   "version": "3.7.4"
  }
 },
 "nbformat": 4,
 "nbformat_minor": 2
}

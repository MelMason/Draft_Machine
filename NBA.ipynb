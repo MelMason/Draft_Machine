{
 "cells": [
  {
   "cell_type": "code",
   "execution_count": null,
   "metadata": {},
   "outputs": [],
   "source": [
    "import pandas as pd\n",
    "import os\n",
    "import numpy as np\n",
    "import warnings\n",
    "warnings.filterwarnings('ignore')"
   ]
  },
  {
   "cell_type": "code",
   "execution_count": null,
   "metadata": {},
   "outputs": [],
   "source": [
    "df = pd.read_csv(\"../Draft_Machine/nba_data/2018.csv\")\n",
    "\n",
    "files = [file for file in os.listdir('./Nba_Data')]\n",
    "\n",
    "all_year_data = pd.DataFrame()\n",
    "\n",
    "for file in files:\n",
    "    df = pd.read_csv(\"Nba_Data/\" + file)\n",
    "    all_year_data = pd.concat([all_year_data, df])\n",
    "    \n",
    "all_year_data.head()"
   ]
  },
  {
   "cell_type": "code",
   "execution_count": null,
   "metadata": {},
   "outputs": [],
   "source": [
    "all_year_data.shape"
   ]
  },
  {
   "cell_type": "code",
   "execution_count": null,
   "metadata": {},
   "outputs": [],
   "source": [
    "new_header = all_year_data.iloc[0] #grab the first row for the header\n",
    "New_all_year_data = all_year_data[1:] #take the data less the header row\n",
    "New_all_year_data.columns = new_header #set the header row as the df header\n",
    "New_all_year_data.head(200)\n",
    "                      "
   ]
  },
  {
   "cell_type": "code",
   "execution_count": null,
   "metadata": {},
   "outputs": [],
   "source": [
    "df =New_all_year_data.drop([0])\n",
    "df.head(63)"
   ]
  },
  {
   "cell_type": "code",
   "execution_count": null,
   "metadata": {},
   "outputs": [],
   "source": [
    "df_sort = df.sort_values(by = \"Year\")\n",
    "df_sort.head()"
   ]
  },
  {
   "cell_type": "code",
   "execution_count": null,
   "metadata": {},
   "outputs": [],
   "source": [
    "college_df=df_sort.dropna(axis=0, subset=[\"College\"], inplace=False)\n",
    "college_df.head(10)"
   ]
  },
  {
   "cell_type": "code",
   "execution_count": null,
   "metadata": {},
   "outputs": [],
   "source": [
    "clean=college_df.drop(columns=[\"FG%\", \"TRB\", \"AST\", \"3P%\",\"FT%\",\"TRB\",\"AST\", \"Pk\"])\n",
    "clean.head()"
   ]
  },
  {
   "cell_type": "code",
   "execution_count": null,
   "metadata": {},
   "outputs": [],
   "source": [
    "clean.columns=[\"Win Shares\", \"Mins Played (per game)\", \"Player\",\"Games\",\"Year\",\"Rank\",\"Points(per game)\",\"WS/48\", \"Box +/-\",\"Value Overall Replacement Player\", \"Team\", \"College\", \"Years\",\"Mins Played (Total)\",\"Points (Total)\"]\n",
    "                                \n",
    "clean.rename(columns={df_sort.columns[0]:\"Win Shares\"})\n"
   ]
  },
  {
   "cell_type": "code",
   "execution_count": null,
   "metadata": {},
   "outputs": [],
   "source": [
    "df_reindex=clean.reset_index()\n",
    "df_reindex=df_reindex.drop(['index'],axis=1)\n",
    "df_reindex.head(20)"
   ]
  },
  {
   "cell_type": "code",
   "execution_count": null,
   "metadata": {},
   "outputs": [],
   "source": [
    "clean_df=df_reindex.fillna(value=0)\n",
    "clean_df.head()"
   ]
  },
  {
   "cell_type": "code",
   "execution_count": null,
   "metadata": {},
   "outputs": [],
   "source": [
    "clean_df.dtypes"
   ]
  },
  {
   "cell_type": "code",
   "execution_count": null,
   "metadata": {},
   "outputs": [],
   "source": [
    "clean_df[\"Win Shares\"]= clean_df[\"Win Shares\"].astype ('float')\n",
    "clean_df[\"Mins Played (per game)\"]=clean_df[\"Mins Played (per game)\"].astype ('float')\n",
    "clean_df[\"Points(per game)\"]=clean_df[\"Points(per game)\"].astype ('float')\n",
    "clean_df[\"WS/48\"]=clean_df[\"WS/48\"].astype ('float')\n",
    "clean_df[\"Box +/-\"]=clean_df[\"Box +/-\"].astype ('float')\n",
    "clean_df[\"Value Overall Replacement Player\"]=clean_df[\"Value Overall Replacement Player\"].astype ('float')\n",
    "\n",
    "\n",
    "clean_df[\"Games\"]=clean_df[\"Games\"].astype(\"int\")\n",
    "clean_df[\"Year\"]=clean_df[\"Year\"].astype(\"int\")\n",
    "clean_df[\"Rank\"]=clean_df[\"Rank\"].astype(\"int\")\n",
    "clean_df[\"Years\"]=clean_df[\"Years\"].astype(\"int\")\n",
    "clean_df[\"Mins Played (Total)\"]=clean_df[\"Mins Played (Total)\"].astype(\"int\")\n",
    "clean_df[\"Points (Total)\"]=clean_df[\"Points (Total)\"].astype(\"int\")\n",
    "\n",
    "clean_df[\"Player\"]=clean_df[\"Player\"].astype(str)\n",
    "#  \"Player\":str,\n",
    "\n",
    "#  \"Team\":str, \n",
    "# \"College\":str, \n"
   ]
  },
  {
   "cell_type": "code",
   "execution_count": null,
   "metadata": {},
   "outputs": [],
   "source": [
    "clean_df.dtypes"
   ]
  },
  {
   "cell_type": "code",
   "execution_count": null,
   "metadata": {},
   "outputs": [],
   "source": [
    "clean_df.info()"
   ]
  },
  {
   "cell_type": "code",
   "execution_count": null,
   "metadata": {},
   "outputs": [],
   "source": [
    "#to calculate median w/s of NBA player remove draft picks who did not play \n",
    "no_zeros = clean_df[\"Games\"] != 0\n",
    "no_zero_df = clean_df[no_zeros]\n",
    "len(no_zero_df)"
   ]
  },
  {
   "cell_type": "code",
   "execution_count": null,
   "metadata": {},
   "outputs": [],
   "source": [
    "#we will use the mean to separate above-average from below-average players\n",
    "print(no_zero_df['WS/48'].median())"
   ]
  },
  {
   "cell_type": "code",
   "execution_count": null,
   "metadata": {},
   "outputs": [],
   "source": [
    "#create blank column for Class of player\n",
    "clean_df[\"Class\"] =''"
   ]
  },
  {
   "cell_type": "code",
   "execution_count": null,
   "metadata": {},
   "outputs": [],
   "source": [
    "#run for loop to assingn Star, Above Avg, Below Avg of Bust to the Class column\n",
    "for i in range(len(clean_df)) : \n",
    "    if clean_df.loc[i,'Year'] < 2018 and clean_df.loc[i,'Years'] <= 2:\n",
    "        clean_df.loc[i,'Class'] = \"Bust\"\n",
    "    elif clean_df.loc[i,'Year'] == 2018 and clean_df.loc[i,'Years'] < 2:\n",
    "        clean_df.loc[i,'Class'] = \"Bust\"\n",
    "    elif clean_df.loc[i,'Year'] == 2019 and clean_df.loc[i,'Years'] < 1:\n",
    "        clean_df.loc[i,'Class'] = \"Bust\"\n",
    "    elif clean_df.loc[i,'Mins Played (per game)'] > 15 and clean_df.loc[i,'WS/48'] >= .12:\n",
    "        clean_df.loc[i,'Class'] = \"Star\"\n",
    "    elif clean_df.loc[i,'Mins Played (per game)'] > 15 and clean_df.loc[i,'WS/48'] < .12 and clean_df.loc[i,'WS/48'] > .068:\n",
    "        clean_df.loc[i,'Class'] = \"Above Avg\"\n",
    "    else:\n",
    "        clean_df.loc[i,'Class']  = \"Below Avg\""
   ]
  },
  {
   "cell_type": "code",
   "execution_count": null,
   "metadata": {},
   "outputs": [],
   "source": [
    "#check df\n",
    "clean_df.head(10)"
   ]
  },
  {
   "cell_type": "code",
   "execution_count": null,
   "metadata": {},
   "outputs": [],
   "source": [
    "#count number of players in each class\n",
    "type_df = clean_df.groupby('Class').count()\n",
    "type_df"
   ]
  },
  {
   "cell_type": "code",
   "execution_count": null,
   "metadata": {},
   "outputs": [],
   "source": [
    "#check percentage of Classes\n",
    "total = type_df[\"Games\"].sum()\n",
    "above = (type_df.iloc[0, 0]/total)*100\n",
    "below = (type_df.iloc[1, 0]/total)*100\n",
    "bust = (type_df.iloc[2, 0]/total)*100\n",
    "star = (type_df.iloc[3, 0]/total)*100\n",
    "print(f'% of Above Avg Players: {above}')\n",
    "print(f'% of Below Avg Players: {below}')\n",
    "print(f'% of Bust Players: {bust}')\n",
    "print(f'% of Star Players: {star}')"
   ]
  },
  {
   "cell_type": "code",
   "execution_count": null,
   "metadata": {},
   "outputs": [],
   "source": [
    "# # #df.to_csv(file_name, sep='\\t', encoding='utf-8')\n",
    "clean_df.to_csv(\"NBA_data.csv\",index = False, header = True)\n"
   ]
  },
  {
   "cell_type": "code",
   "execution_count": null,
   "metadata": {},
   "outputs": [],
   "source": []
  },
  {
   "cell_type": "code",
   "execution_count": null,
   "metadata": {},
   "outputs": [],
   "source": []
  }
 ],
 "metadata": {
  "kernelspec": {
   "display_name": "Python 3",
   "language": "python",
   "name": "python3"
  },
  "language_info": {
   "codemirror_mode": {
    "name": "ipython",
    "version": 3
   },
   "file_extension": ".py",
   "mimetype": "text/x-python",
   "name": "python",
   "nbconvert_exporter": "python",
   "pygments_lexer": "ipython3",
   "version": "3.6.9"
  }
 },
 "nbformat": 4,
 "nbformat_minor": 2
}

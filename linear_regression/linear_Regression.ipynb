{
 "cells": [
  {
   "cell_type": "code",
   "execution_count": 1,
   "metadata": {
    "nbgrader": {
     "grade": false,
     "grade_id": "cell-195a16dbc662c53b",
     "locked": true,
     "schema_version": 1,
     "solution": false
    }
   },
   "outputs": [],
   "source": [
    "%matplotlib inline\n",
    "import matplotlib.pyplot as plt\n",
    "import numpy as np\n",
    "import pandas as pd\n"
   ]
  },
  {
   "cell_type": "code",
   "execution_count": 2,
   "metadata": {},
   "outputs": [
    {
     "data": {
      "text/html": [
       "<div>\n",
       "<style scoped>\n",
       "    .dataframe tbody tr th:only-of-type {\n",
       "        vertical-align: middle;\n",
       "    }\n",
       "\n",
       "    .dataframe tbody tr th {\n",
       "        vertical-align: top;\n",
       "    }\n",
       "\n",
       "    .dataframe thead th {\n",
       "        text-align: right;\n",
       "    }\n",
       "</style>\n",
       "<table border=\"1\" class=\"dataframe\">\n",
       "  <thead>\n",
       "    <tr style=\"text-align: right;\">\n",
       "      <th></th>\n",
       "      <th>win shares</th>\n",
       "      <th>mins played (per game)</th>\n",
       "      <th>player</th>\n",
       "      <th>games</th>\n",
       "      <th>year</th>\n",
       "      <th>rank</th>\n",
       "      <th>points(per game)</th>\n",
       "      <th>ws/48</th>\n",
       "      <th>box +/-</th>\n",
       "      <th>value overall replacement player</th>\n",
       "      <th>...</th>\n",
       "      <th>turnover_percentage</th>\n",
       "      <th>turnovers</th>\n",
       "      <th>win_shares_per_40_minutes</th>\n",
       "      <th>assists_per_40</th>\n",
       "      <th>blocks_per_40</th>\n",
       "      <th>points_per_40</th>\n",
       "      <th>steals_per_40</th>\n",
       "      <th>three_pointers_per_40</th>\n",
       "      <th>total_rebounds_per_40</th>\n",
       "      <th>turnovers_per_40</th>\n",
       "    </tr>\n",
       "  </thead>\n",
       "  <tbody>\n",
       "    <tr>\n",
       "      <th>0</th>\n",
       "      <td>48.0</td>\n",
       "      <td>30.6</td>\n",
       "      <td>Kenyon Martin</td>\n",
       "      <td>757</td>\n",
       "      <td>2000</td>\n",
       "      <td>1</td>\n",
       "      <td>12.3</td>\n",
       "      <td>0.100</td>\n",
       "      <td>0.7</td>\n",
       "      <td>15.5</td>\n",
       "      <td>...</td>\n",
       "      <td>14.3</td>\n",
       "      <td>139.0</td>\n",
       "      <td>0.346</td>\n",
       "      <td>2.781587</td>\n",
       "      <td>5.719882</td>\n",
       "      <td>25.053869</td>\n",
       "      <td>2.428991</td>\n",
       "      <td>0.039177</td>\n",
       "      <td>17.022527</td>\n",
       "      <td>2.722821</td>\n",
       "    </tr>\n",
       "    <tr>\n",
       "      <th>1</th>\n",
       "      <td>0.3</td>\n",
       "      <td>15.6</td>\n",
       "      <td>A.J. Guyton</td>\n",
       "      <td>80</td>\n",
       "      <td>2000</td>\n",
       "      <td>32</td>\n",
       "      <td>5.5</td>\n",
       "      <td>0.010</td>\n",
       "      <td>-5.4</td>\n",
       "      <td>-1.1</td>\n",
       "      <td>...</td>\n",
       "      <td>13.6</td>\n",
       "      <td>218.0</td>\n",
       "      <td>0.145</td>\n",
       "      <td>4.944785</td>\n",
       "      <td>0.638037</td>\n",
       "      <td>25.766871</td>\n",
       "      <td>1.582822</td>\n",
       "      <td>3.472393</td>\n",
       "      <td>5.263804</td>\n",
       "      <td>2.674847</td>\n",
       "    </tr>\n",
       "    <tr>\n",
       "      <th>2</th>\n",
       "      <td>11.6</td>\n",
       "      <td>14.3</td>\n",
       "      <td>Jake Voskuhl</td>\n",
       "      <td>450</td>\n",
       "      <td>2000</td>\n",
       "      <td>33</td>\n",
       "      <td>4.0</td>\n",
       "      <td>0.087</td>\n",
       "      <td>-2.2</td>\n",
       "      <td>-0.3</td>\n",
       "      <td>...</td>\n",
       "      <td>23.0</td>\n",
       "      <td>160.0</td>\n",
       "      <td>0.237</td>\n",
       "      <td>2.271062</td>\n",
       "      <td>3.534799</td>\n",
       "      <td>15.805861</td>\n",
       "      <td>1.575092</td>\n",
       "      <td>0.000000</td>\n",
       "      <td>16.117216</td>\n",
       "      <td>2.930403</td>\n",
       "    </tr>\n",
       "    <tr>\n",
       "      <th>3</th>\n",
       "      <td>0.6</td>\n",
       "      <td>18.7</td>\n",
       "      <td>Khalid El-Amin</td>\n",
       "      <td>50</td>\n",
       "      <td>2000</td>\n",
       "      <td>34</td>\n",
       "      <td>6.3</td>\n",
       "      <td>0.030</td>\n",
       "      <td>-3.8</td>\n",
       "      <td>-0.4</td>\n",
       "      <td>...</td>\n",
       "      <td>15.6</td>\n",
       "      <td>188.0</td>\n",
       "      <td>0.158</td>\n",
       "      <td>8.915775</td>\n",
       "      <td>0.186133</td>\n",
       "      <td>30.711959</td>\n",
       "      <td>3.462075</td>\n",
       "      <td>3.629595</td>\n",
       "      <td>5.937645</td>\n",
       "      <td>3.499302</td>\n",
       "    </tr>\n",
       "    <tr>\n",
       "      <th>4</th>\n",
       "      <td>-0.1</td>\n",
       "      <td>10.6</td>\n",
       "      <td>Mike Smith</td>\n",
       "      <td>17</td>\n",
       "      <td>2000</td>\n",
       "      <td>35</td>\n",
       "      <td>3.0</td>\n",
       "      <td>-0.033</td>\n",
       "      <td>-5.5</td>\n",
       "      <td>-0.2</td>\n",
       "      <td>...</td>\n",
       "      <td>20.0</td>\n",
       "      <td>241.0</td>\n",
       "      <td>0.165</td>\n",
       "      <td>3.034056</td>\n",
       "      <td>0.866873</td>\n",
       "      <td>21.919505</td>\n",
       "      <td>1.857585</td>\n",
       "      <td>2.683179</td>\n",
       "      <td>9.267286</td>\n",
       "      <td>4.974200</td>\n",
       "    </tr>\n",
       "  </tbody>\n",
       "</table>\n",
       "<p>5 rows × 45 columns</p>\n",
       "</div>"
      ],
      "text/plain": [
       "   win shares  mins played (per game)          player  games  year  rank  \\\n",
       "0        48.0                    30.6   Kenyon Martin    757  2000     1   \n",
       "1         0.3                    15.6     A.J. Guyton     80  2000    32   \n",
       "2        11.6                    14.3    Jake Voskuhl    450  2000    33   \n",
       "3         0.6                    18.7  Khalid El-Amin     50  2000    34   \n",
       "4        -0.1                    10.6      Mike Smith     17  2000    35   \n",
       "\n",
       "   points(per game)  ws/48  box +/-  value overall replacement player  ...  \\\n",
       "0              12.3  0.100      0.7                              15.5  ...   \n",
       "1               5.5  0.010     -5.4                              -1.1  ...   \n",
       "2               4.0  0.087     -2.2                              -0.3  ...   \n",
       "3               6.3  0.030     -3.8                              -0.4  ...   \n",
       "4               3.0 -0.033     -5.5                              -0.2  ...   \n",
       "\n",
       "  turnover_percentage turnovers  win_shares_per_40_minutes  assists_per_40  \\\n",
       "0                14.3     139.0                      0.346        2.781587   \n",
       "1                13.6     218.0                      0.145        4.944785   \n",
       "2                23.0     160.0                      0.237        2.271062   \n",
       "3                15.6     188.0                      0.158        8.915775   \n",
       "4                20.0     241.0                      0.165        3.034056   \n",
       "\n",
       "   blocks_per_40 points_per_40 steals_per_40 three_pointers_per_40  \\\n",
       "0       5.719882     25.053869      2.428991              0.039177   \n",
       "1       0.638037     25.766871      1.582822              3.472393   \n",
       "2       3.534799     15.805861      1.575092              0.000000   \n",
       "3       0.186133     30.711959      3.462075              3.629595   \n",
       "4       0.866873     21.919505      1.857585              2.683179   \n",
       "\n",
       "  total_rebounds_per_40 turnovers_per_40  \n",
       "0             17.022527         2.722821  \n",
       "1              5.263804         2.674847  \n",
       "2             16.117216         2.930403  \n",
       "3              5.937645         3.499302  \n",
       "4              9.267286         4.974200  \n",
       "\n",
       "[5 rows x 45 columns]"
      ]
     },
     "execution_count": 2,
     "metadata": {},
     "output_type": "execute_result"
    }
   ],
   "source": [
    "# Read the csv file into a pandas DataFrame\n",
    "\n",
    "combined_df = pd.read_csv('combined_data.csv')\n",
    "combined_df.head()"
   ]
  },
  {
   "cell_type": "code",
   "execution_count": 3,
   "metadata": {},
   "outputs": [],
   "source": [
    "y = combined_df[\"class\"]"
   ]
  },
  {
   "cell_type": "code",
   "execution_count": 4,
   "metadata": {},
   "outputs": [],
   "source": [
    "from sklearn.preprocessing import LabelEncoder\n",
    "y = combined_df[\"class\"]\n",
    "labels = LabelEncoder()\n",
    "labels.fit(y)\n",
    "encoded_y = labels.transform(y)"
   ]
  },
  {
   "cell_type": "code",
   "execution_count": 5,
   "metadata": {},
   "outputs": [
    {
     "data": {
      "text/html": [
       "<div>\n",
       "<style scoped>\n",
       "    .dataframe tbody tr th:only-of-type {\n",
       "        vertical-align: middle;\n",
       "    }\n",
       "\n",
       "    .dataframe tbody tr th {\n",
       "        vertical-align: top;\n",
       "    }\n",
       "\n",
       "    .dataframe thead th {\n",
       "        text-align: right;\n",
       "    }\n",
       "</style>\n",
       "<table border=\"1\" class=\"dataframe\">\n",
       "  <thead>\n",
       "    <tr style=\"text-align: right;\">\n",
       "      <th></th>\n",
       "      <th>win shares</th>\n",
       "      <th>mins played (per game)</th>\n",
       "      <th>player</th>\n",
       "      <th>games</th>\n",
       "      <th>year</th>\n",
       "      <th>rank</th>\n",
       "      <th>points(per game)</th>\n",
       "      <th>ws/48</th>\n",
       "      <th>box +/-</th>\n",
       "      <th>value overall replacement player</th>\n",
       "      <th>...</th>\n",
       "      <th>turnovers</th>\n",
       "      <th>win_shares_per_40_minutes</th>\n",
       "      <th>assists_per_40</th>\n",
       "      <th>blocks_per_40</th>\n",
       "      <th>points_per_40</th>\n",
       "      <th>steals_per_40</th>\n",
       "      <th>three_pointers_per_40</th>\n",
       "      <th>total_rebounds_per_40</th>\n",
       "      <th>turnovers_per_40</th>\n",
       "      <th>code</th>\n",
       "    </tr>\n",
       "  </thead>\n",
       "  <tbody>\n",
       "    <tr>\n",
       "      <th>0</th>\n",
       "      <td>48.0</td>\n",
       "      <td>30.6</td>\n",
       "      <td>Kenyon Martin</td>\n",
       "      <td>757</td>\n",
       "      <td>2000</td>\n",
       "      <td>1</td>\n",
       "      <td>12.3</td>\n",
       "      <td>0.100</td>\n",
       "      <td>0.7</td>\n",
       "      <td>15.5</td>\n",
       "      <td>...</td>\n",
       "      <td>139.0</td>\n",
       "      <td>0.346</td>\n",
       "      <td>2.781587</td>\n",
       "      <td>5.719882</td>\n",
       "      <td>25.053869</td>\n",
       "      <td>2.428991</td>\n",
       "      <td>0.039177</td>\n",
       "      <td>17.022527</td>\n",
       "      <td>2.722821</td>\n",
       "      <td>1</td>\n",
       "    </tr>\n",
       "    <tr>\n",
       "      <th>1</th>\n",
       "      <td>0.3</td>\n",
       "      <td>15.6</td>\n",
       "      <td>A.J. Guyton</td>\n",
       "      <td>80</td>\n",
       "      <td>2000</td>\n",
       "      <td>32</td>\n",
       "      <td>5.5</td>\n",
       "      <td>0.010</td>\n",
       "      <td>-5.4</td>\n",
       "      <td>-1.1</td>\n",
       "      <td>...</td>\n",
       "      <td>218.0</td>\n",
       "      <td>0.145</td>\n",
       "      <td>4.944785</td>\n",
       "      <td>0.638037</td>\n",
       "      <td>25.766871</td>\n",
       "      <td>1.582822</td>\n",
       "      <td>3.472393</td>\n",
       "      <td>5.263804</td>\n",
       "      <td>2.674847</td>\n",
       "      <td>1</td>\n",
       "    </tr>\n",
       "    <tr>\n",
       "      <th>2</th>\n",
       "      <td>11.6</td>\n",
       "      <td>14.3</td>\n",
       "      <td>Jake Voskuhl</td>\n",
       "      <td>450</td>\n",
       "      <td>2000</td>\n",
       "      <td>33</td>\n",
       "      <td>4.0</td>\n",
       "      <td>0.087</td>\n",
       "      <td>-2.2</td>\n",
       "      <td>-0.3</td>\n",
       "      <td>...</td>\n",
       "      <td>160.0</td>\n",
       "      <td>0.237</td>\n",
       "      <td>2.271062</td>\n",
       "      <td>3.534799</td>\n",
       "      <td>15.805861</td>\n",
       "      <td>1.575092</td>\n",
       "      <td>0.000000</td>\n",
       "      <td>16.117216</td>\n",
       "      <td>2.930403</td>\n",
       "      <td>1</td>\n",
       "    </tr>\n",
       "    <tr>\n",
       "      <th>3</th>\n",
       "      <td>0.6</td>\n",
       "      <td>18.7</td>\n",
       "      <td>Khalid El-Amin</td>\n",
       "      <td>50</td>\n",
       "      <td>2000</td>\n",
       "      <td>34</td>\n",
       "      <td>6.3</td>\n",
       "      <td>0.030</td>\n",
       "      <td>-3.8</td>\n",
       "      <td>-0.4</td>\n",
       "      <td>...</td>\n",
       "      <td>188.0</td>\n",
       "      <td>0.158</td>\n",
       "      <td>8.915775</td>\n",
       "      <td>0.186133</td>\n",
       "      <td>30.711959</td>\n",
       "      <td>3.462075</td>\n",
       "      <td>3.629595</td>\n",
       "      <td>5.937645</td>\n",
       "      <td>3.499302</td>\n",
       "      <td>0</td>\n",
       "    </tr>\n",
       "    <tr>\n",
       "      <th>4</th>\n",
       "      <td>-0.1</td>\n",
       "      <td>10.6</td>\n",
       "      <td>Mike Smith</td>\n",
       "      <td>17</td>\n",
       "      <td>2000</td>\n",
       "      <td>35</td>\n",
       "      <td>3.0</td>\n",
       "      <td>-0.033</td>\n",
       "      <td>-5.5</td>\n",
       "      <td>-0.2</td>\n",
       "      <td>...</td>\n",
       "      <td>241.0</td>\n",
       "      <td>0.165</td>\n",
       "      <td>3.034056</td>\n",
       "      <td>0.866873</td>\n",
       "      <td>21.919505</td>\n",
       "      <td>1.857585</td>\n",
       "      <td>2.683179</td>\n",
       "      <td>9.267286</td>\n",
       "      <td>4.974200</td>\n",
       "      <td>0</td>\n",
       "    </tr>\n",
       "  </tbody>\n",
       "</table>\n",
       "<p>5 rows × 46 columns</p>\n",
       "</div>"
      ],
      "text/plain": [
       "   win shares  mins played (per game)          player  games  year  rank  \\\n",
       "0        48.0                    30.6   Kenyon Martin    757  2000     1   \n",
       "1         0.3                    15.6     A.J. Guyton     80  2000    32   \n",
       "2        11.6                    14.3    Jake Voskuhl    450  2000    33   \n",
       "3         0.6                    18.7  Khalid El-Amin     50  2000    34   \n",
       "4        -0.1                    10.6      Mike Smith     17  2000    35   \n",
       "\n",
       "   points(per game)  ws/48  box +/-  value overall replacement player  ...  \\\n",
       "0              12.3  0.100      0.7                              15.5  ...   \n",
       "1               5.5  0.010     -5.4                              -1.1  ...   \n",
       "2               4.0  0.087     -2.2                              -0.3  ...   \n",
       "3               6.3  0.030     -3.8                              -0.4  ...   \n",
       "4               3.0 -0.033     -5.5                              -0.2  ...   \n",
       "\n",
       "  turnovers win_shares_per_40_minutes  assists_per_40  blocks_per_40  \\\n",
       "0     139.0                     0.346        2.781587       5.719882   \n",
       "1     218.0                     0.145        4.944785       0.638037   \n",
       "2     160.0                     0.237        2.271062       3.534799   \n",
       "3     188.0                     0.158        8.915775       0.186133   \n",
       "4     241.0                     0.165        3.034056       0.866873   \n",
       "\n",
       "   points_per_40 steals_per_40 three_pointers_per_40 total_rebounds_per_40  \\\n",
       "0      25.053869      2.428991              0.039177             17.022527   \n",
       "1      25.766871      1.582822              3.472393              5.263804   \n",
       "2      15.805861      1.575092              0.000000             16.117216   \n",
       "3      30.711959      3.462075              3.629595              5.937645   \n",
       "4      21.919505      1.857585              2.683179              9.267286   \n",
       "\n",
       "  turnovers_per_40 code  \n",
       "0         2.722821    1  \n",
       "1         2.674847    1  \n",
       "2         2.930403    1  \n",
       "3         3.499302    0  \n",
       "4         4.974200    0  \n",
       "\n",
       "[5 rows x 46 columns]"
      ]
     },
     "execution_count": 5,
     "metadata": {},
     "output_type": "execute_result"
    }
   ],
   "source": [
    "en_y = encoded_y\n",
    "combined_df[\"code\"]=en_y\n",
    "combined_df.head()"
   ]
  },
  {
   "cell_type": "code",
   "execution_count": 6,
   "metadata": {},
   "outputs": [],
   "source": [
    "encoded_y =encoded_y.reshape(-1, 1)"
   ]
  },
  {
   "cell_type": "code",
   "execution_count": 41,
   "metadata": {},
   "outputs": [
    {
     "name": "stdout",
     "output_type": "stream",
     "text": [
      "(853, 2) (853, 1)\n"
     ]
    }
   ],
   "source": [
    "# Assign the data to X and y\n",
    "X = combined_df[['true_shooting_percentage', 'height']]\n",
    "y = combined_df[\"code\"].values.reshape(-1, 1)\n",
    "print(X.shape, y.shape)"
   ]
  },
  {
   "cell_type": "code",
   "execution_count": 42,
   "metadata": {
    "nbgrader": {
     "grade": false,
     "grade_id": "cell-97f9d8f3d4b7abc1",
     "locked": false,
     "schema_version": 1,
     "solution": true
    }
   },
   "outputs": [],
   "source": [
    "# Use train_test_split to create training and testing data\n",
    "\n",
    "### BEGIN SOLUTION\n",
    "from sklearn.model_selection import train_test_split\n",
    "\n",
    "X_train, X_test, y_train, y_test = train_test_split(X, y, random_state=42)\n",
    "\n",
    "### END SOLUTION"
   ]
  },
  {
   "cell_type": "code",
   "execution_count": 43,
   "metadata": {
    "nbgrader": {
     "grade": false,
     "grade_id": "cell-500eedfd487be441",
     "locked": false,
     "schema_version": 1,
     "solution": true
    }
   },
   "outputs": [],
   "source": [
    "# Create the model using LinearRegression\n",
    "\n",
    "### BEGIN SOLUTION\n",
    "from sklearn.linear_model import LinearRegression\n",
    "model = LinearRegression()\n",
    "### END SOLUTION"
   ]
  },
  {
   "cell_type": "code",
   "execution_count": 44,
   "metadata": {
    "nbgrader": {
     "grade": false,
     "grade_id": "cell-715f0369813d2b84",
     "locked": false,
     "schema_version": 1,
     "solution": true
    }
   },
   "outputs": [
    {
     "name": "stdout",
     "output_type": "stream",
     "text": [
      "Training Score: 0.022924659384708668\n",
      "Testing Score: -0.014474492630277114\n"
     ]
    }
   ],
   "source": [
    "# Fit the model to the training data and calculate the scores for the training and testing data\n",
    "\n",
    "### BEGIN SOLUTION\n",
    "model.fit(X_train, y_train)\n",
    "training_score = model.score(X_train, y_train)\n",
    "testing_score = model.score(X_test, y_test)\n",
    "\n",
    "### END SOLUTION \n",
    "\n",
    "print(f\"Training Score: {training_score}\")\n",
    "print(f\"Testing Score: {testing_score}\")"
   ]
  },
  {
   "cell_type": "code",
   "execution_count": 45,
   "metadata": {
    "nbgrader": {
     "grade": false,
     "grade_id": "cell-90aed41fb7c4f723",
     "locked": false,
     "schema_version": 1,
     "solution": true
    }
   },
   "outputs": [
    {
     "data": {
      "text/plain": [
       "Text(0.5, 1.0, 'Residual Plot')"
      ]
     },
     "execution_count": 45,
     "metadata": {},
     "output_type": "execute_result"
    },
    {
     "data": {
      "image/png": "[encoded data removed]",
      "text/plain": [
       "<Figure size 432x288 with 1 Axes>"
      ]
     },
     "metadata": {
      "needs_background": "light"
     },
     "output_type": "display_data"
    }
   ],
   "source": [
    "# Plot the Residuals for the Training and Testing data\n",
    "\n",
    "### BEGIN SOLUTION\n",
    "plt.scatter(model.predict(X_train), model.predict(X_train) - y_train, c=\"blue\", label=\"Training Data\")\n",
    "plt.scatter(model.predict(X_test), model.predict(X_test) - y_test, c=\"orange\", label=\"Testing Data\")\n",
    "plt.legend()\n",
    "plt.hlines(y=0, xmin=y.min(), xmax=y.max())\n",
    "plt.title(\"Residual Plot\")\n",
    "### END SOLUTION"
   ]
  },
  {
   "cell_type": "code",
   "execution_count": 46,
   "metadata": {},
   "outputs": [
    {
     "name": "stdout",
     "output_type": "stream",
     "text": [
      "Mean Squared Error (MSE): 0.19628577111611048\n",
      "R-squared (R2 ): 0.019179094882138537\n"
     ]
    }
   ],
   "source": [
    "from sklearn.metrics import mean_squared_error, r2_score\n",
    "\n",
    "# Use our model to predict a value\n",
    "predicted = model.predict(X)\n",
    "\n",
    "# Score the prediction with mse and r2\n",
    "mse = mean_squared_error(y, predicted)\n",
    "r2 = r2_score(y, predicted)\n",
    "\n",
    "print(f\"Mean Squared Error (MSE): {mse}\")\n",
    "print(f\"R-squared (R2 ): {r2}\")"
   ]
  },
  {
   "cell_type": "code",
   "execution_count": 47,
   "metadata": {},
   "outputs": [
    {
     "data": {
      "text/plain": [
       "0.019179094882138537"
      ]
     },
     "execution_count": 47,
     "metadata": {},
     "output_type": "execute_result"
    }
   ],
   "source": [
    "# Overall Score for the model\n",
    "model.score(X, y)"
   ]
  },
  {
   "cell_type": "code",
   "execution_count": null,
   "metadata": {},
   "outputs": [],
   "source": []
  }
 ],
 "metadata": {
  "celltoolbar": "Create Assignment",
  "kernelspec": {
   "display_name": "Python 3",
   "language": "python",
   "name": "python3"
  },
  "language_info": {
   "codemirror_mode": {
    "name": "ipython",
    "version": 3
   },
   "file_extension": ".py",
   "mimetype": "text/x-python",
   "name": "python",
   "nbconvert_exporter": "python",
   "pygments_lexer": "ipython3",
   "version": "3.7.3"
  },
  "varInspector": {
   "cols": {
    "lenName": 16,
    "lenType": 16,
    "lenVar": 40
   },
   "kernels_config": {
    "python": {
     "delete_cmd_postfix": "",
     "delete_cmd_prefix": "del ",
     "library": "var_list.py",
     "varRefreshCmd": "print(var_dic_list())"
    },
    "r": {
     "delete_cmd_postfix": ") ",
     "delete_cmd_prefix": "rm(",
     "library": "var_list.r",
     "varRefreshCmd": "cat(var_dic_list()) "
    }
   },
   "types_to_exclude": [
    "module",
    "function",
    "builtin_function_or_method",
    "instance",
    "_Feature"
   ],
   "window_display": false
  }
 },
 "nbformat": 4,
 "nbformat_minor": 2
}

{
 "cells": [
  {
   "cell_type": "code",
   "execution_count": 74,
   "metadata": {},
   "outputs": [],
   "source": [
    "#import dependencies\n",
    "import warnings\n",
    "import matplotlib.pyplot as plt\n",
    "from sklearn.ensemble import RandomForestClassifier\n",
    "import pandas as pd\n",
    "import numpy as np\n",
    "import matplotlib.pyplot as plt\n",
    "import seaborn as sns\n",
    "import os\n",
    "\n",
    "warnings.filterwarnings('ignore')"
   ]
  },
  {
   "cell_type": "code",
   "execution_count": 75,
   "metadata": {},
   "outputs": [
    {
     "data": {
      "text/html": [
       "<div>\n",
       "<style scoped>\n",
       "    .dataframe tbody tr th:only-of-type {\n",
       "        vertical-align: middle;\n",
       "    }\n",
       "\n",
       "    .dataframe tbody tr th {\n",
       "        vertical-align: top;\n",
       "    }\n",
       "\n",
       "    .dataframe thead th {\n",
       "        text-align: right;\n",
       "    }\n",
       "</style>\n",
       "<table border=\"1\" class=\"dataframe\">\n",
       "  <thead>\n",
       "    <tr style=\"text-align: right;\">\n",
       "      <th></th>\n",
       "      <th>class</th>\n",
       "      <th>field_goal_percentage</th>\n",
       "      <th>free_throw_attempt_rate</th>\n",
       "      <th>height</th>\n",
       "      <th>three_point_percentage</th>\n",
       "      <th>true_shooting_percentage</th>\n",
       "      <th>win_shares_per_40_minutes</th>\n",
       "    </tr>\n",
       "  </thead>\n",
       "  <tbody>\n",
       "    <tr>\n",
       "      <th>0</th>\n",
       "      <td>Player</td>\n",
       "      <td>0.586</td>\n",
       "      <td>0.494</td>\n",
       "      <td>81</td>\n",
       "      <td>0.222000</td>\n",
       "      <td>0.592</td>\n",
       "      <td>0.346</td>\n",
       "    </tr>\n",
       "    <tr>\n",
       "      <th>1</th>\n",
       "      <td>Player</td>\n",
       "      <td>0.455</td>\n",
       "      <td>0.249</td>\n",
       "      <td>73</td>\n",
       "      <td>0.414000</td>\n",
       "      <td>0.572</td>\n",
       "      <td>0.145</td>\n",
       "    </tr>\n",
       "    <tr>\n",
       "      <th>2</th>\n",
       "      <td>Player</td>\n",
       "      <td>0.542</td>\n",
       "      <td>0.555</td>\n",
       "      <td>83</td>\n",
       "      <td>0.329162</td>\n",
       "      <td>0.573</td>\n",
       "      <td>0.237</td>\n",
       "    </tr>\n",
       "    <tr>\n",
       "      <th>3</th>\n",
       "      <td>Bust</td>\n",
       "      <td>0.416</td>\n",
       "      <td>0.257</td>\n",
       "      <td>70</td>\n",
       "      <td>0.355000</td>\n",
       "      <td>0.527</td>\n",
       "      <td>0.158</td>\n",
       "    </tr>\n",
       "    <tr>\n",
       "      <th>4</th>\n",
       "      <td>Bust</td>\n",
       "      <td>0.428</td>\n",
       "      <td>0.357</td>\n",
       "      <td>80</td>\n",
       "      <td>0.318000</td>\n",
       "      <td>0.551</td>\n",
       "      <td>0.165</td>\n",
       "    </tr>\n",
       "  </tbody>\n",
       "</table>\n",
       "</div>"
      ],
      "text/plain": [
       "    class  field_goal_percentage  free_throw_attempt_rate  height  \\\n",
       "0  Player                  0.586                    0.494      81   \n",
       "1  Player                  0.455                    0.249      73   \n",
       "2  Player                  0.542                    0.555      83   \n",
       "3    Bust                  0.416                    0.257      70   \n",
       "4    Bust                  0.428                    0.357      80   \n",
       "\n",
       "   three_point_percentage  true_shooting_percentage  win_shares_per_40_minutes  \n",
       "0                0.222000                     0.592                      0.346  \n",
       "1                0.414000                     0.572                      0.145  \n",
       "2                0.329162                     0.573                      0.237  \n",
       "3                0.355000                     0.527                      0.158  \n",
       "4                0.318000                     0.551                      0.165  "
      ]
     },
     "execution_count": 75,
     "metadata": {},
     "output_type": "execute_result"
    }
   ],
   "source": [
    "df = pd.read_csv('../combined_data.csv')\n",
    "df = df[[\"class\",\n",
    "         \"field_goal_percentage\",\n",
    "         \"free_throw_attempt_rate\",\n",
    "         \"height\",\n",
    "         \"three_point_percentage\",\n",
    "         \"true_shooting_percentage\",\n",
    "         \"win_shares_per_40_minutes\"]]\n",
    "\n",
    "df.head()"
   ]
  },
  {
   "cell_type": "code",
   "execution_count": 76,
   "metadata": {},
   "outputs": [],
   "source": [
    "X = df.drop([\"class\"], axis=1)\n",
    "y = df[\"class\"]"
   ]
  },
  {
   "cell_type": "code",
   "execution_count": 77,
   "metadata": {},
   "outputs": [],
   "source": [
    "from sklearn.preprocessing import LabelEncoder\n",
    "labels = LabelEncoder()\n",
    "labels.fit(y)\n",
    "encoded_y = labels.transform(y)"
   ]
  },
  {
   "cell_type": "code",
   "execution_count": 78,
   "metadata": {},
   "outputs": [
    {
     "data": {
      "text/html": [
       "<div>\n",
       "<style scoped>\n",
       "    .dataframe tbody tr th:only-of-type {\n",
       "        vertical-align: middle;\n",
       "    }\n",
       "\n",
       "    .dataframe tbody tr th {\n",
       "        vertical-align: top;\n",
       "    }\n",
       "\n",
       "    .dataframe thead th {\n",
       "        text-align: right;\n",
       "    }\n",
       "</style>\n",
       "<table border=\"1\" class=\"dataframe\">\n",
       "  <thead>\n",
       "    <tr style=\"text-align: right;\">\n",
       "      <th></th>\n",
       "      <th>class</th>\n",
       "      <th>field_goal_percentage</th>\n",
       "      <th>free_throw_attempt_rate</th>\n",
       "      <th>height</th>\n",
       "      <th>three_point_percentage</th>\n",
       "      <th>true_shooting_percentage</th>\n",
       "      <th>win_shares_per_40_minutes</th>\n",
       "      <th>code</th>\n",
       "    </tr>\n",
       "  </thead>\n",
       "  <tbody>\n",
       "    <tr>\n",
       "      <th>0</th>\n",
       "      <td>Player</td>\n",
       "      <td>0.586</td>\n",
       "      <td>0.494</td>\n",
       "      <td>81</td>\n",
       "      <td>0.222000</td>\n",
       "      <td>0.592</td>\n",
       "      <td>0.346</td>\n",
       "      <td>1</td>\n",
       "    </tr>\n",
       "    <tr>\n",
       "      <th>1</th>\n",
       "      <td>Player</td>\n",
       "      <td>0.455</td>\n",
       "      <td>0.249</td>\n",
       "      <td>73</td>\n",
       "      <td>0.414000</td>\n",
       "      <td>0.572</td>\n",
       "      <td>0.145</td>\n",
       "      <td>1</td>\n",
       "    </tr>\n",
       "    <tr>\n",
       "      <th>2</th>\n",
       "      <td>Player</td>\n",
       "      <td>0.542</td>\n",
       "      <td>0.555</td>\n",
       "      <td>83</td>\n",
       "      <td>0.329162</td>\n",
       "      <td>0.573</td>\n",
       "      <td>0.237</td>\n",
       "      <td>1</td>\n",
       "    </tr>\n",
       "    <tr>\n",
       "      <th>3</th>\n",
       "      <td>Bust</td>\n",
       "      <td>0.416</td>\n",
       "      <td>0.257</td>\n",
       "      <td>70</td>\n",
       "      <td>0.355000</td>\n",
       "      <td>0.527</td>\n",
       "      <td>0.158</td>\n",
       "      <td>0</td>\n",
       "    </tr>\n",
       "    <tr>\n",
       "      <th>4</th>\n",
       "      <td>Bust</td>\n",
       "      <td>0.428</td>\n",
       "      <td>0.357</td>\n",
       "      <td>80</td>\n",
       "      <td>0.318000</td>\n",
       "      <td>0.551</td>\n",
       "      <td>0.165</td>\n",
       "      <td>0</td>\n",
       "    </tr>\n",
       "  </tbody>\n",
       "</table>\n",
       "</div>"
      ],
      "text/plain": [
       "    class  field_goal_percentage  free_throw_attempt_rate  height  \\\n",
       "0  Player                  0.586                    0.494      81   \n",
       "1  Player                  0.455                    0.249      73   \n",
       "2  Player                  0.542                    0.555      83   \n",
       "3    Bust                  0.416                    0.257      70   \n",
       "4    Bust                  0.428                    0.357      80   \n",
       "\n",
       "   three_point_percentage  true_shooting_percentage  \\\n",
       "0                0.222000                     0.592   \n",
       "1                0.414000                     0.572   \n",
       "2                0.329162                     0.573   \n",
       "3                0.355000                     0.527   \n",
       "4                0.318000                     0.551   \n",
       "\n",
       "   win_shares_per_40_minutes  code  \n",
       "0                      0.346     1  \n",
       "1                      0.145     1  \n",
       "2                      0.237     1  \n",
       "3                      0.158     0  \n",
       "4                      0.165     0  "
      ]
     },
     "execution_count": 78,
     "metadata": {},
     "output_type": "execute_result"
    }
   ],
   "source": [
    "df[\"code\"]=encoded_y\n",
    "df.head()"
   ]
  },
  {
   "cell_type": "code",
   "execution_count": 79,
   "metadata": {},
   "outputs": [
    {
     "data": {
      "text/html": [
       "<div>\n",
       "<style scoped>\n",
       "    .dataframe tbody tr th:only-of-type {\n",
       "        vertical-align: middle;\n",
       "    }\n",
       "\n",
       "    .dataframe tbody tr th {\n",
       "        vertical-align: top;\n",
       "    }\n",
       "\n",
       "    .dataframe thead th {\n",
       "        text-align: right;\n",
       "    }\n",
       "</style>\n",
       "<table border=\"1\" class=\"dataframe\">\n",
       "  <thead>\n",
       "    <tr style=\"text-align: right;\">\n",
       "      <th></th>\n",
       "      <th>class</th>\n",
       "      <th>code</th>\n",
       "    </tr>\n",
       "  </thead>\n",
       "  <tbody>\n",
       "    <tr>\n",
       "      <th>0</th>\n",
       "      <td>Player</td>\n",
       "      <td>1</td>\n",
       "    </tr>\n",
       "    <tr>\n",
       "      <th>3</th>\n",
       "      <td>Bust</td>\n",
       "      <td>0</td>\n",
       "    </tr>\n",
       "  </tbody>\n",
       "</table>\n",
       "</div>"
      ],
      "text/plain": [
       "    class  code\n",
       "0  Player     1\n",
       "3    Bust     0"
      ]
     },
     "execution_count": 79,
     "metadata": {},
     "output_type": "execute_result"
    }
   ],
   "source": [
    "labels_df = pd.DataFrame({\"class\": y, \"code\": encoded_y}).drop_duplicates(subset=None, keep=\"first\")\n",
    "labels_df"
   ]
  },
  {
   "cell_type": "code",
   "execution_count": 80,
   "metadata": {},
   "outputs": [],
   "source": [
    "encoded_y =encoded_y.reshape(-1, 1)"
   ]
  },
  {
   "cell_type": "code",
   "execution_count": 81,
   "metadata": {},
   "outputs": [],
   "source": [
    "# X = df.drop([\"class\",\"player_id\",\"name\",\"college\",'assists_per_40',\n",
    "#             'turnovers','points','blocks_per_40','turnover_percentage',\n",
    "#             'blocks','steals','assists','three_pointers_per_40','three_pointers',\n",
    "#             'total_rebounds', 'free_throw_percentage', \n",
    "#              'games_played','minutes_played', 'points_per_40','steals_per_40',\n",
    "#             'total_rebounds_per_40','turnovers_per_40', \"code\", \"effective_field_goal_percentage\"], axis=1)\n",
    "feature_names = X.columns\n",
    "# X.head()"
   ]
  },
  {
   "cell_type": "code",
   "execution_count": 107,
   "metadata": {},
   "outputs": [
    {
     "name": "stdout",
     "output_type": "stream",
     "text": [
      "Shape of X Variables: (51, 6)\n",
      "Shape of Y Variables: (853, 1)\n"
     ]
    }
   ],
   "source": [
    "print(f\"Shape of X Variables: {X.shape}\")\n",
    "print(f\"Shape of Y Variables: {encoded_y.shape}\")"
   ]
  },
  {
   "cell_type": "code",
   "execution_count": 83,
   "metadata": {},
   "outputs": [],
   "source": [
    "# from sklearn.model_selection import train_test_split\n",
    "\n",
    "# X_train, X_test, y_train, y_test = train_test_split(X, encoded_y, random_state=42)"
   ]
  },
  {
   "cell_type": "code",
   "execution_count": 84,
   "metadata": {},
   "outputs": [],
   "source": [
    "from sklearn.preprocessing import MinMaxScaler\n",
    "X_scaler = MinMaxScaler().fit(X)\n",
    "# y_scaler = MinMaxScaler().fit(y_train)\n",
    "\n",
    "X_scaled = X_scaler.transform(X)\n",
    "# y_train_scaled = y_scaler.transform(y_train)\n",
    "# y_test_scaled = y_scaler.transform(y_test)\n"
   ]
  },
  {
   "cell_type": "code",
   "execution_count": 85,
   "metadata": {},
   "outputs": [],
   "source": [
    "# Create a random forest classifier\n",
    "rf = RandomForestClassifier(n_estimators=200)\n",
    "# rf = rf.fit(X_train_scaled, y_train)\n",
    "# rf.score(X_test_scaled, y_test)"
   ]
  },
  {
   "cell_type": "code",
   "execution_count": 106,
   "metadata": {},
   "outputs": [
    {
     "name": "stdout",
     "output_type": "stream",
     "text": [
      "Scores for the K-5 Tests: [0.6783625730994152, 0.7426900584795322, 0.7719298245614035, 0.7176470588235294, 0.6882352941176471]\n"
     ]
    }
   ],
   "source": [
    "from sklearn.model_selection import KFold\n",
    "\n",
    "kf_scores = []\n",
    "kf = KFold(n_splits=5, random_state=1, shuffle=True)   # Define the split - into 10 folds \n",
    "kf.get_n_splits(df)   # returns the number of splitting iterations in the cross-validator\n",
    "\n",
    "for train_index, test_index in kf.split(df):\n",
    "    X_train, X_test, y_train, y_test = X_scaled[train_index], X_scaled[test_index], encoded_y[train_index], encoded_y[test_index]\n",
    "    rf = rf.fit(X_train, y_train)\n",
    "    kf_scores.append(rf.score(X_test, y_test))\n",
    "\n",
    "print(f\"Scores for the K-5 Tests: {kf_scores}\")"
   ]
  },
  {
   "cell_type": "code",
   "execution_count": 87,
   "metadata": {},
   "outputs": [
    {
     "data": {
      "text/plain": [
       "array([0.20566696, 0.16208242, 0.10463387, 0.17101832, 0.17576651,\n",
       "       0.18083193])"
      ]
     },
     "execution_count": 87,
     "metadata": {},
     "output_type": "execute_result"
    }
   ],
   "source": [
    "# Random Forests in sklearn will automatically calculate feature importance\n",
    "importances = rf.feature_importances_\n",
    "importances"
   ]
  },
  {
   "cell_type": "code",
   "execution_count": 88,
   "metadata": {},
   "outputs": [
    {
     "data": {
      "text/plain": [
       "[(0.2056669567751204, 'field_goal_percentage'),\n",
       " (0.18083193060598085, 'win_shares_per_40_minutes'),\n",
       " (0.1757665054717665, 'true_shooting_percentage'),\n",
       " (0.1710183151339564, 'three_point_percentage'),\n",
       " (0.16208242057072078, 'free_throw_attempt_rate'),\n",
       " (0.10463387144245502, 'height')]"
      ]
     },
     "execution_count": 88,
     "metadata": {},
     "output_type": "execute_result"
    }
   ],
   "source": [
    "# We can sort the features by their importance\n",
    "sorted(zip(rf.feature_importances_, feature_names), reverse=True)"
   ]
  },
  {
   "cell_type": "code",
   "execution_count": 89,
   "metadata": {},
   "outputs": [],
   "source": [
    "# Create the GridSearch estimator along with a parameter object containing the values to adjust\n",
    "from sklearn.model_selection import GridSearchCV\n",
    "param_grid = {\"n_estimators\": [200]}\n",
    "grid = GridSearchCV(rf, param_grid, verbose=3)"
   ]
  },
  {
   "cell_type": "code",
   "execution_count": 90,
   "metadata": {},
   "outputs": [
    {
     "name": "stdout",
     "output_type": "stream",
     "text": [
      "Fitting 3 folds for each of 1 candidates, totalling 3 fits\n",
      "[CV] n_estimators=200 ................................................\n"
     ]
    },
    {
     "name": "stderr",
     "output_type": "stream",
     "text": [
      "[Parallel(n_jobs=1)]: Using backend SequentialBackend with 1 concurrent workers.\n"
     ]
    },
    {
     "name": "stdout",
     "output_type": "stream",
     "text": [
      "[CV] ....... n_estimators=200, score=0.7149122807017544, total=   0.1s\n",
      "[CV] n_estimators=200 ................................................\n"
     ]
    },
    {
     "name": "stderr",
     "output_type": "stream",
     "text": [
      "[Parallel(n_jobs=1)]: Done   1 out of   1 | elapsed:    0.1s remaining:    0.0s\n"
     ]
    },
    {
     "name": "stdout",
     "output_type": "stream",
     "text": [
      "[CV] ....... n_estimators=200, score=0.7412280701754386, total=   0.1s\n",
      "[CV] n_estimators=200 ................................................\n"
     ]
    },
    {
     "name": "stderr",
     "output_type": "stream",
     "text": [
      "[Parallel(n_jobs=1)]: Done   2 out of   2 | elapsed:    0.3s remaining:    0.0s\n"
     ]
    },
    {
     "name": "stdout",
     "output_type": "stream",
     "text": [
      "[CV] ....... n_estimators=200, score=0.7268722466960352, total=   0.1s\n"
     ]
    },
    {
     "name": "stderr",
     "output_type": "stream",
     "text": [
      "[Parallel(n_jobs=1)]: Done   3 out of   3 | elapsed:    0.6s finished\n"
     ]
    },
    {
     "data": {
      "text/plain": [
       "GridSearchCV(cv='warn', error_score='raise-deprecating',\n",
       "       estimator=RandomForestClassifier(bootstrap=True, class_weight=None, criterion='gini',\n",
       "            max_depth=None, max_features='auto', max_leaf_nodes=None,\n",
       "            min_impurity_decrease=0.0, min_impurity_split=None,\n",
       "            min_samples_leaf=1, min_samples_split=2,\n",
       "            min_weight_fraction_leaf=0.0, n_estimators=200, n_jobs=None,\n",
       "            oob_score=False, random_state=None, verbose=0,\n",
       "            warm_start=False),\n",
       "       fit_params=None, iid='warn', n_jobs=None,\n",
       "       param_grid={'n_estimators': [200]}, pre_dispatch='2*n_jobs',\n",
       "       refit=True, return_train_score='warn', scoring=None, verbose=3)"
      ]
     },
     "execution_count": 90,
     "metadata": {},
     "output_type": "execute_result"
    }
   ],
   "source": [
    "# Fit the model using the grid search estimator. \n",
    "grid.fit(X_train, y_train)"
   ]
  },
  {
   "cell_type": "code",
   "execution_count": 91,
   "metadata": {},
   "outputs": [
    {
     "name": "stdout",
     "output_type": "stream",
     "text": [
      "{'n_estimators': 200}\n"
     ]
    }
   ],
   "source": [
    "# List the best parameters for this dataset\n",
    "print(grid.best_params_)"
   ]
  },
  {
   "cell_type": "code",
   "execution_count": 109,
   "metadata": {},
   "outputs": [
    {
     "name": "stdout",
     "output_type": "stream",
     "text": [
      "Best Score after Grid Search Hypertuning: 0.7276720351390923\n"
     ]
    }
   ],
   "source": [
    "# List the best score\n",
    "print(f\"Best Score after Grid Search Hypertuning: {grid.best_score_}\")"
   ]
  },
  {
   "cell_type": "code",
   "execution_count": 93,
   "metadata": {},
   "outputs": [
    {
     "data": {
      "text/plain": [
       "RandomForestClassifier(bootstrap=True, class_weight=None, criterion='gini',\n",
       "            max_depth=None, max_features='auto', max_leaf_nodes=None,\n",
       "            min_impurity_decrease=0.0, min_impurity_split=None,\n",
       "            min_samples_leaf=1, min_samples_split=2,\n",
       "            min_weight_fraction_leaf=0.0, n_estimators=200, n_jobs=None,\n",
       "            oob_score=False, random_state=None, verbose=0,\n",
       "            warm_start=False)"
      ]
     },
     "execution_count": 93,
     "metadata": {},
     "output_type": "execute_result"
    }
   ],
   "source": [
    "model = grid.best_estimator_\n",
    "model"
   ]
  },
  {
   "cell_type": "code",
   "execution_count": 94,
   "metadata": {},
   "outputs": [],
   "source": [
    "# Make predictions with the hypertuned model\n",
    "predictions = grid.predict(X_test)"
   ]
  },
  {
   "cell_type": "code",
   "execution_count": 95,
   "metadata": {},
   "outputs": [
    {
     "name": "stdout",
     "output_type": "stream",
     "text": [
      "              precision    recall  f1-score   support\n",
      "\n",
      "           0       0.39      0.15      0.22        47\n",
      "           1       0.74      0.91      0.81       123\n",
      "\n",
      "   micro avg       0.70      0.70      0.70       170\n",
      "   macro avg       0.56      0.53      0.51       170\n",
      "weighted avg       0.64      0.70      0.65       170\n",
      "\n"
     ]
    }
   ],
   "source": [
    "# Calculate classification report\n",
    "from sklearn.metrics import classification_report\n",
    "print(classification_report(y_test, predictions))"
   ]
  },
  {
   "cell_type": "code",
   "execution_count": 96,
   "metadata": {},
   "outputs": [],
   "source": [
    "import pickle\n",
    "\n",
    "filename = 'random_forest_kfold.pkl'\n",
    "pickle.dump(model, open(filename, 'wb'))"
   ]
  },
  {
   "cell_type": "code",
   "execution_count": 97,
   "metadata": {},
   "outputs": [
    {
     "name": "stdout",
     "output_type": "stream",
     "text": [
      "0.7\n"
     ]
    }
   ],
   "source": [
    "# load the model from disk\n",
    "loaded_model = pickle.load(open(filename, 'rb'))\n",
    "result = loaded_model.score(X_test, y_test)\n",
    "print(result)"
   ]
  },
  {
   "cell_type": "code",
   "execution_count": 98,
   "metadata": {},
   "outputs": [
    {
     "data": {
      "text/html": [
       "<div>\n",
       "<style scoped>\n",
       "    .dataframe tbody tr th:only-of-type {\n",
       "        vertical-align: middle;\n",
       "    }\n",
       "\n",
       "    .dataframe tbody tr th {\n",
       "        vertical-align: top;\n",
       "    }\n",
       "\n",
       "    .dataframe thead th {\n",
       "        text-align: right;\n",
       "    }\n",
       "</style>\n",
       "<table border=\"1\" class=\"dataframe\">\n",
       "  <thead>\n",
       "    <tr style=\"text-align: right;\">\n",
       "      <th></th>\n",
       "      <th>rank</th>\n",
       "      <th>player_id</th>\n",
       "      <th>name</th>\n",
       "      <th>college</th>\n",
       "      <th>year</th>\n",
       "      <th>assists</th>\n",
       "      <th>blocks</th>\n",
       "      <th>effective_field_goal_percentage</th>\n",
       "      <th>field_goal_percentage</th>\n",
       "      <th>free_throw_attempt_rate</th>\n",
       "      <th>...</th>\n",
       "      <th>turnover_percentage</th>\n",
       "      <th>turnovers</th>\n",
       "      <th>win_shares_per_40_minutes</th>\n",
       "      <th>assists_per_40</th>\n",
       "      <th>blocks_per_40</th>\n",
       "      <th>points_per_40</th>\n",
       "      <th>steals_per_40</th>\n",
       "      <th>three_pointers_per_40</th>\n",
       "      <th>total_rebounds_per_40</th>\n",
       "      <th>turnovers_per_40</th>\n",
       "    </tr>\n",
       "  </thead>\n",
       "  <tbody>\n",
       "    <tr>\n",
       "      <th>0</th>\n",
       "      <td>1</td>\n",
       "      <td>anthony-edwards-2</td>\n",
       "      <td>Anthony Edwards</td>\n",
       "      <td>missouri state</td>\n",
       "      <td>Fr.</td>\n",
       "      <td>68</td>\n",
       "      <td>12</td>\n",
       "      <td>0.485</td>\n",
       "      <td>0.411</td>\n",
       "      <td>0.328</td>\n",
       "      <td>...</td>\n",
       "      <td>12.1</td>\n",
       "      <td>59</td>\n",
       "      <td>0.163</td>\n",
       "      <td>3.726027</td>\n",
       "      <td>0.657534</td>\n",
       "      <td>24.767123</td>\n",
       "      <td>1.808219</td>\n",
       "      <td>3.013699</td>\n",
       "      <td>6.958904</td>\n",
       "      <td>3.232877</td>\n",
       "    </tr>\n",
       "    <tr>\n",
       "      <th>1</th>\n",
       "      <td>2</td>\n",
       "      <td>james-wiseman-1</td>\n",
       "      <td>James Wiseman</td>\n",
       "      <td>memphis</td>\n",
       "      <td>Fr.</td>\n",
       "      <td>1</td>\n",
       "      <td>9</td>\n",
       "      <td>0.769</td>\n",
       "      <td>0.769</td>\n",
       "      <td>1.038</td>\n",
       "      <td>...</td>\n",
       "      <td>7.2</td>\n",
       "      <td>3</td>\n",
       "      <td>0.443</td>\n",
       "      <td>0.579710</td>\n",
       "      <td>5.217391</td>\n",
       "      <td>34.202899</td>\n",
       "      <td>0.579710</td>\n",
       "      <td>0.000000</td>\n",
       "      <td>18.550725</td>\n",
       "      <td>1.739130</td>\n",
       "    </tr>\n",
       "    <tr>\n",
       "      <th>2</th>\n",
       "      <td>4</td>\n",
       "      <td>obadiah-toppin-1</td>\n",
       "      <td>Obi Toppin</td>\n",
       "      <td>dayton</td>\n",
       "      <td>So.</td>\n",
       "      <td>111</td>\n",
       "      <td>60</td>\n",
       "      <td>0.674</td>\n",
       "      <td>0.646</td>\n",
       "      <td>0.306</td>\n",
       "      <td>...</td>\n",
       "      <td>14.6</td>\n",
       "      <td>116</td>\n",
       "      <td>0.244</td>\n",
       "      <td>2.792453</td>\n",
       "      <td>1.509434</td>\n",
       "      <td>23.295597</td>\n",
       "      <td>1.157233</td>\n",
       "      <td>0.830189</td>\n",
       "      <td>9.182390</td>\n",
       "      <td>2.918239</td>\n",
       "    </tr>\n",
       "    <tr>\n",
       "      <th>3</th>\n",
       "      <td>5</td>\n",
       "      <td>jaden-mcdaniels-1</td>\n",
       "      <td>Jaden McDaniels</td>\n",
       "      <td>washington</td>\n",
       "      <td>Fr.</td>\n",
       "      <td>49</td>\n",
       "      <td>35</td>\n",
       "      <td>0.453</td>\n",
       "      <td>0.396</td>\n",
       "      <td>0.347</td>\n",
       "      <td>...</td>\n",
       "      <td>21.2</td>\n",
       "      <td>77</td>\n",
       "      <td>0.087</td>\n",
       "      <td>2.673943</td>\n",
       "      <td>1.909959</td>\n",
       "      <td>15.552524</td>\n",
       "      <td>1.091405</td>\n",
       "      <td>1.527967</td>\n",
       "      <td>7.366985</td>\n",
       "      <td>4.201910</td>\n",
       "    </tr>\n",
       "    <tr>\n",
       "      <th>4</th>\n",
       "      <td>6</td>\n",
       "      <td>nico-mannion-1</td>\n",
       "      <td>Nico Mannion</td>\n",
       "      <td>arizona</td>\n",
       "      <td>Fr.</td>\n",
       "      <td>126</td>\n",
       "      <td>0</td>\n",
       "      <td>0.477</td>\n",
       "      <td>0.402</td>\n",
       "      <td>0.349</td>\n",
       "      <td>...</td>\n",
       "      <td>16.2</td>\n",
       "      <td>59</td>\n",
       "      <td>0.164</td>\n",
       "      <td>7.039106</td>\n",
       "      <td>0.000000</td>\n",
       "      <td>18.044693</td>\n",
       "      <td>1.396648</td>\n",
       "      <td>2.178771</td>\n",
       "      <td>3.407821</td>\n",
       "      <td>3.296089</td>\n",
       "    </tr>\n",
       "  </tbody>\n",
       "</table>\n",
       "<p>5 rows × 30 columns</p>\n",
       "</div>"
      ],
      "text/plain": [
       "   rank          player_id             name         college year  assists  \\\n",
       "0     1  anthony-edwards-2  Anthony Edwards  missouri state  Fr.       68   \n",
       "1     2    james-wiseman-1    James Wiseman         memphis  Fr.        1   \n",
       "2     4   obadiah-toppin-1       Obi Toppin          dayton  So.      111   \n",
       "3     5  jaden-mcdaniels-1  Jaden McDaniels      washington  Fr.       49   \n",
       "4     6     nico-mannion-1     Nico Mannion         arizona  Fr.      126   \n",
       "\n",
       "   blocks  effective_field_goal_percentage  field_goal_percentage  \\\n",
       "0      12                            0.485                  0.411   \n",
       "1       9                            0.769                  0.769   \n",
       "2      60                            0.674                  0.646   \n",
       "3      35                            0.453                  0.396   \n",
       "4       0                            0.477                  0.402   \n",
       "\n",
       "   free_throw_attempt_rate  ...  turnover_percentage  turnovers  \\\n",
       "0                    0.328  ...                 12.1         59   \n",
       "1                    1.038  ...                  7.2          3   \n",
       "2                    0.306  ...                 14.6        116   \n",
       "3                    0.347  ...                 21.2         77   \n",
       "4                    0.349  ...                 16.2         59   \n",
       "\n",
       "   win_shares_per_40_minutes  assists_per_40  blocks_per_40  points_per_40  \\\n",
       "0                      0.163        3.726027       0.657534      24.767123   \n",
       "1                      0.443        0.579710       5.217391      34.202899   \n",
       "2                      0.244        2.792453       1.509434      23.295597   \n",
       "3                      0.087        2.673943       1.909959      15.552524   \n",
       "4                      0.164        7.039106       0.000000      18.044693   \n",
       "\n",
       "   steals_per_40  three_pointers_per_40  total_rebounds_per_40  \\\n",
       "0       1.808219               3.013699               6.958904   \n",
       "1       0.579710               0.000000              18.550725   \n",
       "2       1.157233               0.830189               9.182390   \n",
       "3       1.091405               1.527967               7.366985   \n",
       "4       1.396648               2.178771               3.407821   \n",
       "\n",
       "   turnovers_per_40  \n",
       "0          3.232877  \n",
       "1          1.739130  \n",
       "2          2.918239  \n",
       "3          4.201910  \n",
       "4          3.296089  \n",
       "\n",
       "[5 rows x 30 columns]"
      ]
     },
     "execution_count": 98,
     "metadata": {},
     "output_type": "execute_result"
    }
   ],
   "source": [
    "# load draft data csv\n",
    "draft_data = pd.read_csv('../Draft_data.csv')\n",
    "draft_data.head()"
   ]
  },
  {
   "cell_type": "code",
   "execution_count": 99,
   "metadata": {},
   "outputs": [
    {
     "data": {
      "text/html": [
       "<div>\n",
       "<style scoped>\n",
       "    .dataframe tbody tr th:only-of-type {\n",
       "        vertical-align: middle;\n",
       "    }\n",
       "\n",
       "    .dataframe tbody tr th {\n",
       "        vertical-align: top;\n",
       "    }\n",
       "\n",
       "    .dataframe thead th {\n",
       "        text-align: right;\n",
       "    }\n",
       "</style>\n",
       "<table border=\"1\" class=\"dataframe\">\n",
       "  <thead>\n",
       "    <tr style=\"text-align: right;\">\n",
       "      <th></th>\n",
       "      <th>field_goal_percentage</th>\n",
       "      <th>free_throw_attempt_rate</th>\n",
       "      <th>height</th>\n",
       "      <th>three_point_percentage</th>\n",
       "      <th>true_shooting_percentage</th>\n",
       "      <th>win_shares_per_40_minutes</th>\n",
       "    </tr>\n",
       "  </thead>\n",
       "  <tbody>\n",
       "    <tr>\n",
       "      <th>0</th>\n",
       "      <td>0.411</td>\n",
       "      <td>0.328</td>\n",
       "      <td>77</td>\n",
       "      <td>0.318</td>\n",
       "      <td>0.526</td>\n",
       "      <td>0.163</td>\n",
       "    </tr>\n",
       "    <tr>\n",
       "      <th>1</th>\n",
       "      <td>0.769</td>\n",
       "      <td>1.038</td>\n",
       "      <td>85</td>\n",
       "      <td>0.000</td>\n",
       "      <td>0.760</td>\n",
       "      <td>0.443</td>\n",
       "    </tr>\n",
       "    <tr>\n",
       "      <th>2</th>\n",
       "      <td>0.646</td>\n",
       "      <td>0.306</td>\n",
       "      <td>81</td>\n",
       "      <td>0.398</td>\n",
       "      <td>0.684</td>\n",
       "      <td>0.244</td>\n",
       "    </tr>\n",
       "    <tr>\n",
       "      <th>3</th>\n",
       "      <td>0.396</td>\n",
       "      <td>0.347</td>\n",
       "      <td>81</td>\n",
       "      <td>0.318</td>\n",
       "      <td>0.499</td>\n",
       "      <td>0.087</td>\n",
       "    </tr>\n",
       "    <tr>\n",
       "      <th>4</th>\n",
       "      <td>0.402</td>\n",
       "      <td>0.349</td>\n",
       "      <td>75</td>\n",
       "      <td>0.339</td>\n",
       "      <td>0.531</td>\n",
       "      <td>0.164</td>\n",
       "    </tr>\n",
       "  </tbody>\n",
       "</table>\n",
       "</div>"
      ],
      "text/plain": [
       "   field_goal_percentage  free_throw_attempt_rate  height  \\\n",
       "0                  0.411                    0.328      77   \n",
       "1                  0.769                    1.038      85   \n",
       "2                  0.646                    0.306      81   \n",
       "3                  0.396                    0.347      81   \n",
       "4                  0.402                    0.349      75   \n",
       "\n",
       "   three_point_percentage  true_shooting_percentage  win_shares_per_40_minutes  \n",
       "0                   0.318                     0.526                      0.163  \n",
       "1                   0.000                     0.760                      0.443  \n",
       "2                   0.398                     0.684                      0.244  \n",
       "3                   0.318                     0.499                      0.087  \n",
       "4                   0.339                     0.531                      0.164  "
      ]
     },
     "execution_count": 99,
     "metadata": {},
     "output_type": "execute_result"
    }
   ],
   "source": [
    "X = draft_data[[\n",
    "             \"field_goal_percentage\",\n",
    "             \"free_throw_attempt_rate\",\n",
    "             \"height\",\n",
    "             \"three_point_percentage\",\n",
    "             \"true_shooting_percentage\",\n",
    "             \"win_shares_per_40_minutes\"\n",
    "              ]]\n",
    "X.head()"
   ]
  },
  {
   "cell_type": "code",
   "execution_count": 100,
   "metadata": {},
   "outputs": [
    {
     "name": "stdout",
     "output_type": "stream",
     "text": [
      "RandomForestClassifier(bootstrap=True, class_weight=None, criterion='gini',\n",
      "            max_depth=None, max_features='auto', max_leaf_nodes=None,\n",
      "            min_impurity_decrease=0.0, min_impurity_split=None,\n",
      "            min_samples_leaf=1, min_samples_split=2,\n",
      "            min_weight_fraction_leaf=0.0, n_estimators=200, n_jobs=None,\n",
      "            oob_score=False, random_state=None, verbose=0,\n",
      "            warm_start=False)\n"
     ]
    }
   ],
   "source": [
    "# load the model from disk\n",
    "filename = 'random_forest_kfold.pkl'\n",
    "loaded_model = pickle.load(open(filename, 'rb'))\n",
    "# result = loaded_model.score(X_test, y_test)\n",
    "print(loaded_model)"
   ]
  },
  {
   "cell_type": "code",
   "execution_count": 101,
   "metadata": {},
   "outputs": [
    {
     "data": {
      "text/plain": [
       "array(['Bust', 'Bust', 'Bust', 'Bust', 'Bust', 'Bust', 'Bust', 'Bust',\n",
       "       'Bust', 'Player', 'Bust', 'Bust', 'Bust', 'Bust', 'Player', 'Bust',\n",
       "       'Bust', 'Bust', 'Bust', 'Bust', 'Bust', 'Bust', 'Bust', 'Bust',\n",
       "       'Player', 'Bust', 'Bust', 'Bust', 'Bust', 'Bust', 'Bust', 'Bust',\n",
       "       'Bust', 'Bust', 'Bust', 'Bust', 'Bust', 'Player', 'Bust', 'Bust',\n",
       "       'Bust', 'Bust', 'Bust', 'Bust', 'Bust', 'Player', 'Bust', 'Bust',\n",
       "       'Bust', 'Bust', 'Bust'], dtype=object)"
      ]
     },
     "execution_count": 101,
     "metadata": {},
     "output_type": "execute_result"
    }
   ],
   "source": [
    "# make a prediction\n",
    "ynew = loaded_model.predict(X)\n",
    "ynew = labels.inverse_transform(ynew)\n",
    "\n",
    "ynew"
   ]
  },
  {
   "cell_type": "code",
   "execution_count": 102,
   "metadata": {},
   "outputs": [
    {
     "data": {
      "text/html": [
       "<div>\n",
       "<style scoped>\n",
       "    .dataframe tbody tr th:only-of-type {\n",
       "        vertical-align: middle;\n",
       "    }\n",
       "\n",
       "    .dataframe tbody tr th {\n",
       "        vertical-align: top;\n",
       "    }\n",
       "\n",
       "    .dataframe thead th {\n",
       "        text-align: right;\n",
       "    }\n",
       "</style>\n",
       "<table border=\"1\" class=\"dataframe\">\n",
       "  <thead>\n",
       "    <tr style=\"text-align: right;\">\n",
       "      <th></th>\n",
       "      <th>name</th>\n",
       "      <th>Prediction</th>\n",
       "    </tr>\n",
       "  </thead>\n",
       "  <tbody>\n",
       "    <tr>\n",
       "      <th>0</th>\n",
       "      <td>Anthony Edwards</td>\n",
       "      <td>Bust</td>\n",
       "    </tr>\n",
       "    <tr>\n",
       "      <th>1</th>\n",
       "      <td>James Wiseman</td>\n",
       "      <td>Bust</td>\n",
       "    </tr>\n",
       "    <tr>\n",
       "      <th>2</th>\n",
       "      <td>Obi Toppin</td>\n",
       "      <td>Bust</td>\n",
       "    </tr>\n",
       "    <tr>\n",
       "      <th>3</th>\n",
       "      <td>Jaden McDaniels</td>\n",
       "      <td>Bust</td>\n",
       "    </tr>\n",
       "    <tr>\n",
       "      <th>4</th>\n",
       "      <td>Nico Mannion</td>\n",
       "      <td>Bust</td>\n",
       "    </tr>\n",
       "    <tr>\n",
       "      <th>5</th>\n",
       "      <td>Daniel Oturu</td>\n",
       "      <td>Bust</td>\n",
       "    </tr>\n",
       "    <tr>\n",
       "      <th>6</th>\n",
       "      <td>Cole Anthony</td>\n",
       "      <td>Bust</td>\n",
       "    </tr>\n",
       "    <tr>\n",
       "      <th>7</th>\n",
       "      <td>Vernon Carey Jr.</td>\n",
       "      <td>Bust</td>\n",
       "    </tr>\n",
       "    <tr>\n",
       "      <th>8</th>\n",
       "      <td>Tyrese Haliburton</td>\n",
       "      <td>Bust</td>\n",
       "    </tr>\n",
       "    <tr>\n",
       "      <th>9</th>\n",
       "      <td>Onyeka Okongwu</td>\n",
       "      <td>Player</td>\n",
       "    </tr>\n",
       "  </tbody>\n",
       "</table>\n",
       "</div>"
      ],
      "text/plain": [
       "                name Prediction\n",
       "0    Anthony Edwards       Bust\n",
       "1      James Wiseman       Bust\n",
       "2         Obi Toppin       Bust\n",
       "3    Jaden McDaniels       Bust\n",
       "4       Nico Mannion       Bust\n",
       "5       Daniel Oturu       Bust\n",
       "6       Cole Anthony       Bust\n",
       "7   Vernon Carey Jr.       Bust\n",
       "8  Tyrese Haliburton       Bust\n",
       "9     Onyeka Okongwu     Player"
      ]
     },
     "execution_count": 102,
     "metadata": {},
     "output_type": "execute_result"
    }
   ],
   "source": [
    "draft_data[\"Prediction\"]=ynew\n",
    "draft_data[[\"name\", \"Prediction\"]].head(10)"
   ]
  },
  {
   "cell_type": "code",
   "execution_count": null,
   "metadata": {},
   "outputs": [],
   "source": []
  }
 ],
 "metadata": {
  "kernelspec": {
   "display_name": "Python 3",
   "language": "python",
   "name": "python3"
  },
  "language_info": {
   "codemirror_mode": {
    "name": "ipython",
    "version": 3
   },
   "file_extension": ".py",
   "mimetype": "text/x-python",
   "name": "python",
   "nbconvert_exporter": "python",
   "pygments_lexer": "ipython3",
   "version": "3.7.3"
  }
 },
 "nbformat": 4,
 "nbformat_minor": 2
}

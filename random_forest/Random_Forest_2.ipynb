{
 "cells": [
  {
   "cell_type": "code",
   "execution_count": 1,
   "metadata": {},
   "outputs": [],
   "source": [
    "#import dependencies\n",
    "import matplotlib.pyplot as plt\n",
    "from sklearn.ensemble import RandomForestClassifier\n",
    "import pandas as pd\n",
    "import numpy as np\n",
    "import matplotlib.pyplot as plt\n",
    "import seaborn as sns\n",
    "import os\n",
    "import warnings\n"
   ]
  },
  {
   "cell_type": "code",
   "execution_count": 2,
   "metadata": {},
   "outputs": [
    {
     "data": {
      "text/html": [
       "<div>\n",
       "<style scoped>\n",
       "    .dataframe tbody tr th:only-of-type {\n",
       "        vertical-align: middle;\n",
       "    }\n",
       "\n",
       "    .dataframe tbody tr th {\n",
       "        vertical-align: top;\n",
       "    }\n",
       "\n",
       "    .dataframe thead th {\n",
       "        text-align: right;\n",
       "    }\n",
       "</style>\n",
       "<table border=\"1\" class=\"dataframe\">\n",
       "  <thead>\n",
       "    <tr style=\"text-align: right;\">\n",
       "      <th></th>\n",
       "      <th>player_id</th>\n",
       "      <th>name</th>\n",
       "      <th>class</th>\n",
       "      <th>college</th>\n",
       "      <th>assists</th>\n",
       "      <th>blocks</th>\n",
       "      <th>effective_field_goal_percentage</th>\n",
       "      <th>field_goal_percentage</th>\n",
       "      <th>free_throw_attempt_rate</th>\n",
       "      <th>free_throw_percentage</th>\n",
       "      <th>...</th>\n",
       "      <th>turnover_percentage</th>\n",
       "      <th>turnovers</th>\n",
       "      <th>win_shares_per_40_minutes</th>\n",
       "      <th>assists_per_40</th>\n",
       "      <th>blocks_per_40</th>\n",
       "      <th>points_per_40</th>\n",
       "      <th>steals_per_40</th>\n",
       "      <th>three_pointers_per_40</th>\n",
       "      <th>total_rebounds_per_40</th>\n",
       "      <th>turnovers_per_40</th>\n",
       "    </tr>\n",
       "  </thead>\n",
       "  <tbody>\n",
       "    <tr>\n",
       "      <th>0</th>\n",
       "      <td>kenyon-martin-1</td>\n",
       "      <td>Kenyon Martin</td>\n",
       "      <td>Player</td>\n",
       "      <td>cincinnati</td>\n",
       "      <td>142</td>\n",
       "      <td>292</td>\n",
       "      <td>0.587</td>\n",
       "      <td>0.586</td>\n",
       "      <td>0.494</td>\n",
       "      <td>0.581</td>\n",
       "      <td>...</td>\n",
       "      <td>14.3</td>\n",
       "      <td>139.0</td>\n",
       "      <td>0.346</td>\n",
       "      <td>2.781587</td>\n",
       "      <td>5.719882</td>\n",
       "      <td>25.053869</td>\n",
       "      <td>2.428991</td>\n",
       "      <td>0.039177</td>\n",
       "      <td>17.022527</td>\n",
       "      <td>2.722821</td>\n",
       "    </tr>\n",
       "    <tr>\n",
       "      <th>1</th>\n",
       "      <td>aj-guyton-1</td>\n",
       "      <td>A.J. Guyton</td>\n",
       "      <td>Player</td>\n",
       "      <td>indiana</td>\n",
       "      <td>403</td>\n",
       "      <td>52</td>\n",
       "      <td>0.541</td>\n",
       "      <td>0.455</td>\n",
       "      <td>0.249</td>\n",
       "      <td>0.790</td>\n",
       "      <td>...</td>\n",
       "      <td>13.6</td>\n",
       "      <td>218.0</td>\n",
       "      <td>0.145</td>\n",
       "      <td>4.944785</td>\n",
       "      <td>0.638037</td>\n",
       "      <td>25.766871</td>\n",
       "      <td>1.582822</td>\n",
       "      <td>3.472393</td>\n",
       "      <td>5.263804</td>\n",
       "      <td>2.674847</td>\n",
       "    </tr>\n",
       "    <tr>\n",
       "      <th>2</th>\n",
       "      <td>jake-voskuhl-1</td>\n",
       "      <td>Jake Voskuhl</td>\n",
       "      <td>Player</td>\n",
       "      <td>uconn</td>\n",
       "      <td>124</td>\n",
       "      <td>193</td>\n",
       "      <td>0.542</td>\n",
       "      <td>0.542</td>\n",
       "      <td>0.555</td>\n",
       "      <td>0.656</td>\n",
       "      <td>...</td>\n",
       "      <td>23.0</td>\n",
       "      <td>160.0</td>\n",
       "      <td>0.237</td>\n",
       "      <td>2.271062</td>\n",
       "      <td>3.534799</td>\n",
       "      <td>15.805861</td>\n",
       "      <td>1.575092</td>\n",
       "      <td>0.000000</td>\n",
       "      <td>16.117216</td>\n",
       "      <td>2.930403</td>\n",
       "    </tr>\n",
       "    <tr>\n",
       "      <th>3</th>\n",
       "      <td>khalid-el-amin-1</td>\n",
       "      <td>Khalid El-Amin</td>\n",
       "      <td>Bust</td>\n",
       "      <td>uconn</td>\n",
       "      <td>479</td>\n",
       "      <td>10</td>\n",
       "      <td>0.486</td>\n",
       "      <td>0.416</td>\n",
       "      <td>0.257</td>\n",
       "      <td>0.822</td>\n",
       "      <td>...</td>\n",
       "      <td>15.6</td>\n",
       "      <td>188.0</td>\n",
       "      <td>0.158</td>\n",
       "      <td>8.915775</td>\n",
       "      <td>0.186133</td>\n",
       "      <td>30.711959</td>\n",
       "      <td>3.462075</td>\n",
       "      <td>3.629595</td>\n",
       "      <td>5.937645</td>\n",
       "      <td>3.499302</td>\n",
       "    </tr>\n",
       "    <tr>\n",
       "      <th>4</th>\n",
       "      <td>mike-smith-1</td>\n",
       "      <td>Mike Smith</td>\n",
       "      <td>Bust</td>\n",
       "      <td>university of louisiana at monroe</td>\n",
       "      <td>147</td>\n",
       "      <td>42</td>\n",
       "      <td>0.507</td>\n",
       "      <td>0.428</td>\n",
       "      <td>0.357</td>\n",
       "      <td>0.769</td>\n",
       "      <td>...</td>\n",
       "      <td>20.0</td>\n",
       "      <td>241.0</td>\n",
       "      <td>0.165</td>\n",
       "      <td>3.034056</td>\n",
       "      <td>0.866873</td>\n",
       "      <td>21.919505</td>\n",
       "      <td>1.857585</td>\n",
       "      <td>2.683179</td>\n",
       "      <td>9.267286</td>\n",
       "      <td>4.974200</td>\n",
       "    </tr>\n",
       "  </tbody>\n",
       "</table>\n",
       "<p>5 rows × 30 columns</p>\n",
       "</div>"
      ],
      "text/plain": [
       "          player_id            name   class  \\\n",
       "0   kenyon-martin-1   Kenyon Martin  Player   \n",
       "1       aj-guyton-1     A.J. Guyton  Player   \n",
       "2    jake-voskuhl-1    Jake Voskuhl  Player   \n",
       "3  khalid-el-amin-1  Khalid El-Amin    Bust   \n",
       "4      mike-smith-1      Mike Smith    Bust   \n",
       "\n",
       "                             college  assists  blocks  \\\n",
       "0                         cincinnati      142     292   \n",
       "1                            indiana      403      52   \n",
       "2                              uconn      124     193   \n",
       "3                              uconn      479      10   \n",
       "4  university of louisiana at monroe      147      42   \n",
       "\n",
       "   effective_field_goal_percentage  field_goal_percentage  \\\n",
       "0                            0.587                  0.586   \n",
       "1                            0.541                  0.455   \n",
       "2                            0.542                  0.542   \n",
       "3                            0.486                  0.416   \n",
       "4                            0.507                  0.428   \n",
       "\n",
       "   free_throw_attempt_rate  free_throw_percentage  ...  turnover_percentage  \\\n",
       "0                    0.494                  0.581  ...                 14.3   \n",
       "1                    0.249                  0.790  ...                 13.6   \n",
       "2                    0.555                  0.656  ...                 23.0   \n",
       "3                    0.257                  0.822  ...                 15.6   \n",
       "4                    0.357                  0.769  ...                 20.0   \n",
       "\n",
       "   turnovers  win_shares_per_40_minutes  assists_per_40  blocks_per_40  \\\n",
       "0      139.0                      0.346        2.781587       5.719882   \n",
       "1      218.0                      0.145        4.944785       0.638037   \n",
       "2      160.0                      0.237        2.271062       3.534799   \n",
       "3      188.0                      0.158        8.915775       0.186133   \n",
       "4      241.0                      0.165        3.034056       0.866873   \n",
       "\n",
       "   points_per_40  steals_per_40  three_pointers_per_40  total_rebounds_per_40  \\\n",
       "0      25.053869       2.428991               0.039177              17.022527   \n",
       "1      25.766871       1.582822               3.472393               5.263804   \n",
       "2      15.805861       1.575092               0.000000              16.117216   \n",
       "3      30.711959       3.462075               3.629595               5.937645   \n",
       "4      21.919505       1.857585               2.683179               9.267286   \n",
       "\n",
       "   turnovers_per_40  \n",
       "0          2.722821  \n",
       "1          2.674847  \n",
       "2          2.930403  \n",
       "3          3.499302  \n",
       "4          4.974200  \n",
       "\n",
       "[5 rows x 30 columns]"
      ]
     },
     "execution_count": 2,
     "metadata": {},
     "output_type": "execute_result"
    }
   ],
   "source": [
    "df = pd.read_csv('../NCAA_data.csv')\n",
    "df.head()"
   ]
  },
  {
   "cell_type": "code",
   "execution_count": 3,
   "metadata": {},
   "outputs": [],
   "source": [
    "y = df[\"class\"] "
   ]
  },
  {
   "cell_type": "code",
   "execution_count": 4,
   "metadata": {},
   "outputs": [],
   "source": [
    "from sklearn.preprocessing import LabelEncoder\n",
    "y = df[\"class\"]\n",
    "labels = LabelEncoder()\n",
    "labels.fit(y)\n",
    "encoded_y = labels.transform(y)"
   ]
  },
  {
   "cell_type": "code",
   "execution_count": 5,
   "metadata": {},
   "outputs": [
    {
     "data": {
      "text/html": [
       "<div>\n",
       "<style scoped>\n",
       "    .dataframe tbody tr th:only-of-type {\n",
       "        vertical-align: middle;\n",
       "    }\n",
       "\n",
       "    .dataframe tbody tr th {\n",
       "        vertical-align: top;\n",
       "    }\n",
       "\n",
       "    .dataframe thead th {\n",
       "        text-align: right;\n",
       "    }\n",
       "</style>\n",
       "<table border=\"1\" class=\"dataframe\">\n",
       "  <thead>\n",
       "    <tr style=\"text-align: right;\">\n",
       "      <th></th>\n",
       "      <th>player_id</th>\n",
       "      <th>name</th>\n",
       "      <th>class</th>\n",
       "      <th>college</th>\n",
       "      <th>assists</th>\n",
       "      <th>blocks</th>\n",
       "      <th>effective_field_goal_percentage</th>\n",
       "      <th>field_goal_percentage</th>\n",
       "      <th>free_throw_attempt_rate</th>\n",
       "      <th>free_throw_percentage</th>\n",
       "      <th>...</th>\n",
       "      <th>turnovers</th>\n",
       "      <th>win_shares_per_40_minutes</th>\n",
       "      <th>assists_per_40</th>\n",
       "      <th>blocks_per_40</th>\n",
       "      <th>points_per_40</th>\n",
       "      <th>steals_per_40</th>\n",
       "      <th>three_pointers_per_40</th>\n",
       "      <th>total_rebounds_per_40</th>\n",
       "      <th>turnovers_per_40</th>\n",
       "      <th>code</th>\n",
       "    </tr>\n",
       "  </thead>\n",
       "  <tbody>\n",
       "    <tr>\n",
       "      <th>0</th>\n",
       "      <td>kenyon-martin-1</td>\n",
       "      <td>Kenyon Martin</td>\n",
       "      <td>Player</td>\n",
       "      <td>cincinnati</td>\n",
       "      <td>142</td>\n",
       "      <td>292</td>\n",
       "      <td>0.587</td>\n",
       "      <td>0.586</td>\n",
       "      <td>0.494</td>\n",
       "      <td>0.581</td>\n",
       "      <td>...</td>\n",
       "      <td>139.0</td>\n",
       "      <td>0.346</td>\n",
       "      <td>2.781587</td>\n",
       "      <td>5.719882</td>\n",
       "      <td>25.053869</td>\n",
       "      <td>2.428991</td>\n",
       "      <td>0.039177</td>\n",
       "      <td>17.022527</td>\n",
       "      <td>2.722821</td>\n",
       "      <td>1</td>\n",
       "    </tr>\n",
       "    <tr>\n",
       "      <th>1</th>\n",
       "      <td>aj-guyton-1</td>\n",
       "      <td>A.J. Guyton</td>\n",
       "      <td>Player</td>\n",
       "      <td>indiana</td>\n",
       "      <td>403</td>\n",
       "      <td>52</td>\n",
       "      <td>0.541</td>\n",
       "      <td>0.455</td>\n",
       "      <td>0.249</td>\n",
       "      <td>0.790</td>\n",
       "      <td>...</td>\n",
       "      <td>218.0</td>\n",
       "      <td>0.145</td>\n",
       "      <td>4.944785</td>\n",
       "      <td>0.638037</td>\n",
       "      <td>25.766871</td>\n",
       "      <td>1.582822</td>\n",
       "      <td>3.472393</td>\n",
       "      <td>5.263804</td>\n",
       "      <td>2.674847</td>\n",
       "      <td>1</td>\n",
       "    </tr>\n",
       "    <tr>\n",
       "      <th>2</th>\n",
       "      <td>jake-voskuhl-1</td>\n",
       "      <td>Jake Voskuhl</td>\n",
       "      <td>Player</td>\n",
       "      <td>uconn</td>\n",
       "      <td>124</td>\n",
       "      <td>193</td>\n",
       "      <td>0.542</td>\n",
       "      <td>0.542</td>\n",
       "      <td>0.555</td>\n",
       "      <td>0.656</td>\n",
       "      <td>...</td>\n",
       "      <td>160.0</td>\n",
       "      <td>0.237</td>\n",
       "      <td>2.271062</td>\n",
       "      <td>3.534799</td>\n",
       "      <td>15.805861</td>\n",
       "      <td>1.575092</td>\n",
       "      <td>0.000000</td>\n",
       "      <td>16.117216</td>\n",
       "      <td>2.930403</td>\n",
       "      <td>1</td>\n",
       "    </tr>\n",
       "    <tr>\n",
       "      <th>3</th>\n",
       "      <td>khalid-el-amin-1</td>\n",
       "      <td>Khalid El-Amin</td>\n",
       "      <td>Bust</td>\n",
       "      <td>uconn</td>\n",
       "      <td>479</td>\n",
       "      <td>10</td>\n",
       "      <td>0.486</td>\n",
       "      <td>0.416</td>\n",
       "      <td>0.257</td>\n",
       "      <td>0.822</td>\n",
       "      <td>...</td>\n",
       "      <td>188.0</td>\n",
       "      <td>0.158</td>\n",
       "      <td>8.915775</td>\n",
       "      <td>0.186133</td>\n",
       "      <td>30.711959</td>\n",
       "      <td>3.462075</td>\n",
       "      <td>3.629595</td>\n",
       "      <td>5.937645</td>\n",
       "      <td>3.499302</td>\n",
       "      <td>0</td>\n",
       "    </tr>\n",
       "    <tr>\n",
       "      <th>4</th>\n",
       "      <td>mike-smith-1</td>\n",
       "      <td>Mike Smith</td>\n",
       "      <td>Bust</td>\n",
       "      <td>university of louisiana at monroe</td>\n",
       "      <td>147</td>\n",
       "      <td>42</td>\n",
       "      <td>0.507</td>\n",
       "      <td>0.428</td>\n",
       "      <td>0.357</td>\n",
       "      <td>0.769</td>\n",
       "      <td>...</td>\n",
       "      <td>241.0</td>\n",
       "      <td>0.165</td>\n",
       "      <td>3.034056</td>\n",
       "      <td>0.866873</td>\n",
       "      <td>21.919505</td>\n",
       "      <td>1.857585</td>\n",
       "      <td>2.683179</td>\n",
       "      <td>9.267286</td>\n",
       "      <td>4.974200</td>\n",
       "      <td>0</td>\n",
       "    </tr>\n",
       "  </tbody>\n",
       "</table>\n",
       "<p>5 rows × 31 columns</p>\n",
       "</div>"
      ],
      "text/plain": [
       "          player_id            name   class  \\\n",
       "0   kenyon-martin-1   Kenyon Martin  Player   \n",
       "1       aj-guyton-1     A.J. Guyton  Player   \n",
       "2    jake-voskuhl-1    Jake Voskuhl  Player   \n",
       "3  khalid-el-amin-1  Khalid El-Amin    Bust   \n",
       "4      mike-smith-1      Mike Smith    Bust   \n",
       "\n",
       "                             college  assists  blocks  \\\n",
       "0                         cincinnati      142     292   \n",
       "1                            indiana      403      52   \n",
       "2                              uconn      124     193   \n",
       "3                              uconn      479      10   \n",
       "4  university of louisiana at monroe      147      42   \n",
       "\n",
       "   effective_field_goal_percentage  field_goal_percentage  \\\n",
       "0                            0.587                  0.586   \n",
       "1                            0.541                  0.455   \n",
       "2                            0.542                  0.542   \n",
       "3                            0.486                  0.416   \n",
       "4                            0.507                  0.428   \n",
       "\n",
       "   free_throw_attempt_rate  free_throw_percentage  ...  turnovers  \\\n",
       "0                    0.494                  0.581  ...      139.0   \n",
       "1                    0.249                  0.790  ...      218.0   \n",
       "2                    0.555                  0.656  ...      160.0   \n",
       "3                    0.257                  0.822  ...      188.0   \n",
       "4                    0.357                  0.769  ...      241.0   \n",
       "\n",
       "   win_shares_per_40_minutes  assists_per_40  blocks_per_40  points_per_40  \\\n",
       "0                      0.346        2.781587       5.719882      25.053869   \n",
       "1                      0.145        4.944785       0.638037      25.766871   \n",
       "2                      0.237        2.271062       3.534799      15.805861   \n",
       "3                      0.158        8.915775       0.186133      30.711959   \n",
       "4                      0.165        3.034056       0.866873      21.919505   \n",
       "\n",
       "   steals_per_40  three_pointers_per_40  total_rebounds_per_40  \\\n",
       "0       2.428991               0.039177              17.022527   \n",
       "1       1.582822               3.472393               5.263804   \n",
       "2       1.575092               0.000000              16.117216   \n",
       "3       3.462075               3.629595               5.937645   \n",
       "4       1.857585               2.683179               9.267286   \n",
       "\n",
       "   turnovers_per_40  code  \n",
       "0          2.722821     1  \n",
       "1          2.674847     1  \n",
       "2          2.930403     1  \n",
       "3          3.499302     0  \n",
       "4          4.974200     0  \n",
       "\n",
       "[5 rows x 31 columns]"
      ]
     },
     "execution_count": 5,
     "metadata": {},
     "output_type": "execute_result"
    }
   ],
   "source": [
    "en_y = encoded_y\n",
    "df[\"code\"]=en_y\n",
    "df.head()"
   ]
  },
  {
   "cell_type": "code",
   "execution_count": 6,
   "metadata": {},
   "outputs": [
    {
     "data": {
      "text/html": [
       "<div>\n",
       "<style scoped>\n",
       "    .dataframe tbody tr th:only-of-type {\n",
       "        vertical-align: middle;\n",
       "    }\n",
       "\n",
       "    .dataframe tbody tr th {\n",
       "        vertical-align: top;\n",
       "    }\n",
       "\n",
       "    .dataframe thead th {\n",
       "        text-align: right;\n",
       "    }\n",
       "</style>\n",
       "<table border=\"1\" class=\"dataframe\">\n",
       "  <thead>\n",
       "    <tr style=\"text-align: right;\">\n",
       "      <th></th>\n",
       "      <th>class</th>\n",
       "      <th>code</th>\n",
       "    </tr>\n",
       "  </thead>\n",
       "  <tbody>\n",
       "    <tr>\n",
       "      <th>0</th>\n",
       "      <td>Player</td>\n",
       "      <td>1</td>\n",
       "    </tr>\n",
       "    <tr>\n",
       "      <th>3</th>\n",
       "      <td>Bust</td>\n",
       "      <td>0</td>\n",
       "    </tr>\n",
       "  </tbody>\n",
       "</table>\n",
       "</div>"
      ],
      "text/plain": [
       "    class  code\n",
       "0  Player     1\n",
       "3    Bust     0"
      ]
     },
     "execution_count": 6,
     "metadata": {},
     "output_type": "execute_result"
    }
   ],
   "source": [
    "labels_df = pd.DataFrame({\"class\": y, \"code\": encoded_y}).drop_duplicates(subset=None, keep=\"first\")\n",
    "labels_df"
   ]
  },
  {
   "cell_type": "code",
   "execution_count": 7,
   "metadata": {},
   "outputs": [],
   "source": [
    "encoded_y =encoded_y.reshape(-1, 1)"
   ]
  },
  {
   "cell_type": "code",
   "execution_count": 16,
   "metadata": {},
   "outputs": [
    {
     "data": {
      "text/html": [
       "<div>\n",
       "<style scoped>\n",
       "    .dataframe tbody tr th:only-of-type {\n",
       "        vertical-align: middle;\n",
       "    }\n",
       "\n",
       "    .dataframe tbody tr th {\n",
       "        vertical-align: top;\n",
       "    }\n",
       "\n",
       "    .dataframe thead th {\n",
       "        text-align: right;\n",
       "    }\n",
       "</style>\n",
       "<table border=\"1\" class=\"dataframe\">\n",
       "  <thead>\n",
       "    <tr style=\"text-align: right;\">\n",
       "      <th></th>\n",
       "      <th>field_goal_percentage</th>\n",
       "      <th>free_throw_attempt_rate</th>\n",
       "      <th>height</th>\n",
       "      <th>three_point_percentage</th>\n",
       "      <th>true_shooting_percentage</th>\n",
       "      <th>win_shares_per_40_minutes</th>\n",
       "    </tr>\n",
       "  </thead>\n",
       "  <tbody>\n",
       "    <tr>\n",
       "      <th>0</th>\n",
       "      <td>0.586</td>\n",
       "      <td>0.494</td>\n",
       "      <td>81</td>\n",
       "      <td>0.222000</td>\n",
       "      <td>0.592</td>\n",
       "      <td>0.346</td>\n",
       "    </tr>\n",
       "    <tr>\n",
       "      <th>1</th>\n",
       "      <td>0.455</td>\n",
       "      <td>0.249</td>\n",
       "      <td>73</td>\n",
       "      <td>0.414000</td>\n",
       "      <td>0.572</td>\n",
       "      <td>0.145</td>\n",
       "    </tr>\n",
       "    <tr>\n",
       "      <th>2</th>\n",
       "      <td>0.542</td>\n",
       "      <td>0.555</td>\n",
       "      <td>83</td>\n",
       "      <td>0.329162</td>\n",
       "      <td>0.573</td>\n",
       "      <td>0.237</td>\n",
       "    </tr>\n",
       "    <tr>\n",
       "      <th>3</th>\n",
       "      <td>0.416</td>\n",
       "      <td>0.257</td>\n",
       "      <td>70</td>\n",
       "      <td>0.355000</td>\n",
       "      <td>0.527</td>\n",
       "      <td>0.158</td>\n",
       "    </tr>\n",
       "    <tr>\n",
       "      <th>4</th>\n",
       "      <td>0.428</td>\n",
       "      <td>0.357</td>\n",
       "      <td>80</td>\n",
       "      <td>0.318000</td>\n",
       "      <td>0.551</td>\n",
       "      <td>0.165</td>\n",
       "    </tr>\n",
       "  </tbody>\n",
       "</table>\n",
       "</div>"
      ],
      "text/plain": [
       "   field_goal_percentage  free_throw_attempt_rate  height  \\\n",
       "0                  0.586                    0.494      81   \n",
       "1                  0.455                    0.249      73   \n",
       "2                  0.542                    0.555      83   \n",
       "3                  0.416                    0.257      70   \n",
       "4                  0.428                    0.357      80   \n",
       "\n",
       "   three_point_percentage  true_shooting_percentage  win_shares_per_40_minutes  \n",
       "0                0.222000                     0.592                      0.346  \n",
       "1                0.414000                     0.572                      0.145  \n",
       "2                0.329162                     0.573                      0.237  \n",
       "3                0.355000                     0.527                      0.158  \n",
       "4                0.318000                     0.551                      0.165  "
      ]
     },
     "execution_count": 16,
     "metadata": {},
     "output_type": "execute_result"
    }
   ],
   "source": [
    "X = df.drop([\"class\",\"player_id\",\"name\",\"college\",'assists_per_40',\n",
    "            'turnovers','points','blocks_per_40','turnover_percentage',\n",
    "            'blocks','steals','assists','three_pointers_per_40','three_pointers',\n",
    "            'total_rebounds', 'free_throw_percentage', \n",
    "             'games_played','minutes_played', 'points_per_40','steals_per_40',\n",
    "            'total_rebounds_per_40','turnovers_per_40', \"code\", \"effective_field_goal_percentage\", \"big_conf_flag\"], axis=1)\n",
    "feature_names = X.columns\n",
    "X.head()"
   ]
  },
  {
   "cell_type": "code",
   "execution_count": 17,
   "metadata": {},
   "outputs": [
    {
     "name": "stdout",
     "output_type": "stream",
     "text": [
      "(853, 6)\n",
      "(853,)\n"
     ]
    }
   ],
   "source": [
    "print(X.shape)\n",
    "print(y.shape)"
   ]
  },
  {
   "cell_type": "code",
   "execution_count": 18,
   "metadata": {},
   "outputs": [],
   "source": [
    "from sklearn.model_selection import train_test_split\n",
    "\n",
    "X_train, X_test, y_train, y_test = train_test_split(X, encoded_y, random_state=42)"
   ]
  },
  {
   "cell_type": "code",
   "execution_count": 19,
   "metadata": {},
   "outputs": [],
   "source": [
    "from sklearn.preprocessing import MinMaxScaler\n",
    "X_scaler = MinMaxScaler().fit(X_train)\n",
    "# y_scaler = MinMaxScaler().fit(y_train)\n",
    "\n",
    "X_train_scaled = X_scaler.transform(X_train)\n",
    "X_test_scaled = X_scaler.transform(X_test)\n",
    "# y_train_scaled = y_scaler.transform(y_train)\n",
    "# y_test_scaled = y_scaler.transform(y_test)\n"
   ]
  },
  {
   "cell_type": "code",
   "execution_count": 20,
   "metadata": {},
   "outputs": [
    {
     "name": "stderr",
     "output_type": "stream",
     "text": [
      "C:\\Users\\woodf\\Anaconda3\\lib\\site-packages\\ipykernel_launcher.py:3: DataConversionWarning: A column-vector y was passed when a 1d array was expected. Please change the shape of y to (n_samples,), for example using ravel().\n",
      "  This is separate from the ipykernel package so we can avoid doing imports until\n"
     ]
    },
    {
     "data": {
      "text/plain": [
       "0.6635514018691588"
      ]
     },
     "execution_count": 20,
     "metadata": {},
     "output_type": "execute_result"
    }
   ],
   "source": [
    "# Create a random forest classifier\n",
    "rf = RandomForestClassifier(n_estimators=200)\n",
    "rf = rf.fit(X_train_scaled, y_train)\n",
    "rf.score(X_test_scaled, y_test)"
   ]
  },
  {
   "cell_type": "code",
   "execution_count": 21,
   "metadata": {},
   "outputs": [
    {
     "data": {
      "text/plain": [
       "array([0.18774735, 0.17776777, 0.10033457, 0.16404067, 0.17623189,\n",
       "       0.19387776])"
      ]
     },
     "execution_count": 21,
     "metadata": {},
     "output_type": "execute_result"
    }
   ],
   "source": [
    "# Random Forests in sklearn will automatically calculate feature importance\n",
    "importances = rf.feature_importances_\n",
    "importances"
   ]
  },
  {
   "cell_type": "code",
   "execution_count": 22,
   "metadata": {},
   "outputs": [
    {
     "data": {
      "text/plain": [
       "[(0.19387775706998986, 'win_shares_per_40_minutes'),\n",
       " (0.18774735092937345, 'field_goal_percentage'),\n",
       " (0.17776776674487452, 'free_throw_attempt_rate'),\n",
       " (0.17623189190162003, 'true_shooting_percentage'),\n",
       " (0.16404066564370198, 'three_point_percentage'),\n",
       " (0.10033456771044019, 'height')]"
      ]
     },
     "execution_count": 22,
     "metadata": {},
     "output_type": "execute_result"
    }
   ],
   "source": [
    "# We can sort the features by their importance\n",
    "sorted(zip(rf.feature_importances_, feature_names), reverse=True)"
   ]
  },
  {
   "cell_type": "code",
   "execution_count": 24,
   "metadata": {},
   "outputs": [],
   "source": [
    "# Create the GridSearch estimator along with a parameter object containing the values to adjust\n",
    "from sklearn.model_selection import GridSearchCV\n",
    "param_grid = {\"n_estimators\": [50, 100 ,200, 500]}\n",
    "grid = GridSearchCV(rf, param_grid, verbose=3)"
   ]
  },
  {
   "cell_type": "code",
   "execution_count": 25,
   "metadata": {},
   "outputs": [
    {
     "name": "stdout",
     "output_type": "stream",
     "text": [
      "Fitting 5 folds for each of 4 candidates, totalling 20 fits\n",
      "[CV] n_estimators=50 .................................................\n",
      "[CV] ..................... n_estimators=50, score=0.719, total=   0.1s\n",
      "[CV] n_estimators=50 .................................................\n",
      "[CV] ..................... n_estimators=50, score=0.719, total=   0.1s\n",
      "[CV] n_estimators=50 .................................................\n"
     ]
    },
    {
     "name": "stderr",
     "output_type": "stream",
     "text": [
      "[Parallel(n_jobs=1)]: Using backend SequentialBackend with 1 concurrent workers.\n",
      "C:\\Users\\woodf\\Anaconda3\\lib\\site-packages\\sklearn\\model_selection\\_validation.py:515: DataConversionWarning: A column-vector y was passed when a 1d array was expected. Please change the shape of y to (n_samples,), for example using ravel().\n",
      "  estimator.fit(X_train, y_train, **fit_params)\n",
      "[Parallel(n_jobs=1)]: Done   1 out of   1 | elapsed:    0.0s remaining:    0.0s\n",
      "C:\\Users\\woodf\\Anaconda3\\lib\\site-packages\\sklearn\\model_selection\\_validation.py:515: DataConversionWarning: A column-vector y was passed when a 1d array was expected. Please change the shape of y to (n_samples,), for example using ravel().\n",
      "  estimator.fit(X_train, y_train, **fit_params)\n",
      "[Parallel(n_jobs=1)]: Done   2 out of   2 | elapsed:    0.1s remaining:    0.0s\n",
      "C:\\Users\\woodf\\Anaconda3\\lib\\site-packages\\sklearn\\model_selection\\_validation.py:515: DataConversionWarning: A column-vector y was passed when a 1d array was expected. Please change the shape of y to (n_samples,), for example using ravel().\n",
      "  estimator.fit(X_train, y_train, **fit_params)\n"
     ]
    },
    {
     "name": "stdout",
     "output_type": "stream",
     "text": [
      "[CV] ..................... n_estimators=50, score=0.734, total=   0.1s\n",
      "[CV] n_estimators=50 .................................................\n",
      "[CV] ..................... n_estimators=50, score=0.758, total=   0.1s\n",
      "[CV] n_estimators=50 .................................................\n",
      "[CV] ..................... n_estimators=50, score=0.732, total=   0.1s\n",
      "[CV] n_estimators=100 ................................................\n"
     ]
    },
    {
     "name": "stderr",
     "output_type": "stream",
     "text": [
      "C:\\Users\\woodf\\Anaconda3\\lib\\site-packages\\sklearn\\model_selection\\_validation.py:515: DataConversionWarning: A column-vector y was passed when a 1d array was expected. Please change the shape of y to (n_samples,), for example using ravel().\n",
      "  estimator.fit(X_train, y_train, **fit_params)\n",
      "C:\\Users\\woodf\\Anaconda3\\lib\\site-packages\\sklearn\\model_selection\\_validation.py:515: DataConversionWarning: A column-vector y was passed when a 1d array was expected. Please change the shape of y to (n_samples,), for example using ravel().\n",
      "  estimator.fit(X_train, y_train, **fit_params)\n",
      "C:\\Users\\woodf\\Anaconda3\\lib\\site-packages\\sklearn\\model_selection\\_validation.py:515: DataConversionWarning: A column-vector y was passed when a 1d array was expected. Please change the shape of y to (n_samples,), for example using ravel().\n",
      "  estimator.fit(X_train, y_train, **fit_params)\n"
     ]
    },
    {
     "name": "stdout",
     "output_type": "stream",
     "text": [
      "[CV] .................... n_estimators=100, score=0.719, total=   0.1s\n",
      "[CV] n_estimators=100 ................................................\n",
      "[CV] .................... n_estimators=100, score=0.711, total=   0.1s\n",
      "[CV] n_estimators=100 ................................................\n"
     ]
    },
    {
     "name": "stderr",
     "output_type": "stream",
     "text": [
      "C:\\Users\\woodf\\Anaconda3\\lib\\site-packages\\sklearn\\model_selection\\_validation.py:515: DataConversionWarning: A column-vector y was passed when a 1d array was expected. Please change the shape of y to (n_samples,), for example using ravel().\n",
      "  estimator.fit(X_train, y_train, **fit_params)\n",
      "C:\\Users\\woodf\\Anaconda3\\lib\\site-packages\\sklearn\\model_selection\\_validation.py:515: DataConversionWarning: A column-vector y was passed when a 1d array was expected. Please change the shape of y to (n_samples,), for example using ravel().\n",
      "  estimator.fit(X_train, y_train, **fit_params)\n"
     ]
    },
    {
     "name": "stdout",
     "output_type": "stream",
     "text": [
      "[CV] .................... n_estimators=100, score=0.766, total=   0.1s\n",
      "[CV] n_estimators=100 ................................................\n",
      "[CV] .................... n_estimators=100, score=0.758, total=   0.1s\n",
      "[CV] n_estimators=100 ................................................\n"
     ]
    },
    {
     "name": "stderr",
     "output_type": "stream",
     "text": [
      "C:\\Users\\woodf\\Anaconda3\\lib\\site-packages\\sklearn\\model_selection\\_validation.py:515: DataConversionWarning: A column-vector y was passed when a 1d array was expected. Please change the shape of y to (n_samples,), for example using ravel().\n",
      "  estimator.fit(X_train, y_train, **fit_params)\n",
      "C:\\Users\\woodf\\Anaconda3\\lib\\site-packages\\sklearn\\model_selection\\_validation.py:515: DataConversionWarning: A column-vector y was passed when a 1d array was expected. Please change the shape of y to (n_samples,), for example using ravel().\n",
      "  estimator.fit(X_train, y_train, **fit_params)\n"
     ]
    },
    {
     "name": "stdout",
     "output_type": "stream",
     "text": [
      "[CV] .................... n_estimators=100, score=0.740, total=   0.1s\n",
      "[CV] n_estimators=200 ................................................\n"
     ]
    },
    {
     "name": "stderr",
     "output_type": "stream",
     "text": [
      "C:\\Users\\woodf\\Anaconda3\\lib\\site-packages\\sklearn\\model_selection\\_validation.py:515: DataConversionWarning: A column-vector y was passed when a 1d array was expected. Please change the shape of y to (n_samples,), for example using ravel().\n",
      "  estimator.fit(X_train, y_train, **fit_params)\n"
     ]
    },
    {
     "name": "stdout",
     "output_type": "stream",
     "text": [
      "[CV] .................... n_estimators=200, score=0.727, total=   0.3s\n",
      "[CV] n_estimators=200 ................................................\n"
     ]
    },
    {
     "name": "stderr",
     "output_type": "stream",
     "text": [
      "C:\\Users\\woodf\\Anaconda3\\lib\\site-packages\\sklearn\\model_selection\\_validation.py:515: DataConversionWarning: A column-vector y was passed when a 1d array was expected. Please change the shape of y to (n_samples,), for example using ravel().\n",
      "  estimator.fit(X_train, y_train, **fit_params)\n"
     ]
    },
    {
     "name": "stdout",
     "output_type": "stream",
     "text": [
      "[CV] .................... n_estimators=200, score=0.719, total=   0.3s\n",
      "[CV] n_estimators=200 ................................................\n"
     ]
    },
    {
     "name": "stderr",
     "output_type": "stream",
     "text": [
      "C:\\Users\\woodf\\Anaconda3\\lib\\site-packages\\sklearn\\model_selection\\_validation.py:515: DataConversionWarning: A column-vector y was passed when a 1d array was expected. Please change the shape of y to (n_samples,), for example using ravel().\n",
      "  estimator.fit(X_train, y_train, **fit_params)\n"
     ]
    },
    {
     "name": "stdout",
     "output_type": "stream",
     "text": [
      "[CV] .................... n_estimators=200, score=0.773, total=   0.3s\n",
      "[CV] n_estimators=200 ................................................\n"
     ]
    },
    {
     "name": "stderr",
     "output_type": "stream",
     "text": [
      "C:\\Users\\woodf\\Anaconda3\\lib\\site-packages\\sklearn\\model_selection\\_validation.py:515: DataConversionWarning: A column-vector y was passed when a 1d array was expected. Please change the shape of y to (n_samples,), for example using ravel().\n",
      "  estimator.fit(X_train, y_train, **fit_params)\n"
     ]
    },
    {
     "name": "stdout",
     "output_type": "stream",
     "text": [
      "[CV] .................... n_estimators=200, score=0.766, total=   0.3s\n",
      "[CV] n_estimators=200 ................................................\n"
     ]
    },
    {
     "name": "stderr",
     "output_type": "stream",
     "text": [
      "C:\\Users\\woodf\\Anaconda3\\lib\\site-packages\\sklearn\\model_selection\\_validation.py:515: DataConversionWarning: A column-vector y was passed when a 1d array was expected. Please change the shape of y to (n_samples,), for example using ravel().\n",
      "  estimator.fit(X_train, y_train, **fit_params)\n"
     ]
    },
    {
     "name": "stdout",
     "output_type": "stream",
     "text": [
      "[CV] .................... n_estimators=200, score=0.724, total=   0.3s\n",
      "[CV] n_estimators=500 ................................................\n"
     ]
    },
    {
     "name": "stderr",
     "output_type": "stream",
     "text": [
      "C:\\Users\\woodf\\Anaconda3\\lib\\site-packages\\sklearn\\model_selection\\_validation.py:515: DataConversionWarning: A column-vector y was passed when a 1d array was expected. Please change the shape of y to (n_samples,), for example using ravel().\n",
      "  estimator.fit(X_train, y_train, **fit_params)\n"
     ]
    },
    {
     "name": "stdout",
     "output_type": "stream",
     "text": [
      "[CV] .................... n_estimators=500, score=0.727, total=   0.7s\n",
      "[CV] n_estimators=500 ................................................\n"
     ]
    },
    {
     "name": "stderr",
     "output_type": "stream",
     "text": [
      "C:\\Users\\woodf\\Anaconda3\\lib\\site-packages\\sklearn\\model_selection\\_validation.py:515: DataConversionWarning: A column-vector y was passed when a 1d array was expected. Please change the shape of y to (n_samples,), for example using ravel().\n",
      "  estimator.fit(X_train, y_train, **fit_params)\n"
     ]
    },
    {
     "name": "stdout",
     "output_type": "stream",
     "text": [
      "[CV] .................... n_estimators=500, score=0.727, total=   0.7s\n",
      "[CV] n_estimators=500 ................................................\n"
     ]
    },
    {
     "name": "stderr",
     "output_type": "stream",
     "text": [
      "C:\\Users\\woodf\\Anaconda3\\lib\\site-packages\\sklearn\\model_selection\\_validation.py:515: DataConversionWarning: A column-vector y was passed when a 1d array was expected. Please change the shape of y to (n_samples,), for example using ravel().\n",
      "  estimator.fit(X_train, y_train, **fit_params)\n"
     ]
    },
    {
     "name": "stdout",
     "output_type": "stream",
     "text": [
      "[CV] .................... n_estimators=500, score=0.773, total=   0.7s\n",
      "[CV] n_estimators=500 ................................................\n"
     ]
    },
    {
     "name": "stderr",
     "output_type": "stream",
     "text": [
      "C:\\Users\\woodf\\Anaconda3\\lib\\site-packages\\sklearn\\model_selection\\_validation.py:515: DataConversionWarning: A column-vector y was passed when a 1d array was expected. Please change the shape of y to (n_samples,), for example using ravel().\n",
      "  estimator.fit(X_train, y_train, **fit_params)\n"
     ]
    },
    {
     "name": "stdout",
     "output_type": "stream",
     "text": [
      "[CV] .................... n_estimators=500, score=0.773, total=   0.7s\n",
      "[CV] n_estimators=500 ................................................\n"
     ]
    },
    {
     "name": "stderr",
     "output_type": "stream",
     "text": [
      "C:\\Users\\woodf\\Anaconda3\\lib\\site-packages\\sklearn\\model_selection\\_validation.py:515: DataConversionWarning: A column-vector y was passed when a 1d array was expected. Please change the shape of y to (n_samples,), for example using ravel().\n",
      "  estimator.fit(X_train, y_train, **fit_params)\n"
     ]
    },
    {
     "name": "stdout",
     "output_type": "stream",
     "text": [
      "[CV] .................... n_estimators=500, score=0.732, total=   0.7s\n"
     ]
    },
    {
     "name": "stderr",
     "output_type": "stream",
     "text": [
      "[Parallel(n_jobs=1)]: Done  20 out of  20 | elapsed:    5.9s finished\n",
      "C:\\Users\\woodf\\Anaconda3\\lib\\site-packages\\sklearn\\model_selection\\_search.py:739: DataConversionWarning: A column-vector y was passed when a 1d array was expected. Please change the shape of y to (n_samples,), for example using ravel().\n",
      "  self.best_estimator_.fit(X, y, **fit_params)\n"
     ]
    },
    {
     "data": {
      "text/plain": [
       "GridSearchCV(cv=None, error_score=nan,\n",
       "             estimator=RandomForestClassifier(bootstrap=True, ccp_alpha=0.0,\n",
       "                                              class_weight=None,\n",
       "                                              criterion='gini', max_depth=None,\n",
       "                                              max_features='auto',\n",
       "                                              max_leaf_nodes=None,\n",
       "                                              max_samples=None,\n",
       "                                              min_impurity_decrease=0.0,\n",
       "                                              min_impurity_split=None,\n",
       "                                              min_samples_leaf=1,\n",
       "                                              min_samples_split=2,\n",
       "                                              min_weight_fraction_leaf=0.0,\n",
       "                                              n_estimators=200, n_jobs=None,\n",
       "                                              oob_score=False,\n",
       "                                              random_state=None, verbose=0,\n",
       "                                              warm_start=False),\n",
       "             iid='deprecated', n_jobs=None,\n",
       "             param_grid={'n_estimators': [50, 100, 200, 500]},\n",
       "             pre_dispatch='2*n_jobs', refit=True, return_train_score=False,\n",
       "             scoring=None, verbose=3)"
      ]
     },
     "execution_count": 25,
     "metadata": {},
     "output_type": "execute_result"
    }
   ],
   "source": [
    "# Fit the model using the grid search estimator. \n",
    "grid.fit(X_train, y_train)"
   ]
  },
  {
   "cell_type": "code",
   "execution_count": 26,
   "metadata": {},
   "outputs": [
    {
     "name": "stdout",
     "output_type": "stream",
     "text": [
      "{'n_estimators': 500}\n"
     ]
    }
   ],
   "source": [
    "# List the best parameters for this dataset\n",
    "print(grid.best_params_)"
   ]
  },
  {
   "cell_type": "code",
   "execution_count": 27,
   "metadata": {},
   "outputs": [
    {
     "name": "stdout",
     "output_type": "stream",
     "text": [
      "0.7464566929133858\n"
     ]
    }
   ],
   "source": [
    "# List the best score\n",
    "print(grid.best_score_)"
   ]
  },
  {
   "cell_type": "code",
   "execution_count": 28,
   "metadata": {},
   "outputs": [
    {
     "data": {
      "text/plain": [
       "RandomForestClassifier(bootstrap=True, ccp_alpha=0.0, class_weight=None,\n",
       "                       criterion='gini', max_depth=None, max_features='auto',\n",
       "                       max_leaf_nodes=None, max_samples=None,\n",
       "                       min_impurity_decrease=0.0, min_impurity_split=None,\n",
       "                       min_samples_leaf=1, min_samples_split=2,\n",
       "                       min_weight_fraction_leaf=0.0, n_estimators=500,\n",
       "                       n_jobs=None, oob_score=False, random_state=None,\n",
       "                       verbose=0, warm_start=False)"
      ]
     },
     "execution_count": 28,
     "metadata": {},
     "output_type": "execute_result"
    }
   ],
   "source": [
    "model = grid.best_estimator_\n",
    "model"
   ]
  },
  {
   "cell_type": "code",
   "execution_count": 29,
   "metadata": {},
   "outputs": [],
   "source": [
    "# Make predictions with the hypertuned model\n",
    "predictions = grid.predict(X_test)"
   ]
  },
  {
   "cell_type": "code",
   "execution_count": 30,
   "metadata": {},
   "outputs": [
    {
     "name": "stdout",
     "output_type": "stream",
     "text": [
      "              precision    recall  f1-score   support\n",
      "\n",
      "           0       0.56      0.14      0.22        73\n",
      "           1       0.68      0.94      0.79       141\n",
      "\n",
      "    accuracy                           0.67       214\n",
      "   macro avg       0.62      0.54      0.50       214\n",
      "weighted avg       0.64      0.67      0.60       214\n",
      "\n"
     ]
    }
   ],
   "source": [
    "# Calculate classification report\n",
    "from sklearn.metrics import classification_report\n",
    "print(classification_report(y_test, predictions))"
   ]
  },
  {
   "cell_type": "code",
   "execution_count": 31,
   "metadata": {},
   "outputs": [],
   "source": [
    "import pickle\n",
    "\n",
    "filename = 'random_forest.pkl'\n",
    "pickle.dump(model, open(filename, 'wb'))\n"
   ]
  },
  {
   "cell_type": "code",
   "execution_count": 32,
   "metadata": {},
   "outputs": [
    {
     "name": "stdout",
     "output_type": "stream",
     "text": [
      "0.6682242990654206\n"
     ]
    }
   ],
   "source": [
    "# load the model from disk\n",
    "loaded_model = pickle.load(open(filename, 'rb'))\n",
    "result = loaded_model.score(X_test, y_test)\n",
    "print(result)"
   ]
  },
  {
   "cell_type": "code",
   "execution_count": null,
   "metadata": {},
   "outputs": [],
   "source": []
  },
  {
   "cell_type": "code",
   "execution_count": null,
   "metadata": {},
   "outputs": [],
   "source": []
  }
 ],
 "metadata": {
  "kernelspec": {
   "display_name": "Python 3",
   "language": "python",
   "name": "python3"
  },
  "language_info": {
   "codemirror_mode": {
    "name": "ipython",
    "version": 3
   },
   "file_extension": ".py",
   "mimetype": "text/x-python",
   "name": "python",
   "nbconvert_exporter": "python",
   "pygments_lexer": "ipython3",
   "version": "3.7.3"
  }
 },
 "nbformat": 4,
 "nbformat_minor": 2
}
